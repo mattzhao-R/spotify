{
 "cells": [
  {
   "cell_type": "code",
   "execution_count": 5,
   "metadata": {},
   "outputs": [],
   "source": [
    "import numpy as np\n",
    "import pandas as pd\n",
    "import warnings\n",
    "warnings.filterwarnings('ignore')\n",
    "from collections import Counter\n",
    "from tqdm.notebook import tqdm\n",
    "import json\n",
    "import os\n",
    "import time\n",
    "import spotipy\n",
    "from spotipy.oauth2 import SpotifyClientCredentials\n",
    "\n",
    "import matplotlib.pyplot as plt\n",
    "plt.rc('font', size=14)\n",
    "import seaborn as sns\n",
    "sns.set(style='whitegrid', color_codes=True, rc={'figure.figsize':(11,8)}, font_scale=2)"
   ]
  },
  {
   "cell_type": "code",
   "execution_count": 3,
   "metadata": {},
   "outputs": [],
   "source": [
    "#os.chdir('/c/Users/matth/Documents/Coding/spotify/')"
   ]
  },
  {
   "cell_type": "code",
   "execution_count": 4,
   "metadata": {},
   "outputs": [],
   "source": [
    "#!pwd"
   ]
  },
  {
   "cell_type": "markdown",
   "metadata": {},
   "source": [
    "## Loading and Tidying Streaming Data"
   ]
  },
  {
   "cell_type": "markdown",
   "metadata": {},
   "source": [
    "### Loading"
   ]
  },
  {
   "cell_type": "code",
   "execution_count": 8,
   "metadata": {},
   "outputs": [],
   "source": [
    "# read streaming data and concat rows\n",
    "strm_base = pd.DataFrame()\n",
    "for file in os.listdir(\"./data\"):\n",
    "    if file.startswith(\"Streaming\"):\n",
    "        file_path = \"./data/\" + file\n",
    "        temp = pd.read_json(file_path)\n",
    "        strm_base = pd.concat([strm_base,temp])"
   ]
  },
  {
   "cell_type": "code",
   "execution_count": 9,
   "metadata": {},
   "outputs": [
    {
     "data": {
      "text/html": [
       "<div>\n",
       "<style scoped>\n",
       "    .dataframe tbody tr th:only-of-type {\n",
       "        vertical-align: middle;\n",
       "    }\n",
       "\n",
       "    .dataframe tbody tr th {\n",
       "        vertical-align: top;\n",
       "    }\n",
       "\n",
       "    .dataframe thead th {\n",
       "        text-align: right;\n",
       "    }\n",
       "</style>\n",
       "<table border=\"1\" class=\"dataframe\">\n",
       "  <thead>\n",
       "    <tr style=\"text-align: right;\">\n",
       "      <th></th>\n",
       "      <th>endTime</th>\n",
       "      <th>artistName</th>\n",
       "      <th>trackName</th>\n",
       "      <th>msPlayed</th>\n",
       "    </tr>\n",
       "  </thead>\n",
       "  <tbody>\n",
       "    <tr>\n",
       "      <th>0</th>\n",
       "      <td>2021-11-05 01:35</td>\n",
       "      <td>Grant</td>\n",
       "      <td>Weapon</td>\n",
       "      <td>980</td>\n",
       "    </tr>\n",
       "    <tr>\n",
       "      <th>1</th>\n",
       "      <td>2021-11-05 01:35</td>\n",
       "      <td>LVTHER</td>\n",
       "      <td>This Love</td>\n",
       "      <td>0</td>\n",
       "    </tr>\n",
       "    <tr>\n",
       "      <th>2</th>\n",
       "      <td>2021-11-05 01:35</td>\n",
       "      <td>Hellberg</td>\n",
       "      <td>Synchronize - VIP</td>\n",
       "      <td>670</td>\n",
       "    </tr>\n",
       "    <tr>\n",
       "      <th>3</th>\n",
       "      <td>2021-11-05 01:35</td>\n",
       "      <td>Vicetone</td>\n",
       "      <td>I Hear You</td>\n",
       "      <td>570</td>\n",
       "    </tr>\n",
       "    <tr>\n",
       "      <th>4</th>\n",
       "      <td>2021-11-05 01:35</td>\n",
       "      <td>Tritonal</td>\n",
       "      <td>Getaway</td>\n",
       "      <td>0</td>\n",
       "    </tr>\n",
       "  </tbody>\n",
       "</table>\n",
       "</div>"
      ],
      "text/plain": [
       "            endTime artistName          trackName  msPlayed\n",
       "0  2021-11-05 01:35      Grant             Weapon       980\n",
       "1  2021-11-05 01:35     LVTHER          This Love         0\n",
       "2  2021-11-05 01:35   Hellberg  Synchronize - VIP       670\n",
       "3  2021-11-05 01:35   Vicetone         I Hear You       570\n",
       "4  2021-11-05 01:35   Tritonal            Getaway         0"
      ]
     },
     "execution_count": 9,
     "metadata": {},
     "output_type": "execute_result"
    }
   ],
   "source": [
    "strm_base.head()"
   ]
  },
  {
   "cell_type": "markdown",
   "metadata": {},
   "source": [
    "### Tidying"
   ]
  },
  {
   "cell_type": "code",
   "execution_count": 10,
   "metadata": {},
   "outputs": [
    {
     "name": "stdout",
     "output_type": "stream",
     "text": [
      "<class 'pandas.core.frame.DataFrame'>\n",
      "Int64Index: 20586 entries, 0 to 585\n",
      "Data columns (total 4 columns):\n",
      " #   Column      Non-Null Count  Dtype \n",
      "---  ------      --------------  ----- \n",
      " 0   endTime     20586 non-null  object\n",
      " 1   artistName  20586 non-null  object\n",
      " 2   trackName   20586 non-null  object\n",
      " 3   msPlayed    20586 non-null  int64 \n",
      "dtypes: int64(1), object(3)\n",
      "memory usage: 804.1+ KB\n"
     ]
    }
   ],
   "source": [
    "strm_base.info()"
   ]
  },
  {
   "cell_type": "code",
   "execution_count": 11,
   "metadata": {},
   "outputs": [],
   "source": [
    "strm_base.index = range(0,strm_base.shape[0])\n",
    "strm_base = strm_base.astype({'endTime': 'datetime64','artistName':'string','trackName':'string'})"
   ]
  },
  {
   "cell_type": "code",
   "execution_count": 12,
   "metadata": {},
   "outputs": [
    {
     "name": "stdout",
     "output_type": "stream",
     "text": [
      "<class 'pandas.core.frame.DataFrame'>\n",
      "RangeIndex: 20586 entries, 0 to 20585\n",
      "Data columns (total 4 columns):\n",
      " #   Column      Non-Null Count  Dtype         \n",
      "---  ------      --------------  -----         \n",
      " 0   endTime     20586 non-null  datetime64[ns]\n",
      " 1   artistName  20586 non-null  string        \n",
      " 2   trackName   20586 non-null  string        \n",
      " 3   msPlayed    20586 non-null  int64         \n",
      "dtypes: datetime64[ns](1), int64(1), string(2)\n",
      "memory usage: 643.4 KB\n"
     ]
    }
   ],
   "source": [
    "strm_base.info()"
   ]
  },
  {
   "cell_type": "markdown",
   "metadata": {},
   "source": [
    "## Spotify API\n",
    "### Initial Exploration\n",
    "#### Initializing spotify object"
   ]
  },
  {
   "cell_type": "code",
   "execution_count": 6,
   "metadata": {},
   "outputs": [],
   "source": [
    "# add your own credentials in dev_creds.py\n",
    "from dev_creds import get_creds, alt_creds\n",
    "cid, secret = get_creds()"
   ]
  },
  {
   "cell_type": "code",
   "execution_count": 7,
   "metadata": {},
   "outputs": [],
   "source": [
    "client_credentials_manager = SpotifyClientCredentials(client_id=cid,client_secret=secret)\n",
    "sp = spotipy.Spotify(client_credentials_manager=client_credentials_manager)"
   ]
  },
  {
   "cell_type": "code",
   "execution_count": 8,
   "metadata": {},
   "outputs": [
    {
     "name": "stdout",
     "output_type": "stream",
     "text": [
      "29548aaefa2b41f695b01501f57a56a9\n",
      "3f15d47c280642a98fdd3db7b7648e50\n"
     ]
    }
   ],
   "source": [
    "print(cid)\n",
    "print(secret)"
   ]
  },
  {
   "cell_type": "code",
   "execution_count": 9,
   "metadata": {},
   "outputs": [],
   "source": [
    "# test code\n",
    "playlist_link = \"https://open.spotify.com/playlist/37i9dQZEVXbNG2KDcFcKOF?si=1333723a6eff4b7f\"\n",
    "playlist_URI = playlist_link.split(\"/\")[-1].split(\"?\")[0]\n",
    "track_uris = [x[\"track\"][\"uri\"] for x in sp.playlist_tracks(playlist_URI)[\"items\"]]"
   ]
  },
  {
   "cell_type": "markdown",
   "metadata": {},
   "source": [
    "### Exploring sp.search query"
   ]
  },
  {
   "cell_type": "code",
   "execution_count": 17,
   "metadata": {},
   "outputs": [
    {
     "name": "stdout",
     "output_type": "stream",
     "text": [
      "My program took 0.09958195686340332 to run\n"
     ]
    }
   ],
   "source": [
    "import time\n",
    "start_time = time.time()\n",
    "\n",
    "test = sp.search('move brb')\n",
    "\n",
    "print(\"My program took\", time.time() - start_time, \"to run\")"
   ]
  },
  {
   "cell_type": "code",
   "execution_count": 18,
   "metadata": {},
   "outputs": [
    {
     "data": {
      "text/plain": [
       "dict"
      ]
     },
     "execution_count": 18,
     "metadata": {},
     "output_type": "execute_result"
    }
   ],
   "source": [
    "type(test)"
   ]
  },
  {
   "cell_type": "code",
   "execution_count": 19,
   "metadata": {},
   "outputs": [
    {
     "data": {
      "text/plain": [
       "dict_keys(['tracks'])"
      ]
     },
     "execution_count": 19,
     "metadata": {},
     "output_type": "execute_result"
    }
   ],
   "source": [
    "test.keys()"
   ]
  },
  {
   "cell_type": "code",
   "execution_count": 20,
   "metadata": {},
   "outputs": [
    {
     "data": {
      "text/plain": [
       "dict_keys(['href', 'items', 'limit', 'next', 'offset', 'previous', 'total'])"
      ]
     },
     "execution_count": 20,
     "metadata": {},
     "output_type": "execute_result"
    }
   ],
   "source": [
    "test['tracks'].keys()"
   ]
  },
  {
   "cell_type": "code",
   "execution_count": 21,
   "metadata": {},
   "outputs": [
    {
     "data": {
      "text/plain": [
       "93"
      ]
     },
     "execution_count": 21,
     "metadata": {},
     "output_type": "execute_result"
    }
   ],
   "source": [
    "test['tracks']['total']"
   ]
  },
  {
   "cell_type": "code",
   "execution_count": 22,
   "metadata": {},
   "outputs": [
    {
     "data": {
      "text/plain": [
       "10"
      ]
     },
     "execution_count": 22,
     "metadata": {},
     "output_type": "execute_result"
    }
   ],
   "source": [
    "len(test['tracks']['items'])"
   ]
  },
  {
   "cell_type": "code",
   "execution_count": 23,
   "metadata": {},
   "outputs": [
    {
     "data": {
      "text/plain": [
       "dict_keys(['album', 'artists', 'available_markets', 'disc_number', 'duration_ms', 'explicit', 'external_ids', 'external_urls', 'href', 'id', 'is_local', 'name', 'popularity', 'preview_url', 'track_number', 'type', 'uri'])"
      ]
     },
     "execution_count": 23,
     "metadata": {},
     "output_type": "execute_result"
    }
   ],
   "source": [
    "test['tracks']['items'][0].keys()"
   ]
  },
  {
   "cell_type": "code",
   "execution_count": 24,
   "metadata": {},
   "outputs": [
    {
     "data": {
      "text/plain": [
       "'2Ryp5LkAWyJwRqoFd8N7Kk'"
      ]
     },
     "execution_count": 24,
     "metadata": {},
     "output_type": "execute_result"
    }
   ],
   "source": [
    "test['tracks']['items'][0]['id']"
   ]
  },
  {
   "cell_type": "code",
   "execution_count": 25,
   "metadata": {},
   "outputs": [
    {
     "data": {
      "text/plain": [
       "[{'external_urls': {'spotify': 'https://open.spotify.com/artist/2XBiI8PjCnjJ3XKWtiKcvc'},\n",
       "  'href': 'https://api.spotify.com/v1/artists/2XBiI8PjCnjJ3XKWtiKcvc',\n",
       "  'id': '2XBiI8PjCnjJ3XKWtiKcvc',\n",
       "  'name': 'brb.',\n",
       "  'type': 'artist',\n",
       "  'uri': 'spotify:artist:2XBiI8PjCnjJ3XKWtiKcvc'}]"
      ]
     },
     "execution_count": 25,
     "metadata": {},
     "output_type": "execute_result"
    }
   ],
   "source": [
    "test['tracks']['items'][0]['artists']"
   ]
  },
  {
   "cell_type": "code",
   "execution_count": 26,
   "metadata": {},
   "outputs": [
    {
     "data": {
      "text/plain": [
       "'move'"
      ]
     },
     "execution_count": 26,
     "metadata": {},
     "output_type": "execute_result"
    }
   ],
   "source": [
    "test['tracks']['items'][0]['name']"
   ]
  },
  {
   "cell_type": "markdown",
   "metadata": {},
   "source": [
    "#### Findings\n",
    "The format of the search return appears to be a dictionary which starts with 'tracks' since we search tracks (default) and then the parameters of the search where 'items' are the songs returned. Items is a list of 10 since default limit=10 where each entry in the list is a dictionary. We want to extract the name and artist to match with our streaming data and then retrieve the spotify song_id if they match (we don't need to worry about duplicate songs e.g. songs released by an artist first as a single and then in an album since the songs should have the same features/genre etc)"
   ]
  },
  {
   "cell_type": "markdown",
   "metadata": {},
   "source": [
    "### Song_artist Object\n",
    "#### Creating object which stores song and artist data for later extraction\n"
   ]
  },
  {
   "cell_type": "code",
   "execution_count": 1,
   "metadata": {},
   "outputs": [],
   "source": [
    "from objects import song_artist\n",
    "\n",
    "# testing song_artist object\n",
    "sa = song_artist('move','brb')"
   ]
  },
  {
   "cell_type": "code",
   "execution_count": 2,
   "metadata": {},
   "outputs": [
    {
     "name": "stdout",
     "output_type": "stream",
     "text": [
      "move\n",
      "brb\n"
     ]
    }
   ],
   "source": [
    "print(sa.song)\n",
    "print(sa.artist)"
   ]
  },
  {
   "cell_type": "markdown",
   "metadata": {},
   "source": [
    "### Search-match function\n",
    "#### Creating a function which returns track_id\n",
    "This function will take in a `song_artist` object as a parameter and perform a search using the song and artist names. It then iterates through the returned tracks and matches our name-artist pair with one of the search outputs and returns the spotify `track_id` for that track. "
   ]
  },
  {
   "cell_type": "code",
   "execution_count": 13,
   "metadata": {},
   "outputs": [],
   "source": [
    "def search_getid(song_artist):\n",
    "    pair = song_artist.song + ' ' + song_artist.artist\n",
    "    temp = sp.search(pair)\n",
    "    end = len(temp['tracks']['items'])\n",
    "    for x in range(0,end):\n",
    "        #print(x)\n",
    "        #print(len(temp['tracks']['items']))\n",
    "        #print(temp['tracks']['items'])\n",
    "        out_track = temp['tracks']['items'][x]['name']\n",
    "        out_artist = temp['tracks']['items'][x]['artists'][0]['name']\n",
    "        track_id = temp['tracks']['items'][x]['id']\n",
    "        if ((song_artist.song == out_track) and (song_artist.artist == out_artist)):\n",
    "            return(track_id)"
   ]
  },
  {
   "cell_type": "code",
   "execution_count": 14,
   "metadata": {},
   "outputs": [
    {
     "name": "stdout",
     "output_type": "stream",
     "text": [
      "0G7xOaJtStqoAEyLKNuRA3\n",
      "My program took 0.10372376441955566 to run\n"
     ]
    }
   ],
   "source": [
    "start_time = time.time()\n",
    "\n",
    "temp = song_artist('The Weekend (with 347aidan) - Remix','88rising')\n",
    "\n",
    "print(search_getid(temp)) #check passed \n",
    "\n",
    "print(\"My program took\", time.time() - start_time, \"to run\")"
   ]
  },
  {
   "cell_type": "markdown",
   "metadata": {},
   "source": [
    "#### Adding Track IDs to Streaming Data"
   ]
  },
  {
   "cell_type": "markdown",
   "metadata": {},
   "source": [
    "My initial attempt to complete this task used .apply to apply the function to the entire dataframe. However, this resulted in time out error where the cell would be stuck running but the api was not responsive. As a result, I believe it is not possible to apply the function to the entire dataframe. My next attempt is to split the dataframe up and apply the function to each part, changing the client_id and client_secret as needed. "
   ]
  },
  {
   "cell_type": "markdown",
   "metadata": {},
   "source": [
    "**Attempt 1**"
   ]
  },
  {
   "cell_type": "code",
   "execution_count": 25,
   "metadata": {},
   "outputs": [],
   "source": [
    "#import time\n",
    "#start_time = time.time()\n",
    "\n",
    "#df_ids = strm_base\n",
    "#df_ids['trackIDs'] = df_ids.apply(lambda x: search_getid(x['trackName'], x['artistName']), axis=1)\n",
    "\n",
    "#print(\"My program took\", time.time() - start_time, \"to run\")"
   ]
  },
  {
   "cell_type": "code",
   "execution_count": 26,
   "metadata": {},
   "outputs": [],
   "source": [
    "#df_ids.info()"
   ]
  },
  {
   "cell_type": "markdown",
   "metadata": {},
   "source": [
    "**Attempt 2**"
   ]
  },
  {
   "cell_type": "code",
   "execution_count": 27,
   "metadata": {},
   "outputs": [],
   "source": [
    "#start_time = time.time()\n",
    "\n",
    "#df_1 = strm_base.iloc[0:5000,:]\n",
    "#df_1['trackIDs'] = df_1.apply(lambda x: search_getid(x['trackName'], x['artistName']), axis=1)\n",
    "\n",
    "#print(\"My program took\", time.time() - start_time, \"to run\") # My program took 661.2164733409882 to run\n",
    "# approx 11 min runtime"
   ]
  },
  {
   "cell_type": "code",
   "execution_count": 28,
   "metadata": {},
   "outputs": [],
   "source": [
    "#df_1.to_csv(path_or_buf='data/ids_1.csv')"
   ]
  },
  {
   "cell_type": "code",
   "execution_count": 30,
   "metadata": {},
   "outputs": [
    {
     "name": "stdout",
     "output_type": "stream",
     "text": [
      "1656376569.9426615\n"
     ]
    },
    {
     "data": {
      "text/plain": [
       "'\\nfor alt in range(0,5):\\n    cid, secret = alt_creds(alt)\\n    client_credentials_manager = SpotifyClientCredentials(client_id=cid,client_secret=secret)\\n    sp = spotipy.Spotify(client_credentials_manager=client_credentials_manager)\\n    \\n    if (alt == 0):\\n        start = (alt) * (strm_base.shape[0]/5)\\n    else:\\n        start = (alt) * (strm_base.shape[0]/5) + 1\\n    if (alt ==4):\\n        end = strm_base.shape[0]\\n    else:\\n        end = math.floor((alt+1) * (strm_base.shape[0]/5))\\n    \\n    df=strm_base.iloc[int(start):int(end),:]\\n    df[\\'trackIDs\\'] = df.apply(lambda x: search_getid(x[\\'trackName\\'], x[\\'artistName\\']), axis=1)\\n    \\n    path = \\'data/ids_\\' + str(alt) + \\'.csv\\'\\n    df.to_csv(path_or_buf=path)\\n\\nprint(\"My program took\", time.time() - start_time, \"to run\")'"
      ]
     },
     "execution_count": 30,
     "metadata": {},
     "output_type": "execute_result"
    }
   ],
   "source": [
    "from dev_creds import alt_creds\n",
    "import math\n",
    "\n",
    "start_time = time.time()\n",
    "print(start_time)\n",
    "'''\n",
    "for alt in range(0,5):\n",
    "    cid, secret = alt_creds(alt)\n",
    "    client_credentials_manager = SpotifyClientCredentials(client_id=cid,client_secret=secret)\n",
    "    sp = spotipy.Spotify(client_credentials_manager=client_credentials_manager)\n",
    "    \n",
    "    if (alt == 0):\n",
    "        start = (alt) * (strm_base.shape[0]/5)\n",
    "    else:\n",
    "        start = (alt) * (strm_base.shape[0]/5) + 1\n",
    "    if (alt ==4):\n",
    "        end = strm_base.shape[0]\n",
    "    else:\n",
    "        end = math.floor((alt+1) * (strm_base.shape[0]/5))\n",
    "    \n",
    "    df=strm_base.iloc[int(start):int(end),:]\n",
    "    df['trackIDs'] = df.apply(lambda x: search_getid(x['trackName'], x['artistName']), axis=1)\n",
    "    \n",
    "    path = 'data/ids_' + str(alt) + '.csv'\n",
    "    df.to_csv(path_or_buf=path)\n",
    "\n",
    "print(\"My program took\", time.time() - start_time, \"to run\")''' # full loop takes around an hour to run, each iteration takes around 9-11 min"
   ]
  },
  {
   "cell_type": "code",
   "execution_count": 31,
   "metadata": {},
   "outputs": [],
   "source": [
    "full_ids = pd.DataFrame()\n",
    "for file in os.listdir(\"./data\"):\n",
    "    if file.startswith(\"ids_\"):\n",
    "        file_path = \"./data/\" + file\n",
    "        temp = pd.read_csv(file_path)\n",
    "        full_ids = pd.concat([full_ids,temp])"
   ]
  },
  {
   "cell_type": "code",
   "execution_count": 32,
   "metadata": {},
   "outputs": [
    {
     "name": "stdout",
     "output_type": "stream",
     "text": [
      "<class 'pandas.core.frame.DataFrame'>\n",
      "Int64Index: 20582 entries, 0 to 4115\n",
      "Data columns (total 6 columns):\n",
      " #   Column      Non-Null Count  Dtype \n",
      "---  ------      --------------  ----- \n",
      " 0   Unnamed: 0  20582 non-null  int64 \n",
      " 1   endTime     20582 non-null  object\n",
      " 2   artistName  20582 non-null  object\n",
      " 3   trackName   20582 non-null  object\n",
      " 4   msPlayed    20582 non-null  int64 \n",
      " 5   trackIDs    20360 non-null  object\n",
      "dtypes: int64(2), object(4)\n",
      "memory usage: 1.1+ MB\n"
     ]
    }
   ],
   "source": [
    "full_ids.info()"
   ]
  },
  {
   "cell_type": "code",
   "execution_count": 6,
   "metadata": {},
   "outputs": [
    {
     "data": {
      "text/html": [
       "<div>\n",
       "<style scoped>\n",
       "    .dataframe tbody tr th:only-of-type {\n",
       "        vertical-align: middle;\n",
       "    }\n",
       "\n",
       "    .dataframe tbody tr th {\n",
       "        vertical-align: top;\n",
       "    }\n",
       "\n",
       "    .dataframe thead th {\n",
       "        text-align: right;\n",
       "    }\n",
       "</style>\n",
       "<table border=\"1\" class=\"dataframe\">\n",
       "  <thead>\n",
       "    <tr style=\"text-align: right;\">\n",
       "      <th></th>\n",
       "      <th>Unnamed: 0</th>\n",
       "      <th>endTime</th>\n",
       "      <th>artistName</th>\n",
       "      <th>trackName</th>\n",
       "      <th>msPlayed</th>\n",
       "      <th>trackIDs</th>\n",
       "    </tr>\n",
       "  </thead>\n",
       "  <tbody>\n",
       "    <tr>\n",
       "      <th>6</th>\n",
       "      <td>16475</td>\n",
       "      <td>2021-08-20 03:49:00</td>\n",
       "      <td>SURL</td>\n",
       "      <td>Dancing on the Rooftop 옥상에서 춤을</td>\n",
       "      <td>6140</td>\n",
       "      <td>NaN</td>\n",
       "    </tr>\n",
       "    <tr>\n",
       "      <th>10</th>\n",
       "      <td>16479</td>\n",
       "      <td>2021-08-20 03:53:00</td>\n",
       "      <td>SURL</td>\n",
       "      <td>Dancing on the Rooftop 옥상에서 춤을</td>\n",
       "      <td>5930</td>\n",
       "      <td>NaN</td>\n",
       "    </tr>\n",
       "    <tr>\n",
       "      <th>20</th>\n",
       "      <td>16489</td>\n",
       "      <td>2021-08-20 03:58:00</td>\n",
       "      <td>Epik High</td>\n",
       "      <td>End of the World</td>\n",
       "      <td>18940</td>\n",
       "      <td>NaN</td>\n",
       "    </tr>\n",
       "    <tr>\n",
       "      <th>262</th>\n",
       "      <td>16731</td>\n",
       "      <td>2021-08-24 23:05:00</td>\n",
       "      <td>All The Credit</td>\n",
       "      <td>Making Sense of the Booms and Busts in Global ...</td>\n",
       "      <td>1335920</td>\n",
       "      <td>NaN</td>\n",
       "    </tr>\n",
       "    <tr>\n",
       "      <th>349</th>\n",
       "      <td>16818</td>\n",
       "      <td>2021-08-26 23:08:00</td>\n",
       "      <td>All The Credit</td>\n",
       "      <td>Making Sense of the Booms and Busts in Global ...</td>\n",
       "      <td>758230</td>\n",
       "      <td>NaN</td>\n",
       "    </tr>\n",
       "    <tr>\n",
       "      <th>...</th>\n",
       "      <td>...</td>\n",
       "      <td>...</td>\n",
       "      <td>...</td>\n",
       "      <td>...</td>\n",
       "      <td>...</td>\n",
       "      <td>...</td>\n",
       "    </tr>\n",
       "    <tr>\n",
       "      <th>3972</th>\n",
       "      <td>16324</td>\n",
       "      <td>2021-08-17 23:19:00</td>\n",
       "      <td>Macro Musings with David Beckworth</td>\n",
       "      <td>Skanda Amarnath on Maximum Employment, Inflati...</td>\n",
       "      <td>1452716</td>\n",
       "      <td>NaN</td>\n",
       "    </tr>\n",
       "    <tr>\n",
       "      <th>3973</th>\n",
       "      <td>16325</td>\n",
       "      <td>2021-08-17 23:22:00</td>\n",
       "      <td>Macro Musings with David Beckworth</td>\n",
       "      <td>Jerusalem Demsas on Problems in the US Housing...</td>\n",
       "      <td>186823</td>\n",
       "      <td>NaN</td>\n",
       "    </tr>\n",
       "    <tr>\n",
       "      <th>3974</th>\n",
       "      <td>16326</td>\n",
       "      <td>2021-08-17 23:56:00</td>\n",
       "      <td>Macro Musings with David Beckworth</td>\n",
       "      <td>Scott Sumner on What Milton Friedman Would Thi...</td>\n",
       "      <td>1111500</td>\n",
       "      <td>NaN</td>\n",
       "    </tr>\n",
       "    <tr>\n",
       "      <th>4022</th>\n",
       "      <td>16374</td>\n",
       "      <td>2021-08-18 23:33:00</td>\n",
       "      <td>Macro Musings with David Beckworth</td>\n",
       "      <td>Scott Sumner on What Milton Friedman Would Thi...</td>\n",
       "      <td>2059390</td>\n",
       "      <td>NaN</td>\n",
       "    </tr>\n",
       "    <tr>\n",
       "      <th>4023</th>\n",
       "      <td>16375</td>\n",
       "      <td>2021-08-18 23:45:00</td>\n",
       "      <td>Macro Musings with David Beckworth</td>\n",
       "      <td>Kate Judge and Anil Kashyap on How to Improve ...</td>\n",
       "      <td>46570</td>\n",
       "      <td>NaN</td>\n",
       "    </tr>\n",
       "  </tbody>\n",
       "</table>\n",
       "<p>222 rows × 6 columns</p>\n",
       "</div>"
      ],
      "text/plain": [
       "      Unnamed: 0              endTime                          artistName  \\\n",
       "6          16475  2021-08-20 03:49:00                                SURL   \n",
       "10         16479  2021-08-20 03:53:00                                SURL   \n",
       "20         16489  2021-08-20 03:58:00                           Epik High   \n",
       "262        16731  2021-08-24 23:05:00                      All The Credit   \n",
       "349        16818  2021-08-26 23:08:00                      All The Credit   \n",
       "...          ...                  ...                                 ...   \n",
       "3972       16324  2021-08-17 23:19:00  Macro Musings with David Beckworth   \n",
       "3973       16325  2021-08-17 23:22:00  Macro Musings with David Beckworth   \n",
       "3974       16326  2021-08-17 23:56:00  Macro Musings with David Beckworth   \n",
       "4022       16374  2021-08-18 23:33:00  Macro Musings with David Beckworth   \n",
       "4023       16375  2021-08-18 23:45:00  Macro Musings with David Beckworth   \n",
       "\n",
       "                                              trackName  msPlayed trackIDs  \n",
       "6                        Dancing on the Rooftop 옥상에서 춤을      6140      NaN  \n",
       "10                       Dancing on the Rooftop 옥상에서 춤을      5930      NaN  \n",
       "20                                     End of the World     18940      NaN  \n",
       "262   Making Sense of the Booms and Busts in Global ...   1335920      NaN  \n",
       "349   Making Sense of the Booms and Busts in Global ...    758230      NaN  \n",
       "...                                                 ...       ...      ...  \n",
       "3972  Skanda Amarnath on Maximum Employment, Inflati...   1452716      NaN  \n",
       "3973  Jerusalem Demsas on Problems in the US Housing...    186823      NaN  \n",
       "3974  Scott Sumner on What Milton Friedman Would Thi...   1111500      NaN  \n",
       "4022  Scott Sumner on What Milton Friedman Would Thi...   2059390      NaN  \n",
       "4023  Kate Judge and Anil Kashyap on How to Improve ...     46570      NaN  \n",
       "\n",
       "[222 rows x 6 columns]"
      ]
     },
     "execution_count": 6,
     "metadata": {},
     "output_type": "execute_result"
    }
   ],
   "source": [
    "full_ids[pd.isnull(full_ids['trackIDs'])]"
   ]
  },
  {
   "cell_type": "code",
   "execution_count": null,
   "metadata": {},
   "outputs": [],
   "source": [
    "#start_time = time.time()\n",
    "\n",
    "#df_2 = strm_base.iloc[5001:10000,:]\n",
    "#df_2['trackIDs'] = df_2.apply(lambda x: search_getid(x['trackName'], x['artistName']), axis=1)\n",
    "\n",
    "#print(\"My program took\", time.time() - start_time, \"to run\")"
   ]
  },
  {
   "cell_type": "code",
   "execution_count": null,
   "metadata": {},
   "outputs": [],
   "source": [
    "#start_time = time.time()\n",
    "\n",
    "#df_3 = strm_base.iloc[10001:15000,:]\n",
    "#df_3['trackIDs'] = df_3.apply(lambda x: search_getid(x['trackName'], x['artistName']), axis=1)\n",
    "\n",
    "#print(\"My program took\", time.time() - start_time, \"to run\")"
   ]
  },
  {
   "cell_type": "code",
   "execution_count": null,
   "metadata": {},
   "outputs": [],
   "source": [
    "#start_time = time.time()\n",
    "\n",
    "#df_4 = strm_base.iloc[15000:strm_base.shape[0],:]\n",
    "#df_4['trackIDs'] = df_4.apply(lambda x: search_getid(x['trackName'], x['artistName']), axis=1)\n",
    "\n",
    "#print(\"My program took\", time.time() - start_time, \"to run\")"
   ]
  },
  {
   "cell_type": "markdown",
   "metadata": {},
   "source": [
    "**Attempt 5**\n",
    "\n",
    "Parallelization of the querying"
   ]
  },
  {
   "cell_type": "code",
   "execution_count": null,
   "metadata": {},
   "outputs": [],
   "source": []
  },
  {
   "cell_type": "markdown",
   "metadata": {},
   "source": [
    "### Adding Genre and Feature Data"
   ]
  },
  {
   "cell_type": "code",
   "execution_count": null,
   "metadata": {},
   "outputs": [],
   "source": []
  }
 ],
 "metadata": {
  "kernelspec": {
   "display_name": "Python 3",
   "language": "python",
   "name": "python3"
  },
  "language_info": {
   "codemirror_mode": {
    "name": "ipython",
    "version": 3
   },
   "file_extension": ".py",
   "mimetype": "text/x-python",
   "name": "python",
   "nbconvert_exporter": "python",
   "pygments_lexer": "ipython3",
   "version": "3.7.6"
  }
 },
 "nbformat": 4,
 "nbformat_minor": 4
}
