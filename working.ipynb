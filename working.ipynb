{
 "cells": [
  {
   "cell_type": "code",
   "execution_count": 1,
   "metadata": {},
   "outputs": [],
   "source": [
    "import numpy as np\n",
    "import pandas as pd\n",
    "import warnings\n",
    "warnings.filterwarnings('ignore')\n",
    "from collections import Counter\n",
    "from tqdm.notebook import tqdm\n",
    "import json\n",
    "import os\n",
    "import spotipy\n",
    "from spotipy.oauth2 import SpotifyClientCredentials\n",
    "\n",
    "import matplotlib.pyplot as plt\n",
    "plt.rc('font', size=14)\n",
    "import seaborn as sns\n",
    "sns.set(style='whitegrid', color_codes=True, rc={'figure.figsize':(11,8)}, font_scale=2)"
   ]
  },
  {
   "cell_type": "markdown",
   "metadata": {},
   "source": [
    "## Loading and Tidying Streaming Data"
   ]
  },
  {
   "cell_type": "markdown",
   "metadata": {},
   "source": [
    "### Loading"
   ]
  },
  {
   "cell_type": "code",
   "execution_count": 2,
   "metadata": {},
   "outputs": [],
   "source": [
    "# read streaming data and concat rows\n",
    "strm_base = pd.DataFrame()\n",
    "for file in os.listdir(\"./data\"):\n",
    "    if file.startswith(\"Streaming\"):\n",
    "        file_path = \"./data/\" + file\n",
    "        temp = pd.read_json(file_path)\n",
    "        strm_base = pd.concat([strm_base,temp])"
   ]
  },
  {
   "cell_type": "code",
   "execution_count": 3,
   "metadata": {},
   "outputs": [
    {
     "data": {
      "text/html": [
       "<div>\n",
       "<style scoped>\n",
       "    .dataframe tbody tr th:only-of-type {\n",
       "        vertical-align: middle;\n",
       "    }\n",
       "\n",
       "    .dataframe tbody tr th {\n",
       "        vertical-align: top;\n",
       "    }\n",
       "\n",
       "    .dataframe thead th {\n",
       "        text-align: right;\n",
       "    }\n",
       "</style>\n",
       "<table border=\"1\" class=\"dataframe\">\n",
       "  <thead>\n",
       "    <tr style=\"text-align: right;\">\n",
       "      <th></th>\n",
       "      <th>endTime</th>\n",
       "      <th>artistName</th>\n",
       "      <th>trackName</th>\n",
       "      <th>msPlayed</th>\n",
       "    </tr>\n",
       "  </thead>\n",
       "  <tbody>\n",
       "    <tr>\n",
       "      <th>0</th>\n",
       "      <td>2021-11-05 01:35</td>\n",
       "      <td>Grant</td>\n",
       "      <td>Weapon</td>\n",
       "      <td>980</td>\n",
       "    </tr>\n",
       "    <tr>\n",
       "      <th>1</th>\n",
       "      <td>2021-11-05 01:35</td>\n",
       "      <td>LVTHER</td>\n",
       "      <td>This Love</td>\n",
       "      <td>0</td>\n",
       "    </tr>\n",
       "    <tr>\n",
       "      <th>2</th>\n",
       "      <td>2021-11-05 01:35</td>\n",
       "      <td>Hellberg</td>\n",
       "      <td>Synchronize - VIP</td>\n",
       "      <td>670</td>\n",
       "    </tr>\n",
       "    <tr>\n",
       "      <th>3</th>\n",
       "      <td>2021-11-05 01:35</td>\n",
       "      <td>Vicetone</td>\n",
       "      <td>I Hear You</td>\n",
       "      <td>570</td>\n",
       "    </tr>\n",
       "    <tr>\n",
       "      <th>4</th>\n",
       "      <td>2021-11-05 01:35</td>\n",
       "      <td>Tritonal</td>\n",
       "      <td>Getaway</td>\n",
       "      <td>0</td>\n",
       "    </tr>\n",
       "  </tbody>\n",
       "</table>\n",
       "</div>"
      ],
      "text/plain": [
       "            endTime artistName          trackName  msPlayed\n",
       "0  2021-11-05 01:35      Grant             Weapon       980\n",
       "1  2021-11-05 01:35     LVTHER          This Love         0\n",
       "2  2021-11-05 01:35   Hellberg  Synchronize - VIP       670\n",
       "3  2021-11-05 01:35   Vicetone         I Hear You       570\n",
       "4  2021-11-05 01:35   Tritonal            Getaway         0"
      ]
     },
     "execution_count": 3,
     "metadata": {},
     "output_type": "execute_result"
    }
   ],
   "source": [
    "strm_base.head()"
   ]
  },
  {
   "cell_type": "markdown",
   "metadata": {},
   "source": [
    "### Tidying"
   ]
  },
  {
   "cell_type": "code",
   "execution_count": 4,
   "metadata": {},
   "outputs": [
    {
     "name": "stdout",
     "output_type": "stream",
     "text": [
      "<class 'pandas.core.frame.DataFrame'>\n",
      "Int64Index: 20586 entries, 0 to 585\n",
      "Data columns (total 4 columns):\n",
      " #   Column      Non-Null Count  Dtype \n",
      "---  ------      --------------  ----- \n",
      " 0   endTime     20586 non-null  object\n",
      " 1   artistName  20586 non-null  object\n",
      " 2   trackName   20586 non-null  object\n",
      " 3   msPlayed    20586 non-null  int64 \n",
      "dtypes: int64(1), object(3)\n",
      "memory usage: 804.1+ KB\n"
     ]
    }
   ],
   "source": [
    "strm_base.info()"
   ]
  },
  {
   "cell_type": "code",
   "execution_count": 5,
   "metadata": {},
   "outputs": [],
   "source": [
    "strm_base.index = range(0,strm_base.shape[0])\n",
    "strm_base = strm_base.astype({'endTime': 'datetime64','artistName':'string','trackName':'string'})"
   ]
  },
  {
   "cell_type": "code",
   "execution_count": 6,
   "metadata": {},
   "outputs": [
    {
     "name": "stdout",
     "output_type": "stream",
     "text": [
      "<class 'pandas.core.frame.DataFrame'>\n",
      "RangeIndex: 20586 entries, 0 to 20585\n",
      "Data columns (total 4 columns):\n",
      " #   Column      Non-Null Count  Dtype         \n",
      "---  ------      --------------  -----         \n",
      " 0   endTime     20586 non-null  datetime64[ns]\n",
      " 1   artistName  20586 non-null  string        \n",
      " 2   trackName   20586 non-null  string        \n",
      " 3   msPlayed    20586 non-null  int64         \n",
      "dtypes: datetime64[ns](1), int64(1), string(2)\n",
      "memory usage: 643.4 KB\n"
     ]
    }
   ],
   "source": [
    "strm_base.info()"
   ]
  },
  {
   "cell_type": "code",
   "execution_count": 7,
   "metadata": {},
   "outputs": [
    {
     "data": {
      "text/html": [
       "<div>\n",
       "<style scoped>\n",
       "    .dataframe tbody tr th:only-of-type {\n",
       "        vertical-align: middle;\n",
       "    }\n",
       "\n",
       "    .dataframe tbody tr th {\n",
       "        vertical-align: top;\n",
       "    }\n",
       "\n",
       "    .dataframe thead th {\n",
       "        text-align: right;\n",
       "    }\n",
       "</style>\n",
       "<table border=\"1\" class=\"dataframe\">\n",
       "  <thead>\n",
       "    <tr style=\"text-align: right;\">\n",
       "      <th></th>\n",
       "      <th>endTime</th>\n",
       "      <th>artistName</th>\n",
       "      <th>trackName</th>\n",
       "      <th>msPlayed</th>\n",
       "    </tr>\n",
       "  </thead>\n",
       "  <tbody>\n",
       "    <tr>\n",
       "      <th>175</th>\n",
       "      <td>2021-11-09 06:01:00</td>\n",
       "      <td>88rising</td>\n",
       "      <td>California (feat. Warren Hue)</td>\n",
       "      <td>33216</td>\n",
       "    </tr>\n",
       "    <tr>\n",
       "      <th>177</th>\n",
       "      <td>2021-11-09 06:02:00</td>\n",
       "      <td>88rising</td>\n",
       "      <td>California (feat. Warren Hue)</td>\n",
       "      <td>5141</td>\n",
       "    </tr>\n",
       "    <tr>\n",
       "      <th>178</th>\n",
       "      <td>2021-11-09 06:02:00</td>\n",
       "      <td>88rising</td>\n",
       "      <td>California (feat. Warren Hue)</td>\n",
       "      <td>45525</td>\n",
       "    </tr>\n",
       "    <tr>\n",
       "      <th>179</th>\n",
       "      <td>2021-11-09 06:05:00</td>\n",
       "      <td>88rising</td>\n",
       "      <td>California (feat. Warren Hue)</td>\n",
       "      <td>143912</td>\n",
       "    </tr>\n",
       "    <tr>\n",
       "      <th>1760</th>\n",
       "      <td>2021-12-09 21:11:00</td>\n",
       "      <td>88rising</td>\n",
       "      <td>Freaks</td>\n",
       "      <td>9420</td>\n",
       "    </tr>\n",
       "    <tr>\n",
       "      <th>...</th>\n",
       "      <td>...</td>\n",
       "      <td>...</td>\n",
       "      <td>...</td>\n",
       "      <td>...</td>\n",
       "    </tr>\n",
       "    <tr>\n",
       "      <th>20174</th>\n",
       "      <td>2022-05-03 03:19:00</td>\n",
       "      <td>88rising</td>\n",
       "      <td>The Weekend (with 347aidan) - Remix</td>\n",
       "      <td>167661</td>\n",
       "    </tr>\n",
       "    <tr>\n",
       "      <th>20175</th>\n",
       "      <td>2022-05-03 03:23:00</td>\n",
       "      <td>88rising</td>\n",
       "      <td>California (feat. Warren Hue)</td>\n",
       "      <td>230395</td>\n",
       "    </tr>\n",
       "    <tr>\n",
       "      <th>20355</th>\n",
       "      <td>2022-05-08 03:34:00</td>\n",
       "      <td>88rising</td>\n",
       "      <td>T</td>\n",
       "      <td>249033</td>\n",
       "    </tr>\n",
       "    <tr>\n",
       "      <th>20357</th>\n",
       "      <td>2022-05-08 03:37:00</td>\n",
       "      <td>88rising</td>\n",
       "      <td>Best Lover</td>\n",
       "      <td>152910</td>\n",
       "    </tr>\n",
       "    <tr>\n",
       "      <th>20358</th>\n",
       "      <td>2022-05-08 03:38:00</td>\n",
       "      <td>88rising</td>\n",
       "      <td>T</td>\n",
       "      <td>78389</td>\n",
       "    </tr>\n",
       "  </tbody>\n",
       "</table>\n",
       "<p>138 rows × 4 columns</p>\n",
       "</div>"
      ],
      "text/plain": [
       "                  endTime artistName                            trackName  \\\n",
       "175   2021-11-09 06:01:00   88rising        California (feat. Warren Hue)   \n",
       "177   2021-11-09 06:02:00   88rising        California (feat. Warren Hue)   \n",
       "178   2021-11-09 06:02:00   88rising        California (feat. Warren Hue)   \n",
       "179   2021-11-09 06:05:00   88rising        California (feat. Warren Hue)   \n",
       "1760  2021-12-09 21:11:00   88rising                               Freaks   \n",
       "...                   ...        ...                                  ...   \n",
       "20174 2022-05-03 03:19:00   88rising  The Weekend (with 347aidan) - Remix   \n",
       "20175 2022-05-03 03:23:00   88rising        California (feat. Warren Hue)   \n",
       "20355 2022-05-08 03:34:00   88rising                                    T   \n",
       "20357 2022-05-08 03:37:00   88rising                           Best Lover   \n",
       "20358 2022-05-08 03:38:00   88rising                                    T   \n",
       "\n",
       "       msPlayed  \n",
       "175       33216  \n",
       "177        5141  \n",
       "178       45525  \n",
       "179      143912  \n",
       "1760       9420  \n",
       "...         ...  \n",
       "20174    167661  \n",
       "20175    230395  \n",
       "20355    249033  \n",
       "20357    152910  \n",
       "20358     78389  \n",
       "\n",
       "[138 rows x 4 columns]"
      ]
     },
     "execution_count": 7,
     "metadata": {},
     "output_type": "execute_result"
    }
   ],
   "source": [
    "strm_base[strm_base['artistName'] == '88rising']"
   ]
  },
  {
   "cell_type": "markdown",
   "metadata": {},
   "source": [
    "## Spotify API\n",
    "### Intial Exploration\n",
    "#### Initializing spotify object"
   ]
  },
  {
   "cell_type": "code",
   "execution_count": 8,
   "metadata": {},
   "outputs": [],
   "source": [
    "# add your own credentials in dev_creds.py\n",
    "from dev_creds import get_creds\n",
    "cid, secret = get_creds()"
   ]
  },
  {
   "cell_type": "code",
   "execution_count": 9,
   "metadata": {},
   "outputs": [],
   "source": [
    "client_credentials_manager = SpotifyClientCredentials(client_id=cid,client_secret=secret)\n",
    "sp = spotipy.Spotify(client_credentials_manager=client_credentials_manager)"
   ]
  },
  {
   "cell_type": "markdown",
   "metadata": {},
   "source": [
    "### Exploring sp.search query"
   ]
  },
  {
   "cell_type": "code",
   "execution_count": null,
   "metadata": {},
   "outputs": [],
   "source": [
    "import time\n",
    "start_time = time.time()\n",
    "\n",
    "test = sp.search('move brb',limit=1)\n",
    "\n",
    "print(\"My program took\", time.time() - start_time, \"to run\")"
   ]
  },
  {
   "cell_type": "code",
   "execution_count": null,
   "metadata": {},
   "outputs": [],
   "source": [
    "type(test)"
   ]
  },
  {
   "cell_type": "code",
   "execution_count": null,
   "metadata": {},
   "outputs": [],
   "source": [
    "test.keys()"
   ]
  },
  {
   "cell_type": "code",
   "execution_count": null,
   "metadata": {},
   "outputs": [],
   "source": [
    "test['tracks'].keys()"
   ]
  },
  {
   "cell_type": "code",
   "execution_count": null,
   "metadata": {},
   "outputs": [],
   "source": [
    "test['tracks']['total']"
   ]
  },
  {
   "cell_type": "code",
   "execution_count": null,
   "metadata": {},
   "outputs": [],
   "source": [
    "len(test['tracks']['items'])"
   ]
  },
  {
   "cell_type": "code",
   "execution_count": null,
   "metadata": {},
   "outputs": [],
   "source": [
    "test['tracks']['items'][0].keys()"
   ]
  },
  {
   "cell_type": "code",
   "execution_count": null,
   "metadata": {},
   "outputs": [],
   "source": [
    "test['tracks']['items'][0]['id']"
   ]
  },
  {
   "cell_type": "code",
   "execution_count": null,
   "metadata": {},
   "outputs": [],
   "source": [
    "test['tracks']['items'][0]['artists']"
   ]
  },
  {
   "cell_type": "code",
   "execution_count": null,
   "metadata": {},
   "outputs": [],
   "source": [
    "test['tracks']['items'][0]['name']"
   ]
  },
  {
   "cell_type": "code",
   "execution_count": null,
   "metadata": {},
   "outputs": [],
   "source": [
    "test['tracks']['items'][0]['name']"
   ]
  },
  {
   "cell_type": "markdown",
   "metadata": {},
   "source": [
    "#### Findings\n",
    "The format of the search return appears to be a dictionary which starts with 'tracks' since we search tracks (default) and then the parameters of the search where 'items' are the songs returned. Items is a list of 10 since default limit=10 where each entry in the list is a dictionary. We want to extract the name and artist to match with our streaming data and then retrieve the spotify song_id if they match (we don't need to worry about duplicate songs e.g. songs released by an artist first as a single and then in an album since the songs should have the same features/genre etc)"
   ]
  },
  {
   "cell_type": "markdown",
   "metadata": {},
   "source": [
    "### Search-match function\n",
    "#### Creating a function which returns track_id\n",
    "This function should take in `in_track` and `in_artist` parameters (name of track and name of artist) and perform a search. It then iterates through the returned tracks and matches our name-artist pair with one of the search outputs and returns the spotify song_id for that track. "
   ]
  },
  {
   "cell_type": "code",
   "execution_count": null,
   "metadata": {},
   "outputs": [],
   "source": [
    "def search_getid(in_track,in_artist):\n",
    "    pair = in_track + ' ' + in_artist\n",
    "    temp = sp.search(pair)\n",
    "    end = len(temp['tracks']['items'])\n",
    "    for x in range(0,end):\n",
    "        #print(x)\n",
    "        #print(len(temp['tracks']['items']))\n",
    "        #print(temp['tracks']['items'])\n",
    "        out_track = temp['tracks']['items'][x]['name']\n",
    "        out_artist = temp['tracks']['items'][x]['artists'][0]['name']\n",
    "        track_id = temp['tracks']['items'][x]['id']\n",
    "        if ((in_track == out_track) and (in_artist == out_artist)):\n",
    "            return(track_id)"
   ]
  },
  {
   "cell_type": "code",
   "execution_count": null,
   "metadata": {},
   "outputs": [],
   "source": [
    "search_getid('The Weekend (with 347aidan) - Remix','88rising') #check passed "
   ]
  },
  {
   "cell_type": "markdown",
   "metadata": {},
   "source": [
    "#### Adding Track IDs to Streaming Data"
   ]
  },
  {
   "cell_type": "code",
   "execution_count": null,
   "metadata": {},
   "outputs": [],
   "source": [
    "import time\n",
    "start_time = time.time()\n",
    "\n",
    "df_ids = strm_base\n",
    "df_ids['trackIDs'] = df_ids.apply(lambda x: search_getid(x['trackName'], x['artistName']), axis=1)\n",
    "\n",
    "print(\"My program took\", time.time() - start_time, \"to run\")"
   ]
  },
  {
   "cell_type": "code",
   "execution_count": null,
   "metadata": {},
   "outputs": [],
   "source": [
    "df_ids.info()"
   ]
  },
  {
   "cell_type": "code",
   "execution_count": null,
   "metadata": {},
   "outputs": [],
   "source": [
    "in_name = 'Weapon'\n",
    "in_artist = 'Grant'\n",
    "lim = 10\n",
    "pair = in_name + ' ' + in_artist\n",
    "temp = sp.search(pair,limit=lim)\n",
    "for x in range(0,lim):\n",
    "    out_name = temp['tracks']['items'][x]['name']\n",
    "    out_artist = temp['tracks']['items'][x]['artists'][0]['name']\n",
    "    track_id = temp['tracks']['items'][x]['id']\n",
    "    if ((in_name == out_name) and (in_artist == out_artist)):\n",
    "        print(track_id)\n"
   ]
  },
  {
   "cell_type": "code",
   "execution_count": null,
   "metadata": {},
   "outputs": [],
   "source": []
  }
 ],
 "metadata": {
  "kernelspec": {
   "display_name": "Python 3",
   "language": "python",
   "name": "python3"
  },
  "language_info": {
   "codemirror_mode": {
    "name": "ipython",
    "version": 3
   },
   "file_extension": ".py",
   "mimetype": "text/x-python",
   "name": "python",
   "nbconvert_exporter": "python",
   "pygments_lexer": "ipython3",
   "version": "3.6.8"
  }
 },
 "nbformat": 4,
 "nbformat_minor": 4
}
