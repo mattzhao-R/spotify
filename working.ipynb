{
 "cells": [
  {
   "cell_type": "code",
   "execution_count": 3,
   "metadata": {},
   "outputs": [],
   "source": [
    "import numpy as np\n",
    "import pandas as pd\n",
    "import warnings\n",
    "warnings.filterwarnings('ignore')\n",
    "from collections import Counter\n",
    "from tqdm.notebook import tqdm\n",
    "\n",
    "\n",
    "import json\n",
    "import os\n",
    "import time\n",
    "import csv\n",
    "\n",
    "from objects import song_artist\n",
    "from parallelization import parallel\n",
    "from methods import create_table\n",
    "from methods import table_artGen\n",
    "\n",
    "import multiprocessing\n",
    "from joblib import Parallel, delayed\n",
    "\n",
    "import spotipy\n",
    "from spotipy.oauth2 import SpotifyClientCredentials\n",
    "\n",
    "import matplotlib.pyplot as plt\n",
    "plt.rc('font', size=14)\n",
    "import seaborn as sns\n",
    "sns.set(style='whitegrid', color_codes=True, rc={'figure.figsize':(11,8)}, font_scale=2)"
   ]
  },
  {
   "cell_type": "code",
   "execution_count": 2,
   "metadata": {},
   "outputs": [],
   "source": [
    "#os.chdir('/c/Users/matth/Documents/Coding/spotify/')"
   ]
  },
  {
   "cell_type": "code",
   "execution_count": 3,
   "metadata": {},
   "outputs": [],
   "source": [
    "#!pwd"
   ]
  },
  {
   "cell_type": "markdown",
   "metadata": {},
   "source": [
    "## Loading and Tidying Streaming Data"
   ]
  },
  {
   "cell_type": "markdown",
   "metadata": {},
   "source": [
    "### Loading"
   ]
  },
  {
   "cell_type": "code",
   "execution_count": 4,
   "metadata": {},
   "outputs": [],
   "source": [
    "# read streaming data and concat rows\n",
    "strm_base = pd.DataFrame()\n",
    "for file in os.listdir(\"./data\"):\n",
    "    if file.startswith(\"Streaming\"):\n",
    "        file_path = \"./data/\" + file\n",
    "        temp = pd.read_json(file_path)\n",
    "        strm_base = pd.concat([strm_base,temp])"
   ]
  },
  {
   "cell_type": "code",
   "execution_count": 5,
   "metadata": {},
   "outputs": [
    {
     "data": {
      "text/html": [
       "<div>\n",
       "<style scoped>\n",
       "    .dataframe tbody tr th:only-of-type {\n",
       "        vertical-align: middle;\n",
       "    }\n",
       "\n",
       "    .dataframe tbody tr th {\n",
       "        vertical-align: top;\n",
       "    }\n",
       "\n",
       "    .dataframe thead th {\n",
       "        text-align: right;\n",
       "    }\n",
       "</style>\n",
       "<table border=\"1\" class=\"dataframe\">\n",
       "  <thead>\n",
       "    <tr style=\"text-align: right;\">\n",
       "      <th></th>\n",
       "      <th>endTime</th>\n",
       "      <th>artistName</th>\n",
       "      <th>trackName</th>\n",
       "      <th>msPlayed</th>\n",
       "    </tr>\n",
       "  </thead>\n",
       "  <tbody>\n",
       "    <tr>\n",
       "      <th>0</th>\n",
       "      <td>2020-06-23 22:28</td>\n",
       "      <td>Aiobahn</td>\n",
       "      <td>過ぎゆく日と君へ</td>\n",
       "      <td>6290</td>\n",
       "    </tr>\n",
       "    <tr>\n",
       "      <th>1</th>\n",
       "      <td>2021-05-08 05:06</td>\n",
       "      <td>Smallpools</td>\n",
       "      <td>Insincere</td>\n",
       "      <td>125825</td>\n",
       "    </tr>\n",
       "    <tr>\n",
       "      <th>2</th>\n",
       "      <td>2021-05-10 00:25</td>\n",
       "      <td>Smallpools</td>\n",
       "      <td>cycle</td>\n",
       "      <td>149040</td>\n",
       "    </tr>\n",
       "    <tr>\n",
       "      <th>3</th>\n",
       "      <td>2021-05-10 02:22</td>\n",
       "      <td>Nice White Parents</td>\n",
       "      <td>3: ‘This Is Our School, How Dare You?’</td>\n",
       "      <td>331310</td>\n",
       "    </tr>\n",
       "    <tr>\n",
       "      <th>4</th>\n",
       "      <td>2021-05-10 02:22</td>\n",
       "      <td>COIN</td>\n",
       "      <td>Turnaround</td>\n",
       "      <td>14470</td>\n",
       "    </tr>\n",
       "  </tbody>\n",
       "</table>\n",
       "</div>"
      ],
      "text/plain": [
       "            endTime          artistName  \\\n",
       "0  2020-06-23 22:28             Aiobahn   \n",
       "1  2021-05-08 05:06          Smallpools   \n",
       "2  2021-05-10 00:25          Smallpools   \n",
       "3  2021-05-10 02:22  Nice White Parents   \n",
       "4  2021-05-10 02:22                COIN   \n",
       "\n",
       "                                trackName  msPlayed  \n",
       "0                                過ぎゆく日と君へ      6290  \n",
       "1                               Insincere    125825  \n",
       "2                                   cycle    149040  \n",
       "3  3: ‘This Is Our School, How Dare You?’    331310  \n",
       "4                              Turnaround     14470  "
      ]
     },
     "execution_count": 5,
     "metadata": {},
     "output_type": "execute_result"
    }
   ],
   "source": [
    "strm_base.head()"
   ]
  },
  {
   "cell_type": "markdown",
   "metadata": {},
   "source": [
    "### Tidying"
   ]
  },
  {
   "cell_type": "code",
   "execution_count": 6,
   "metadata": {},
   "outputs": [
    {
     "name": "stdout",
     "output_type": "stream",
     "text": [
      "<class 'pandas.core.frame.DataFrame'>\n",
      "Int64Index: 20586 entries, 0 to 585\n",
      "Data columns (total 4 columns):\n",
      " #   Column      Non-Null Count  Dtype \n",
      "---  ------      --------------  ----- \n",
      " 0   endTime     20586 non-null  object\n",
      " 1   artistName  20586 non-null  object\n",
      " 2   trackName   20586 non-null  object\n",
      " 3   msPlayed    20586 non-null  int64 \n",
      "dtypes: int64(1), object(3)\n",
      "memory usage: 804.1+ KB\n"
     ]
    }
   ],
   "source": [
    "strm_base.info()"
   ]
  },
  {
   "cell_type": "code",
   "execution_count": 7,
   "metadata": {},
   "outputs": [],
   "source": [
    "strm_base.index = range(0,strm_base.shape[0])\n",
    "strm_base = strm_base.astype({'endTime': 'datetime64','artistName':'string','trackName':'string'})"
   ]
  },
  {
   "cell_type": "code",
   "execution_count": 8,
   "metadata": {},
   "outputs": [
    {
     "name": "stdout",
     "output_type": "stream",
     "text": [
      "<class 'pandas.core.frame.DataFrame'>\n",
      "RangeIndex: 20586 entries, 0 to 20585\n",
      "Data columns (total 4 columns):\n",
      " #   Column      Non-Null Count  Dtype         \n",
      "---  ------      --------------  -----         \n",
      " 0   endTime     20586 non-null  datetime64[ns]\n",
      " 1   artistName  20586 non-null  string        \n",
      " 2   trackName   20586 non-null  string        \n",
      " 3   msPlayed    20586 non-null  int64         \n",
      "dtypes: datetime64[ns](1), int64(1), string(2)\n",
      "memory usage: 643.4 KB\n"
     ]
    }
   ],
   "source": [
    "strm_base.info()"
   ]
  },
  {
   "cell_type": "markdown",
   "metadata": {},
   "source": [
    "## Spotify API\n",
    "### Initial Exploration\n",
    "#### Initializing spotify object"
   ]
  },
  {
   "cell_type": "code",
   "execution_count": 4,
   "metadata": {},
   "outputs": [],
   "source": [
    "# add your own credentials in dev_creds.py\n",
    "from dev_creds import get_creds, alt_creds\n",
    "cid, secret = get_creds()"
   ]
  },
  {
   "cell_type": "code",
   "execution_count": 5,
   "metadata": {},
   "outputs": [],
   "source": [
    "client_credentials_manager = SpotifyClientCredentials(client_id=cid,client_secret=secret)\n",
    "sp = spotipy.Spotify(client_credentials_manager=client_credentials_manager)"
   ]
  },
  {
   "cell_type": "code",
   "execution_count": 6,
   "metadata": {},
   "outputs": [
    {
     "name": "stdout",
     "output_type": "stream",
     "text": [
      "94670d05a9154f31a72cd16f5120d63d\n",
      "afb89a35832a4ed5bd6b88a15cb7dc46\n"
     ]
    }
   ],
   "source": [
    "print(cid)\n",
    "print(secret)"
   ]
  },
  {
   "cell_type": "code",
   "execution_count": 7,
   "metadata": {},
   "outputs": [],
   "source": [
    "# test code\n",
    "playlist_link = \"https://open.spotify.com/playlist/37i9dQZEVXbNG2KDcFcKOF?si=1333723a6eff4b7f\"\n",
    "playlist_URI = playlist_link.split(\"/\")[-1].split(\"?\")[0]\n",
    "track_uris = [x[\"track\"][\"uri\"] for x in sp.playlist_tracks(playlist_URI)[\"items\"]]"
   ]
  },
  {
   "cell_type": "markdown",
   "metadata": {},
   "source": [
    "### Exploring sp.search query"
   ]
  },
  {
   "cell_type": "code",
   "execution_count": 13,
   "metadata": {},
   "outputs": [
    {
     "data": {
      "text/plain": [
       "'\\nimport time\\nstart_time = time.time()\\n\\ntest = sp.search(\\'move brb\\')\\n\\nprint(\"My program took\", time.time() - start_time, \"to run\")\\n'"
      ]
     },
     "execution_count": 13,
     "metadata": {},
     "output_type": "execute_result"
    }
   ],
   "source": [
    "'''\n",
    "import time\n",
    "start_time = time.time()\n",
    "\n",
    "test = sp.search('move brb')\n",
    "\n",
    "print(\"My program took\", time.time() - start_time, \"to run\")\n",
    "'''"
   ]
  },
  {
   "cell_type": "code",
   "execution_count": 14,
   "metadata": {},
   "outputs": [],
   "source": [
    "#type(test)"
   ]
  },
  {
   "cell_type": "code",
   "execution_count": 15,
   "metadata": {},
   "outputs": [],
   "source": [
    "#test.keys()"
   ]
  },
  {
   "cell_type": "code",
   "execution_count": 16,
   "metadata": {},
   "outputs": [],
   "source": [
    "#test['tracks'].keys()"
   ]
  },
  {
   "cell_type": "code",
   "execution_count": 17,
   "metadata": {},
   "outputs": [],
   "source": [
    "#test['tracks']['total']"
   ]
  },
  {
   "cell_type": "code",
   "execution_count": 18,
   "metadata": {},
   "outputs": [],
   "source": [
    "#len(test['tracks']['items'])"
   ]
  },
  {
   "cell_type": "code",
   "execution_count": 19,
   "metadata": {},
   "outputs": [],
   "source": [
    "#test['tracks']['items'][0].keys()"
   ]
  },
  {
   "cell_type": "code",
   "execution_count": 20,
   "metadata": {},
   "outputs": [],
   "source": [
    "#test['tracks']['items'][0]['id']"
   ]
  },
  {
   "cell_type": "code",
   "execution_count": 21,
   "metadata": {},
   "outputs": [],
   "source": [
    "#test['tracks']['items'][0]['album']"
   ]
  },
  {
   "cell_type": "code",
   "execution_count": 22,
   "metadata": {},
   "outputs": [],
   "source": [
    "#test['tracks']['items'][0]['album']['id']"
   ]
  },
  {
   "cell_type": "code",
   "execution_count": 23,
   "metadata": {},
   "outputs": [],
   "source": [
    "#test['tracks']['items'][0]['artists']"
   ]
  },
  {
   "cell_type": "code",
   "execution_count": 24,
   "metadata": {},
   "outputs": [],
   "source": [
    "#test['tracks']['items'][0]['name']"
   ]
  },
  {
   "cell_type": "markdown",
   "metadata": {},
   "source": [
    "#### Findings\n",
    "The format of the search return appears to be a dictionary which starts with 'tracks' since we search tracks (default) and then the parameters of the search where 'items' are the songs returned. Items is a list of 10 since default limit=10 where each entry in the list is a dictionary. We want to extract the name and artist to match with our streaming data and then retrieve the spotify song_id if they match (we don't need to worry about duplicate songs e.g. songs released by an artist first as a single and then in an album since the songs should have the same features/genre etc).\n",
    "\n",
    "Additionally, we can extract the album id while we extract song id. This can potentially be useful for getting genre information. "
   ]
  },
  {
   "cell_type": "markdown",
   "metadata": {},
   "source": [
    "### Song_artist Object\n",
    "#### Creating object which stores song and artist data for later extraction\n"
   ]
  },
  {
   "cell_type": "code",
   "execution_count": 25,
   "metadata": {},
   "outputs": [],
   "source": [
    "from objects import song_artist\n",
    "\n",
    "# testing song_artist object\n",
    "sa = song_artist('move','brb')"
   ]
  },
  {
   "cell_type": "code",
   "execution_count": 26,
   "metadata": {},
   "outputs": [
    {
     "name": "stdout",
     "output_type": "stream",
     "text": [
      "move\n",
      "brb\n"
     ]
    }
   ],
   "source": [
    "print(sa.song)\n",
    "print(sa.artist)"
   ]
  },
  {
   "cell_type": "markdown",
   "metadata": {},
   "source": [
    "### Search-match function\n",
    "#### Creating a function which returns track_id\n",
    "This function will take in a `song_artist` object as a parameter and perform a search using the song and artist names. It then iterates through the returned tracks and matches our name-artist pair with one of the search outputs and returns the spotify `track_id` for that track. "
   ]
  },
  {
   "cell_type": "code",
   "execution_count": 27,
   "metadata": {},
   "outputs": [],
   "source": [
    "def search_getid(worker, song_artist):\n",
    "    pair = song_artist.song + ' ' + song_artist.artist\n",
    "    temp = worker.search(pair)\n",
    "    end = len(temp['tracks']['items'])\n",
    "    for x in range(0,end):\n",
    "        #print(x)\n",
    "        #print(len(temp['tracks']['items']))\n",
    "        #print(temp['tracks']['items'])\n",
    "        out_track = temp['tracks']['items'][x]['name']\n",
    "        out_artist = temp['tracks']['items'][x]['artists'][0]['name']\n",
    "        track_id = temp['tracks']['items'][x]['id']\n",
    "        if ((song_artist.song == out_track) and (song_artist.artist == out_artist)):\n",
    "            return(track_id)"
   ]
  },
  {
   "cell_type": "code",
   "execution_count": 28,
   "metadata": {},
   "outputs": [
    {
     "data": {
      "text/plain": [
       "'\\nstart_time = time.time()\\n\\ntemp = song_artist(\\'The Weekend (with 347aidan) - Remix\\',\\'88rising\\')\\n\\nprint(search_getid(sp,temp)) #check passed \\n\\nprint(\"My program took\", time.time() - start_time, \"to run\")\\n'"
      ]
     },
     "execution_count": 28,
     "metadata": {},
     "output_type": "execute_result"
    }
   ],
   "source": [
    "'''\n",
    "start_time = time.time()\n",
    "\n",
    "temp = song_artist('The Weekend (with 347aidan) - Remix','88rising')\n",
    "\n",
    "print(search_getid(sp,temp)) #check passed \n",
    "\n",
    "print(\"My program took\", time.time() - start_time, \"to run\")\n",
    "'''"
   ]
  },
  {
   "cell_type": "markdown",
   "metadata": {},
   "source": [
    "#### Adding Track IDs to Streaming Data"
   ]
  },
  {
   "cell_type": "markdown",
   "metadata": {},
   "source": [
    "My initial attempt to complete this task used .apply to apply the function to the entire dataframe. However, this resulted in time out error where the cell would be stuck running but the api was not responsive. As a result, I believe it is not possible to apply the function to the entire dataframe. My next attempt is to split the dataframe up and apply the function to each part, changing the client_id and client_secret as needed. Finally, I decided to parallelize the operation while also simultaneously extracting audio_features and genre information. "
   ]
  },
  {
   "cell_type": "markdown",
   "metadata": {},
   "source": [
    "**Attempt 1**"
   ]
  },
  {
   "cell_type": "code",
   "execution_count": 29,
   "metadata": {},
   "outputs": [],
   "source": [
    "#import time\n",
    "#start_time = time.time()\n",
    "\n",
    "#df_ids = strm_base\n",
    "#df_ids['trackIDs'] = df_ids.apply(lambda x: search_getid(x['trackName'], x['artistName']), axis=1)\n",
    "\n",
    "#print(\"My program took\", time.time() - start_time, \"to run\")"
   ]
  },
  {
   "cell_type": "code",
   "execution_count": 30,
   "metadata": {},
   "outputs": [],
   "source": [
    "#df_ids.info()"
   ]
  },
  {
   "cell_type": "markdown",
   "metadata": {},
   "source": [
    "**Attempt 2**"
   ]
  },
  {
   "cell_type": "code",
   "execution_count": 31,
   "metadata": {},
   "outputs": [],
   "source": [
    "#start_time = time.time()\n",
    "\n",
    "#df_1 = strm_base.iloc[0:5000,:]\n",
    "#df_1['trackIDs'] = df_1.apply(lambda x: search_getid(x['trackName'], x['artistName']), axis=1)\n",
    "\n",
    "#print(\"My program took\", time.time() - start_time, \"to run\") # My program took 661.2164733409882 to run\n",
    "# approx 11 min runtime"
   ]
  },
  {
   "cell_type": "code",
   "execution_count": 32,
   "metadata": {},
   "outputs": [],
   "source": [
    "#df_1.to_csv(path_or_buf='data/ids_1.csv')"
   ]
  },
  {
   "cell_type": "code",
   "execution_count": 33,
   "metadata": {},
   "outputs": [
    {
     "name": "stdout",
     "output_type": "stream",
     "text": [
      "1657921625.9955254\n"
     ]
    },
    {
     "data": {
      "text/plain": [
       "'\\nfor alt in range(0,5):\\n    cid, secret = alt_creds(alt)\\n    client_credentials_manager = SpotifyClientCredentials(client_id=cid,client_secret=secret)\\n    sp = spotipy.Spotify(client_credentials_manager=client_credentials_manager)\\n    \\n    if (alt == 0):\\n        start = (alt) * (strm_base.shape[0]/5)\\n    else:\\n        start = (alt) * (strm_base.shape[0]/5) + 1\\n    if (alt ==4):\\n        end = strm_base.shape[0]\\n    else:\\n        end = math.floor((alt+1) * (strm_base.shape[0]/5))\\n    \\n    df=strm_base.iloc[int(start):int(end),:]\\n    df[\\'trackIDs\\'] = df.apply(lambda x: search_getid(x[\\'trackName\\'], x[\\'artistName\\']), axis=1)\\n    \\n    path = \\'data/ids_\\' + str(alt) + \\'.csv\\'\\n    df.to_csv(path_or_buf=path)\\n\\nprint(\"My program took\", time.time() - start_time, \"to run\")'"
      ]
     },
     "execution_count": 33,
     "metadata": {},
     "output_type": "execute_result"
    }
   ],
   "source": [
    "from dev_creds import alt_creds\n",
    "import math\n",
    "\n",
    "start_time = time.time()\n",
    "print(start_time)\n",
    "'''\n",
    "for alt in range(0,5):\n",
    "    cid, secret = alt_creds(alt)\n",
    "    client_credentials_manager = SpotifyClientCredentials(client_id=cid,client_secret=secret)\n",
    "    sp = spotipy.Spotify(client_credentials_manager=client_credentials_manager)\n",
    "    \n",
    "    if (alt == 0):\n",
    "        start = (alt) * (strm_base.shape[0]/5)\n",
    "    else:\n",
    "        start = (alt) * (strm_base.shape[0]/5) + 1\n",
    "    if (alt ==4):\n",
    "        end = strm_base.shape[0]\n",
    "    else:\n",
    "        end = math.floor((alt+1) * (strm_base.shape[0]/5))\n",
    "    \n",
    "    df=strm_base.iloc[int(start):int(end),:]\n",
    "    df['trackIDs'] = df.apply(lambda x: search_getid(x['trackName'], x['artistName']), axis=1)\n",
    "    \n",
    "    path = 'data/ids_' + str(alt) + '.csv'\n",
    "    df.to_csv(path_or_buf=path)\n",
    "\n",
    "print(\"My program took\", time.time() - start_time, \"to run\")''' # full loop takes around an hour to run, each iteration takes around 9-11 min"
   ]
  },
  {
   "cell_type": "code",
   "execution_count": 34,
   "metadata": {},
   "outputs": [],
   "source": [
    "full_ids = pd.DataFrame()\n",
    "for file in os.listdir(\"./data\"):\n",
    "    if file.startswith(\"ids_\"):\n",
    "        file_path = \"./data/\" + file\n",
    "        temp = pd.read_csv(file_path)\n",
    "        full_ids = pd.concat([full_ids,temp])"
   ]
  },
  {
   "cell_type": "code",
   "execution_count": 35,
   "metadata": {},
   "outputs": [
    {
     "name": "stdout",
     "output_type": "stream",
     "text": [
      "<class 'pandas.core.frame.DataFrame'>\n",
      "Int64Index: 20582 entries, 0 to 4116\n",
      "Data columns (total 6 columns):\n",
      " #   Column      Non-Null Count  Dtype \n",
      "---  ------      --------------  ----- \n",
      " 0   Unnamed: 0  20582 non-null  int64 \n",
      " 1   endTime     20582 non-null  object\n",
      " 2   artistName  20582 non-null  object\n",
      " 3   trackName   20582 non-null  object\n",
      " 4   msPlayed    20582 non-null  int64 \n",
      " 5   trackIDs    20360 non-null  object\n",
      "dtypes: int64(2), object(4)\n",
      "memory usage: 1.1+ MB\n"
     ]
    }
   ],
   "source": [
    "full_ids.info()"
   ]
  },
  {
   "cell_type": "code",
   "execution_count": 36,
   "metadata": {},
   "outputs": [
    {
     "data": {
      "text/html": [
       "<div>\n",
       "<style scoped>\n",
       "    .dataframe tbody tr th:only-of-type {\n",
       "        vertical-align: middle;\n",
       "    }\n",
       "\n",
       "    .dataframe tbody tr th {\n",
       "        vertical-align: top;\n",
       "    }\n",
       "\n",
       "    .dataframe thead th {\n",
       "        text-align: right;\n",
       "    }\n",
       "</style>\n",
       "<table border=\"1\" class=\"dataframe\">\n",
       "  <thead>\n",
       "    <tr style=\"text-align: right;\">\n",
       "      <th></th>\n",
       "      <th>Unnamed: 0</th>\n",
       "      <th>endTime</th>\n",
       "      <th>artistName</th>\n",
       "      <th>trackName</th>\n",
       "      <th>msPlayed</th>\n",
       "      <th>trackIDs</th>\n",
       "    </tr>\n",
       "  </thead>\n",
       "  <tbody>\n",
       "    <tr>\n",
       "      <th>67</th>\n",
       "      <td>67</td>\n",
       "      <td>2021-11-08 00:28:00</td>\n",
       "      <td>Life Kit</td>\n",
       "      <td>How To Wake Up Early, Even If You're Not A Mor...</td>\n",
       "      <td>1291310</td>\n",
       "      <td>NaN</td>\n",
       "    </tr>\n",
       "    <tr>\n",
       "      <th>126</th>\n",
       "      <td>126</td>\n",
       "      <td>2021-11-09 01:38:00</td>\n",
       "      <td>Alonestar</td>\n",
       "      <td>Raise Em Up (House Remix) (feat. Ed Sheeran)</td>\n",
       "      <td>1990</td>\n",
       "      <td>NaN</td>\n",
       "    </tr>\n",
       "    <tr>\n",
       "      <th>310</th>\n",
       "      <td>310</td>\n",
       "      <td>2021-11-17 03:25:00</td>\n",
       "      <td>Macro Musings with David Beckworth</td>\n",
       "      <td>03 - John Cochrane on Finance, the Fiscal Theo...</td>\n",
       "      <td>1287330</td>\n",
       "      <td>NaN</td>\n",
       "    </tr>\n",
       "    <tr>\n",
       "      <th>411</th>\n",
       "      <td>411</td>\n",
       "      <td>2021-11-22 22:12:00</td>\n",
       "      <td>Ben Rosett</td>\n",
       "      <td>Shadow Galaxy</td>\n",
       "      <td>157959</td>\n",
       "      <td>NaN</td>\n",
       "    </tr>\n",
       "    <tr>\n",
       "      <th>441</th>\n",
       "      <td>441</td>\n",
       "      <td>2021-11-23 08:04:00</td>\n",
       "      <td>Third Party</td>\n",
       "      <td>We Found Love</td>\n",
       "      <td>205714</td>\n",
       "      <td>NaN</td>\n",
       "    </tr>\n",
       "    <tr>\n",
       "      <th>...</th>\n",
       "      <td>...</td>\n",
       "      <td>...</td>\n",
       "      <td>...</td>\n",
       "      <td>...</td>\n",
       "      <td>...</td>\n",
       "      <td>...</td>\n",
       "    </tr>\n",
       "    <tr>\n",
       "      <th>3434</th>\n",
       "      <td>19903</td>\n",
       "      <td>2021-11-02 03:23:00</td>\n",
       "      <td>Alonestar</td>\n",
       "      <td>Raise Em Up (House Remix) (feat. Ed Sheeran)</td>\n",
       "      <td>45518</td>\n",
       "      <td>NaN</td>\n",
       "    </tr>\n",
       "    <tr>\n",
       "      <th>3535</th>\n",
       "      <td>20004</td>\n",
       "      <td>2022-04-29 21:38:00</td>\n",
       "      <td>nzev</td>\n",
       "      <td>Lay It Down</td>\n",
       "      <td>640</td>\n",
       "      <td>NaN</td>\n",
       "    </tr>\n",
       "    <tr>\n",
       "      <th>3565</th>\n",
       "      <td>20034</td>\n",
       "      <td>2022-04-29 23:16:00</td>\n",
       "      <td>DAWNBRINGERS</td>\n",
       "      <td>wishing</td>\n",
       "      <td>1400</td>\n",
       "      <td>NaN</td>\n",
       "    </tr>\n",
       "    <tr>\n",
       "      <th>3566</th>\n",
       "      <td>20035</td>\n",
       "      <td>2022-04-29 23:16:00</td>\n",
       "      <td>DAWNBRINGERS</td>\n",
       "      <td>wishing</td>\n",
       "      <td>26180</td>\n",
       "      <td>NaN</td>\n",
       "    </tr>\n",
       "    <tr>\n",
       "      <th>3930</th>\n",
       "      <td>20399</td>\n",
       "      <td>2022-05-08 04:51:00</td>\n",
       "      <td>nzev</td>\n",
       "      <td>Lay It Down</td>\n",
       "      <td>41088</td>\n",
       "      <td>NaN</td>\n",
       "    </tr>\n",
       "  </tbody>\n",
       "</table>\n",
       "<p>222 rows × 6 columns</p>\n",
       "</div>"
      ],
      "text/plain": [
       "      Unnamed: 0              endTime                          artistName  \\\n",
       "67            67  2021-11-08 00:28:00                            Life Kit   \n",
       "126          126  2021-11-09 01:38:00                           Alonestar   \n",
       "310          310  2021-11-17 03:25:00  Macro Musings with David Beckworth   \n",
       "411          411  2021-11-22 22:12:00                          Ben Rosett   \n",
       "441          441  2021-11-23 08:04:00                         Third Party   \n",
       "...          ...                  ...                                 ...   \n",
       "3434       19903  2021-11-02 03:23:00                           Alonestar   \n",
       "3535       20004  2022-04-29 21:38:00                                nzev   \n",
       "3565       20034  2022-04-29 23:16:00                        DAWNBRINGERS   \n",
       "3566       20035  2022-04-29 23:16:00                        DAWNBRINGERS   \n",
       "3930       20399  2022-05-08 04:51:00                                nzev   \n",
       "\n",
       "                                              trackName  msPlayed trackIDs  \n",
       "67    How To Wake Up Early, Even If You're Not A Mor...   1291310      NaN  \n",
       "126        Raise Em Up (House Remix) (feat. Ed Sheeran)      1990      NaN  \n",
       "310   03 - John Cochrane on Finance, the Fiscal Theo...   1287330      NaN  \n",
       "411                                       Shadow Galaxy    157959      NaN  \n",
       "441                                       We Found Love    205714      NaN  \n",
       "...                                                 ...       ...      ...  \n",
       "3434       Raise Em Up (House Remix) (feat. Ed Sheeran)     45518      NaN  \n",
       "3535                                        Lay It Down       640      NaN  \n",
       "3565                                            wishing      1400      NaN  \n",
       "3566                                            wishing     26180      NaN  \n",
       "3930                                        Lay It Down     41088      NaN  \n",
       "\n",
       "[222 rows x 6 columns]"
      ]
     },
     "execution_count": 36,
     "metadata": {},
     "output_type": "execute_result"
    }
   ],
   "source": [
    "full_ids[pd.isnull(full_ids['trackIDs'])]"
   ]
  },
  {
   "cell_type": "code",
   "execution_count": 37,
   "metadata": {},
   "outputs": [],
   "source": [
    "#start_time = time.time()\n",
    "\n",
    "#df_2 = strm_base.iloc[5001:10000,:]\n",
    "#df_2['trackIDs'] = df_2.apply(lambda x: search_getid(x['trackName'], x['artistName']), axis=1)\n",
    "\n",
    "#print(\"My program took\", time.time() - start_time, \"to run\")"
   ]
  },
  {
   "cell_type": "code",
   "execution_count": 38,
   "metadata": {},
   "outputs": [],
   "source": [
    "#start_time = time.time()\n",
    "\n",
    "#df_3 = strm_base.iloc[10001:15000,:]\n",
    "#df_3['trackIDs'] = df_3.apply(lambda x: search_getid(x['trackName'], x['artistName']), axis=1)\n",
    "\n",
    "#print(\"My program took\", time.time() - start_time, \"to run\")"
   ]
  },
  {
   "cell_type": "code",
   "execution_count": 39,
   "metadata": {},
   "outputs": [],
   "source": [
    "#start_time = time.time()\n",
    "\n",
    "#df_4 = strm_base.iloc[15000:strm_base.shape[0],:]\n",
    "#df_4['trackIDs'] = df_4.apply(lambda x: search_getid(x['trackName'], x['artistName']), axis=1)\n",
    "\n",
    "#print(\"My program took\", time.time() - start_time, \"to run\")"
   ]
  },
  {
   "cell_type": "markdown",
   "metadata": {},
   "source": [
    "### Parallelization of Operations\n",
    "\n",
    "Here, we adapt the methods used in parallelization of selenium webdriver scraping operations to matching track ids and adding features to each song. We first explore how features are added to determine how to best add it to the dataframe and then add this to the parallel operation."
   ]
  },
  {
   "cell_type": "markdown",
   "metadata": {},
   "source": [
    "#### Exploring Adding Features "
   ]
  },
  {
   "cell_type": "code",
   "execution_count": 40,
   "metadata": {},
   "outputs": [],
   "source": [
    "sa = song_artist('free love','HONNE')"
   ]
  },
  {
   "cell_type": "code",
   "execution_count": 41,
   "metadata": {},
   "outputs": [
    {
     "name": "stdout",
     "output_type": "stream",
     "text": [
      "0GPJSHYaXh8rZSSJoUMgyl\n"
     ]
    }
   ],
   "source": [
    "from methods import search_getid\n",
    "from methods import sp_worker\n",
    "\n",
    "sp = sp_worker(1)\n",
    "\n",
    "song_id = search_getid(sp,sa)\n",
    "print(song_id)"
   ]
  },
  {
   "cell_type": "code",
   "execution_count": 42,
   "metadata": {},
   "outputs": [],
   "source": [
    "feat = sp.audio_features(song_id)"
   ]
  },
  {
   "cell_type": "code",
   "execution_count": 43,
   "metadata": {},
   "outputs": [
    {
     "name": "stdout",
     "output_type": "stream",
     "text": [
      "[{'danceability': 0.708, 'energy': 0.68, 'key': 9, 'loudness': -8.203, 'mode': 1, 'speechiness': 0.0519, 'acousticness': 0.0625, 'instrumentalness': 0, 'liveness': 0.152, 'valence': 0.7, 'tempo': 133.947, 'type': 'audio_features', 'id': '0GPJSHYaXh8rZSSJoUMgyl', 'uri': 'spotify:track:0GPJSHYaXh8rZSSJoUMgyl', 'track_href': 'https://api.spotify.com/v1/tracks/0GPJSHYaXh8rZSSJoUMgyl', 'analysis_url': 'https://api.spotify.com/v1/audio-analysis/0GPJSHYaXh8rZSSJoUMgyl', 'duration_ms': 209280, 'time_signature': 4}]\n",
      "18\n"
     ]
    }
   ],
   "source": [
    "print(feat)\n",
    "print(len(feat[0]))"
   ]
  },
  {
   "cell_type": "code",
   "execution_count": 44,
   "metadata": {},
   "outputs": [
    {
     "data": {
      "text/plain": [
       "[0.708,\n",
       " 0.68,\n",
       " 9,\n",
       " -8.203,\n",
       " 1,\n",
       " 0.0519,\n",
       " 0.0625,\n",
       " 0,\n",
       " 0.152,\n",
       " 0.7,\n",
       " 133.947,\n",
       " 'audio_features',\n",
       " '0GPJSHYaXh8rZSSJoUMgyl',\n",
       " 'spotify:track:0GPJSHYaXh8rZSSJoUMgyl',\n",
       " 'https://api.spotify.com/v1/tracks/0GPJSHYaXh8rZSSJoUMgyl',\n",
       " 'https://api.spotify.com/v1/audio-analysis/0GPJSHYaXh8rZSSJoUMgyl',\n",
       " 209280,\n",
       " 4]"
      ]
     },
     "execution_count": 44,
     "metadata": {},
     "output_type": "execute_result"
    }
   ],
   "source": [
    "list(feat[0].values())"
   ]
  },
  {
   "cell_type": "code",
   "execution_count": 45,
   "metadata": {},
   "outputs": [
    {
     "data": {
      "text/plain": [
       "['danceability',\n",
       " 'energy',\n",
       " 'key',\n",
       " 'loudness',\n",
       " 'mode',\n",
       " 'speechiness',\n",
       " 'acousticness',\n",
       " 'instrumentalness',\n",
       " 'liveness',\n",
       " 'valence',\n",
       " 'tempo',\n",
       " 'type',\n",
       " 'id',\n",
       " 'uri',\n",
       " 'track_href',\n",
       " 'analysis_url',\n",
       " 'duration_ms',\n",
       " 'time_signature']"
      ]
     },
     "execution_count": 45,
     "metadata": {},
     "output_type": "execute_result"
    }
   ],
   "source": [
    "list(feat[0].keys())"
   ]
  },
  {
   "cell_type": "code",
   "execution_count": 46,
   "metadata": {},
   "outputs": [
    {
     "name": "stdout",
     "output_type": "stream",
     "text": [
      "['danceability', 'energy', 'key', 'loudness', 'mode', 'speechiness', 'acousticness', 'instrumentalness', 'liveness', 'valence', 'tempo', 'duration_ms', 'time_signature']\n",
      "13\n"
     ]
    }
   ],
   "source": [
    "temp = list(feat[0].keys())\n",
    "del temp[-7:-2]\n",
    "print(temp)\n",
    "print(len(temp))"
   ]
  },
  {
   "cell_type": "markdown",
   "metadata": {},
   "source": [
    "**Findings**:\n",
    "\n",
    "It appears that `audio_features` returns a list of length one containing a dictionary of the features of the track given a track id. We can extract and get the relevant features by converting the dictionary values into a list for writing into a csv. The column names of the csv can also be created by the same method."
   ]
  },
  {
   "cell_type": "markdown",
   "metadata": {},
   "source": [
    "#### Exploring Getting Genre Info"
   ]
  },
  {
   "cell_type": "markdown",
   "metadata": {},
   "source": [
    "*via album*"
   ]
  },
  {
   "cell_type": "code",
   "execution_count": 47,
   "metadata": {},
   "outputs": [
    {
     "data": {
      "text/plain": [
       "'1ATL5GLyefJaxhQzSPVrLX'"
      ]
     },
     "execution_count": 47,
     "metadata": {},
     "output_type": "execute_result"
    }
   ],
   "source": [
    "s = sp.search('gods plan drake')\n",
    "s['tracks']['items'][0]['album']['id']"
   ]
  },
  {
   "cell_type": "code",
   "execution_count": 48,
   "metadata": {},
   "outputs": [],
   "source": [
    "alb = s['tracks']['items'][0]['album']['id']"
   ]
  },
  {
   "cell_type": "code",
   "execution_count": 49,
   "metadata": {},
   "outputs": [],
   "source": [
    "alb_feat = sp.album(alb)"
   ]
  },
  {
   "cell_type": "code",
   "execution_count": 50,
   "metadata": {},
   "outputs": [
    {
     "data": {
      "text/plain": [
       "dict_keys(['album_type', 'artists', 'available_markets', 'copyrights', 'external_ids', 'external_urls', 'genres', 'href', 'id', 'images', 'label', 'name', 'popularity', 'release_date', 'release_date_precision', 'total_tracks', 'tracks', 'type', 'uri'])"
      ]
     },
     "execution_count": 50,
     "metadata": {},
     "output_type": "execute_result"
    }
   ],
   "source": [
    "alb_feat.keys()"
   ]
  },
  {
   "cell_type": "code",
   "execution_count": 51,
   "metadata": {},
   "outputs": [
    {
     "data": {
      "text/plain": [
       "[]"
      ]
     },
     "execution_count": 51,
     "metadata": {},
     "output_type": "execute_result"
    }
   ],
   "source": [
    "alb_feat['genres']"
   ]
  },
  {
   "cell_type": "markdown",
   "metadata": {},
   "source": [
    "*via artist*"
   ]
  },
  {
   "cell_type": "code",
   "execution_count": 52,
   "metadata": {},
   "outputs": [
    {
     "data": {
      "text/plain": [
       "[{'external_urls': {'spotify': 'https://open.spotify.com/artist/3TVXtAsR1Inumwj472S9r4'},\n",
       "  'href': 'https://api.spotify.com/v1/artists/3TVXtAsR1Inumwj472S9r4',\n",
       "  'id': '3TVXtAsR1Inumwj472S9r4',\n",
       "  'name': 'Drake',\n",
       "  'type': 'artist',\n",
       "  'uri': 'spotify:artist:3TVXtAsR1Inumwj472S9r4'}]"
      ]
     },
     "execution_count": 52,
     "metadata": {},
     "output_type": "execute_result"
    }
   ],
   "source": [
    "s['tracks']['items'][0]['artists']"
   ]
  },
  {
   "cell_type": "code",
   "execution_count": 53,
   "metadata": {},
   "outputs": [],
   "source": [
    "artist_id = s['tracks']['items'][0]['artists'][0]['id']"
   ]
  },
  {
   "cell_type": "code",
   "execution_count": 54,
   "metadata": {},
   "outputs": [],
   "source": [
    "art_info = sp.artist(artist_id)"
   ]
  },
  {
   "cell_type": "code",
   "execution_count": 55,
   "metadata": {},
   "outputs": [
    {
     "data": {
      "text/plain": [
       "dict_keys(['external_urls', 'followers', 'genres', 'href', 'id', 'images', 'name', 'popularity', 'type', 'uri'])"
      ]
     },
     "execution_count": 55,
     "metadata": {},
     "output_type": "execute_result"
    }
   ],
   "source": [
    "art_info.keys()"
   ]
  },
  {
   "cell_type": "code",
   "execution_count": 56,
   "metadata": {},
   "outputs": [
    {
     "data": {
      "text/plain": [
       "['canadian hip hop', 'canadian pop', 'hip hop', 'rap', 'toronto rap']"
      ]
     },
     "execution_count": 56,
     "metadata": {},
     "output_type": "execute_result"
    }
   ],
   "source": [
    "art_info['genres']"
   ]
  },
  {
   "cell_type": "code",
   "execution_count": 57,
   "metadata": {},
   "outputs": [
    {
     "data": {
      "text/plain": [
       "126"
      ]
     },
     "execution_count": 57,
     "metadata": {},
     "output_type": "execute_result"
    }
   ],
   "source": [
    "len(sp.recommendation_genre_seeds()['genres'])"
   ]
  },
  {
   "cell_type": "markdown",
   "metadata": {},
   "source": [
    "**Findings**:\n",
    "\n",
    "Strangely, it appears that using albums returns no genre for a number of songs. As a result, this method of obtaining genre information may be unreliable. We will test this further on the rest of the dataset. Additionally, using artist to get genre information appears to be too broad of a measure, with a number of genres listed that may not be indicative of the genre of the given song. \n",
    "\n",
    "Depending on how further testing of the album method goes, one potential solution could be to supplement spotify data with genre information from another website(s). This would require implementing some kind of webscraping algorithm to iterate through the list of song+artist pairs and extract genre information. \n",
    "\n",
    "Upon further research [online](https://community.spotify.com/t5/Spotify-for-Developers/Getting-album-not-getting-genre/td-p/5093156), it appears that neither tracks nor albums have genre data population, and assigning aggregate artist genre tags to individual tracks would most likely result in inaccurate analyses. As a result, I plan on exploring workarounds so that I can add genre data to my dataset e.g. webscraping."
   ]
  },
  {
   "cell_type": "markdown",
   "metadata": {},
   "source": [
    "#### Parallelization \n",
    "\n",
    "**Creating Method for Audio Feature Extraction**\n",
    "\n",
    "This method takes in a spotipy worker/object and a track id and returns a list of the relevant features"
   ]
  },
  {
   "cell_type": "code",
   "execution_count": 58,
   "metadata": {},
   "outputs": [],
   "source": [
    "def get_features(worker, track_id):\n",
    "    ft = worker.audio_features(track_id)\n",
    "    feats = list(ft[0].values())\n",
    "    del feats[-7:-2]\n",
    "    \n",
    "    return(feats)"
   ]
  },
  {
   "cell_type": "code",
   "execution_count": 59,
   "metadata": {},
   "outputs": [
    {
     "data": {
      "text/plain": [
       "[0.708, 0.68, 9, -8.203, 1, 0.0519, 0.0625, 0, 0.152, 0.7, 133.947, 209280, 4]"
      ]
     },
     "execution_count": 59,
     "metadata": {},
     "output_type": "execute_result"
    }
   ],
   "source": [
    "get_features(sp,song_id)"
   ]
  },
  {
   "cell_type": "markdown",
   "metadata": {},
   "source": [
    "**Initalizing Table**"
   ]
  },
  {
   "cell_type": "code",
   "execution_count": 60,
   "metadata": {},
   "outputs": [],
   "source": [
    "col_og = ['song_artist','track_id']\n",
    "col_feat = list(feat[0].keys())\n",
    "del col_feat[-7:-2]\n",
    "col_names = col_og + col_feat"
   ]
  },
  {
   "cell_type": "code",
   "execution_count": 61,
   "metadata": {},
   "outputs": [],
   "source": [
    "file = open('./modified/id_feats.csv', 'w')\n",
    "writer = csv.writer(file)\n",
    "writer.writerow(col_names)\n",
    "file.close()"
   ]
  },
  {
   "cell_type": "markdown",
   "metadata": {},
   "source": [
    "**Performing Operation**\n",
    "\n",
    "The `parallel` function takes in a list of data, here song_artist objects, and a function name, here `id_feats`. It will iterate through the song_artist objects utilizing each spotipy worker and return a completed link table which uses song_artist objects as the key.\n",
    "\n",
    "First we must create the column of song_artist objects that will be the input for this operation."
   ]
  },
  {
   "cell_type": "code",
   "execution_count": 62,
   "metadata": {},
   "outputs": [],
   "source": [
    "from objects import song_artist\n",
    "\n",
    "strm_base['song_artist'] = strm_base.apply(lambda x: song_artist(x['trackName'], x['artistName']), axis=1)"
   ]
  },
  {
   "cell_type": "code",
   "execution_count": 63,
   "metadata": {},
   "outputs": [],
   "source": [
    "data = strm_base['song_artist'].tolist()"
   ]
  },
  {
   "cell_type": "code",
   "execution_count": 64,
   "metadata": {},
   "outputs": [
    {
     "data": {
      "text/plain": [
       "'\\nfrom parallelization import parallel\\nfrom methods import id_feats\\nstart_time = time.time()\\n\\nparallel(data,id_feats)\\n\\nprint(\"Table creation took\", time.time()-start_time, \"to run\") # 1996.9691202640533 (33 min) for entire run\\n'"
      ]
     },
     "execution_count": 64,
     "metadata": {},
     "output_type": "execute_result"
    }
   ],
   "source": [
    "'''\n",
    "from parallelization import parallel\n",
    "from methods import id_feats\n",
    "start_time = time.time()\n",
    "\n",
    "parallel(data,id_feats)\n",
    "\n",
    "print(\"Table creation took\", time.time()-start_time, \"to run\") # 1996.9691202640533 (33 min) for entire run\n",
    "'''"
   ]
  },
  {
   "cell_type": "markdown",
   "metadata": {},
   "source": [
    "### Exploring Supplementary Genre Data\n",
    "\n",
    "#### Webscraping\n",
    "\n",
    "In this section, we explore using webscraping as a method to obtain track-level genre data.\n",
    "\n",
    "*Website 1: [last.fm](https://www.last.fm/)*"
   ]
  },
  {
   "cell_type": "markdown",
   "metadata": {},
   "source": [
    "Initial inspection of last.fm reveals fairly comprehensive genre data. However, you cannot directly scrape this from the search feature. You must navigate to the song page itself in order to get this information. As a result, there may be significant trial and error when attempting to create a standard query to get track info from lastfm.\n",
    "\n",
    "With a simple song e.g. free love by HONNE, the query is formatted like this: https://www.last.fm/music/HONNE/_/free+love\n",
    "\n",
    "For an artist with a two-word name e.g. Jet Fuel by Mac Miller: https://www.last.fm/music/Mac+Miller/_/Jet+Fuel\n",
    "\n",
    "Track with multiple artists e.g. Nerdy Love by pH-1 and Yerin Baek: https://www.last.fm/music/pH-1,+Yerin+Baek/_/Nerdy+Love (interestingly, this is not actually the first song that comes up when you search 'Nerdy Love pH-1 Yerin Baek', it is actually https://www.last.fm/music/pH-1/_/Nerdy+Love+(feat.+Yerin+Baek))\n",
    "\n",
    "For our dataset, we only get the first artist from Spotify when there is more than one artist on the song. With the last.fm format, it seems that they are created with https://www.last.fm/music/ + artist + /_ / + track, where the track name replaces spaces with + and maintains capitalization."
   ]
  },
  {
   "cell_type": "markdown",
   "metadata": {},
   "source": [
    "#### *last.fm* Query and Extraction:\n",
    "\n",
    "We create a function which makes a formatted artist and song query to feed into last.fm and scrape the page to extract genre information. While last.fm provides a number of tags/genres, we will only select the first one since it appears sorted by relevance as opposed to alphabetical order. This function takes in a `song_artist` object and returns the genre of the track."
   ]
  },
  {
   "cell_type": "code",
   "execution_count": 65,
   "metadata": {},
   "outputs": [],
   "source": [
    "import requests\n",
    "from bs4 import BeautifulSoup\n",
    "\n",
    "song = sa.song\n",
    "artist = sa.artist\n",
    "    \n",
    "artist_query = \"+\".join(artist.split(\" \"))\n",
    "song_query = \"+\".join(song.split(\" \"))\n",
    "    \n",
    "query = 'https://www.last.fm/music/' + artist_query + '/_/' + song_query\n",
    "    \n",
    "req = requests.get(query)\n",
    "sample = BeautifulSoup(req.content, 'html.parser')"
   ]
  },
  {
   "cell_type": "code",
   "execution_count": 66,
   "metadata": {},
   "outputs": [
    {
     "data": {
      "text/plain": [
       "'alternative rnb'"
      ]
     },
     "execution_count": 66,
     "metadata": {},
     "output_type": "execute_result"
    }
   ],
   "source": [
    "section = sample.find(name='section', class_ = 'catalogue-tags')\n",
    "section.find(name='li').string"
   ]
  },
  {
   "cell_type": "code",
   "execution_count": 67,
   "metadata": {},
   "outputs": [],
   "source": [
    "def get_genre(song_artist):\n",
    "    song = song_artist.song\n",
    "    artist = song_artist.artist\n",
    "    \n",
    "    artist_query = \"+\".join(artist.split(\" \"))\n",
    "    song_query = \"+\".join(song.split(\" \"))\n",
    "    \n",
    "    query = 'https://www.last.fm/music/' + artist_query + '/_/' + song_query\n",
    "    \n",
    "    req = requests.get(query)\n",
    "    sample = BeautifulSoup(req.content, 'html.parser')\n",
    "    \n",
    "    try:\n",
    "        section = sample.find(name='section', class_ = 'catalogue-tags')\n",
    "        genre = section.find(name='li').string\n",
    "    except:\n",
    "        genre = np.nan\n",
    "    \n",
    "    return genre"
   ]
  },
  {
   "cell_type": "code",
   "execution_count": 68,
   "metadata": {},
   "outputs": [
    {
     "data": {
      "text/plain": [
       "'alternative rnb'"
      ]
     },
     "execution_count": 68,
     "metadata": {},
     "output_type": "execute_result"
    }
   ],
   "source": [
    "get_genre(sa)"
   ]
  },
  {
   "cell_type": "markdown",
   "metadata": {},
   "source": [
    "#### *last.fm* genre extraction test\n",
    "\n",
    "Here we test our function on a subset of the data (100 entries)."
   ]
  },
  {
   "cell_type": "code",
   "execution_count": 69,
   "metadata": {},
   "outputs": [
    {
     "data": {
      "text/plain": [
       "'\\n\\nstart_time = time.time()\\n\\ngenre_test = strm_base.iloc[0:100,:].apply(lambda x: get_genre(x[\\'song_object\\']), axis=1)\\n\\nprint(\"My program took\", time.time() - start_time, \"to run\") # old code took 42s to scrape 100 genres\\n\\n'"
      ]
     },
     "execution_count": 69,
     "metadata": {},
     "output_type": "execute_result"
    }
   ],
   "source": [
    "'''\n",
    "\n",
    "start_time = time.time()\n",
    "\n",
    "genre_test = strm_base.iloc[0:100,:].apply(lambda x: get_genre(x['song_object']), axis=1)\n",
    "\n",
    "print(\"My program took\", time.time() - start_time, \"to run\") # old code took 42s to scrape 100 genres\n",
    "\n",
    "'''"
   ]
  },
  {
   "cell_type": "code",
   "execution_count": 70,
   "metadata": {},
   "outputs": [],
   "source": [
    "#len(genre_test[pd.isnull(genre_test)])"
   ]
  },
  {
   "cell_type": "code",
   "execution_count": 71,
   "metadata": {},
   "outputs": [],
   "source": [
    "#print(genre_test)"
   ]
  },
  {
   "cell_type": "code",
   "execution_count": 72,
   "metadata": {},
   "outputs": [],
   "source": [
    "#strings = [~isinstance(n, str) for n in genre_test]"
   ]
  },
  {
   "cell_type": "code",
   "execution_count": 73,
   "metadata": {},
   "outputs": [],
   "source": [
    "#len(strings)"
   ]
  },
  {
   "cell_type": "code",
   "execution_count": 74,
   "metadata": {},
   "outputs": [],
   "source": [
    "#for x in genre_test:\n",
    "#    print(type(x))"
   ]
  },
  {
   "cell_type": "markdown",
   "metadata": {},
   "source": [
    "### Adding Genre Data to Dataset\n",
    "\n",
    "#### *last.fm* Run"
   ]
  },
  {
   "cell_type": "code",
   "execution_count": 75,
   "metadata": {},
   "outputs": [
    {
     "data": {
      "text/plain": [
       "'\\nfrom methods import get_genre\\nimport threading\\n\\nfile = open(\\'./modified/genres.csv\\', \\'w\\')\\nwriter = csv.writer(file)\\nwriter.writerow([\\'song_artist\\',\\'genre\\'])\\nfile.close()\\n\\nstart_time = time.time()\\n\\nstrm_base.apply(lambda x: get_genre(x[\\'song_artist\\']), axis=1)\\n\\nprint(\"My program took\", time.time() - start_time, \"to run\") # 51.85 for 100 genres writing to csv\\n# 6545.196605205536 (1hr 49min) for full 20586 to csv\\n'"
      ]
     },
     "execution_count": 75,
     "metadata": {},
     "output_type": "execute_result"
    }
   ],
   "source": [
    "'''\n",
    "from methods import get_genre\n",
    "import threading\n",
    "\n",
    "file = open('./modified/genres.csv', 'w')\n",
    "writer = csv.writer(file)\n",
    "writer.writerow(['song_artist','genre'])\n",
    "file.close()\n",
    "\n",
    "start_time = time.time()\n",
    "\n",
    "strm_base.apply(lambda x: get_genre(x['song_artist']), axis=1)\n",
    "\n",
    "print(\"My program took\", time.time() - start_time, \"to run\") # 51.85 for 100 genres writing to csv\n",
    "# 6545.196605205536 (1hr 49min) for full 20586 to csv\n",
    "'''"
   ]
  },
  {
   "cell_type": "markdown",
   "metadata": {},
   "source": [
    "### Combining Methods\n",
    "\n",
    "#### Creating new table and merging with stream_base"
   ]
  },
  {
   "cell_type": "code",
   "execution_count": 76,
   "metadata": {},
   "outputs": [
    {
     "name": "stdout",
     "output_type": "stream",
     "text": [
      "<class 'pandas.core.frame.DataFrame'>\n",
      "RangeIndex: 20586 entries, 0 to 20585\n",
      "Data columns (total 5 columns):\n",
      " #   Column       Non-Null Count  Dtype         \n",
      "---  ------       --------------  -----         \n",
      " 0   endTime      20586 non-null  datetime64[ns]\n",
      " 1   artistName   20586 non-null  string        \n",
      " 2   trackName    20586 non-null  string        \n",
      " 3   msPlayed     20586 non-null  int64         \n",
      " 4   song_artist  20586 non-null  object        \n",
      "dtypes: datetime64[ns](1), int64(1), object(1), string(2)\n",
      "memory usage: 804.3+ KB\n"
     ]
    }
   ],
   "source": [
    "strm_base.info()"
   ]
  },
  {
   "cell_type": "code",
   "execution_count": 77,
   "metadata": {},
   "outputs": [
    {
     "data": {
      "text/plain": [
       "20586"
      ]
     },
     "execution_count": 77,
     "metadata": {},
     "output_type": "execute_result"
    }
   ],
   "source": [
    "len(data)"
   ]
  },
  {
   "cell_type": "code",
   "execution_count": 78,
   "metadata": {},
   "outputs": [
    {
     "data": {
      "text/plain": [
       "13"
      ]
     },
     "execution_count": 78,
     "metadata": {},
     "output_type": "execute_result"
    }
   ],
   "source": [
    "len(col_feat)"
   ]
  },
  {
   "cell_type": "code",
   "execution_count": 79,
   "metadata": {},
   "outputs": [],
   "source": [
    "columns = ['track_id'] + col_feat + ['genre']"
   ]
  },
  {
   "cell_type": "code",
   "execution_count": 80,
   "metadata": {},
   "outputs": [
    {
     "data": {
      "text/plain": [
       "15"
      ]
     },
     "execution_count": 80,
     "metadata": {},
     "output_type": "execute_result"
    }
   ],
   "source": [
    "len(columns)"
   ]
  },
  {
   "cell_type": "code",
   "execution_count": 81,
   "metadata": {},
   "outputs": [
    {
     "data": {
      "text/plain": [
       "\"\\nfile = open('./modified/full_table.csv', 'w')\\nwriter = csv.writer(file)\\nwriter.writerow(columns)\\nfile.close()\\n\""
      ]
     },
     "execution_count": 81,
     "metadata": {},
     "output_type": "execute_result"
    }
   ],
   "source": [
    "'''\n",
    "file = open('./modified/full_table.csv', 'w')\n",
    "writer = csv.writer(file)\n",
    "writer.writerow(columns)\n",
    "file.close()\n",
    "'''"
   ]
  },
  {
   "cell_type": "code",
   "execution_count": 82,
   "metadata": {},
   "outputs": [
    {
     "data": {
      "text/plain": [
       "'\\nfrom parallelization import parallel\\nfrom methods import create_table\\nstart_time = time.time()\\n\\nparallel(data,create_table)\\n\\nprint(\"Table creation took\", time.time()-start_time, \"to run\") # full 5117.0232944488525 (1hr 25m)\\n# second full run (w/o errors) 4951.659981250763 (1hr 22m)\\n'"
      ]
     },
     "execution_count": 82,
     "metadata": {},
     "output_type": "execute_result"
    }
   ],
   "source": [
    "'''\n",
    "from parallelization import parallel\n",
    "from methods import create_table\n",
    "start_time = time.time()\n",
    "\n",
    "parallel(data,create_table)\n",
    "\n",
    "print(\"Table creation took\", time.time()-start_time, \"to run\") # full 5117.0232944488525 (1hr 25m)\n",
    "# second full run (w/o errors) 4951.659981250763 (1hr 22m)\n",
    "'''"
   ]
  },
  {
   "cell_type": "code",
   "execution_count": 83,
   "metadata": {},
   "outputs": [],
   "source": [
    "add_table = pd.read_csv('./modified/full_table2.csv')"
   ]
  },
  {
   "cell_type": "code",
   "execution_count": 84,
   "metadata": {},
   "outputs": [
    {
     "name": "stdout",
     "output_type": "stream",
     "text": [
      "['track_id', 'danceability', 'energy', 'key', 'loudness', 'mode', 'speechiness', 'acousticness', 'instrumentalness', 'liveness', 'valence', 'tempo', 'duration_ms', 'time_signature', 'genre']\n"
     ]
    }
   ],
   "source": [
    "print(add_table.columns.tolist())"
   ]
  },
  {
   "cell_type": "code",
   "execution_count": 85,
   "metadata": {},
   "outputs": [
    {
     "name": "stdout",
     "output_type": "stream",
     "text": [
      "<class 'pandas.core.frame.DataFrame'>\n",
      "RangeIndex: 20578 entries, 0 to 20577\n",
      "Data columns (total 15 columns):\n",
      " #   Column            Non-Null Count  Dtype  \n",
      "---  ------            --------------  -----  \n",
      " 0   track_id          19384 non-null  object \n",
      " 1   danceability      19381 non-null  object \n",
      " 2   energy            19379 non-null  float64\n",
      " 3   key               19379 non-null  float64\n",
      " 4   loudness          19379 non-null  float64\n",
      " 5   mode              19377 non-null  float64\n",
      " 6   speechiness       19377 non-null  float64\n",
      " 7   acousticness      19377 non-null  float64\n",
      " 8   instrumentalness  19377 non-null  float64\n",
      " 9   liveness          19377 non-null  float64\n",
      " 10  valence           19377 non-null  float64\n",
      " 11  tempo             19377 non-null  float64\n",
      " 12  duration_ms       19377 non-null  float64\n",
      " 13  time_signature    19377 non-null  float64\n",
      " 14  genre             14162 non-null  object \n",
      "dtypes: float64(12), object(3)\n",
      "memory usage: 2.4+ MB\n"
     ]
    }
   ],
   "source": [
    "add_table.info()"
   ]
  },
  {
   "cell_type": "code",
   "execution_count": 86,
   "metadata": {},
   "outputs": [],
   "source": [
    "comb = pd.concat([strm_base,add_table], axis = 1)"
   ]
  },
  {
   "cell_type": "code",
   "execution_count": 87,
   "metadata": {},
   "outputs": [
    {
     "name": "stdout",
     "output_type": "stream",
     "text": [
      "<class 'pandas.core.frame.DataFrame'>\n",
      "RangeIndex: 20586 entries, 0 to 20585\n",
      "Data columns (total 20 columns):\n",
      " #   Column            Non-Null Count  Dtype         \n",
      "---  ------            --------------  -----         \n",
      " 0   endTime           20586 non-null  datetime64[ns]\n",
      " 1   artistName        20586 non-null  string        \n",
      " 2   trackName         20586 non-null  string        \n",
      " 3   msPlayed          20586 non-null  int64         \n",
      " 4   song_artist       20586 non-null  object        \n",
      " 5   track_id          19384 non-null  object        \n",
      " 6   danceability      19381 non-null  object        \n",
      " 7   energy            19379 non-null  float64       \n",
      " 8   key               19379 non-null  float64       \n",
      " 9   loudness          19379 non-null  float64       \n",
      " 10  mode              19377 non-null  float64       \n",
      " 11  speechiness       19377 non-null  float64       \n",
      " 12  acousticness      19377 non-null  float64       \n",
      " 13  instrumentalness  19377 non-null  float64       \n",
      " 14  liveness          19377 non-null  float64       \n",
      " 15  valence           19377 non-null  float64       \n",
      " 16  tempo             19377 non-null  float64       \n",
      " 17  duration_ms       19377 non-null  float64       \n",
      " 18  time_signature    19377 non-null  float64       \n",
      " 19  genre             14162 non-null  object        \n",
      "dtypes: datetime64[ns](1), float64(12), int64(1), object(4), string(2)\n",
      "memory usage: 3.1+ MB\n"
     ]
    }
   ],
   "source": [
    "comb.info()"
   ]
  },
  {
   "cell_type": "code",
   "execution_count": 88,
   "metadata": {},
   "outputs": [],
   "source": [
    "#comb.to_csv(path_or_buf = './modified/temp_post_2.csv', index = False)"
   ]
  },
  {
   "cell_type": "markdown",
   "metadata": {},
   "source": [
    "Checking songs that exist (have genre) but did not get a track id:"
   ]
  },
  {
   "cell_type": "markdown",
   "metadata": {},
   "source": [
    "#### Validating full table"
   ]
  },
  {
   "cell_type": "code",
   "execution_count": 89,
   "metadata": {},
   "outputs": [],
   "source": [
    "comb = pd.read_csv('./modified/temp_post_2.csv')"
   ]
  },
  {
   "cell_type": "code",
   "execution_count": 90,
   "metadata": {},
   "outputs": [
    {
     "name": "stdout",
     "output_type": "stream",
     "text": [
      "<class 'pandas.core.frame.DataFrame'>\n",
      "RangeIndex: 20586 entries, 0 to 20585\n",
      "Data columns (total 20 columns):\n",
      " #   Column            Non-Null Count  Dtype  \n",
      "---  ------            --------------  -----  \n",
      " 0   endTime           20586 non-null  object \n",
      " 1   artistName        20586 non-null  object \n",
      " 2   trackName         20586 non-null  object \n",
      " 3   msPlayed          20586 non-null  int64  \n",
      " 4   song_artist       20586 non-null  object \n",
      " 5   track_id          19384 non-null  object \n",
      " 6   danceability      19381 non-null  object \n",
      " 7   energy            19379 non-null  float64\n",
      " 8   key               19379 non-null  float64\n",
      " 9   loudness          19379 non-null  float64\n",
      " 10  mode              19377 non-null  float64\n",
      " 11  speechiness       19377 non-null  float64\n",
      " 12  acousticness      19377 non-null  float64\n",
      " 13  instrumentalness  19377 non-null  float64\n",
      " 14  liveness          19377 non-null  float64\n",
      " 15  valence           19377 non-null  float64\n",
      " 16  tempo             19377 non-null  float64\n",
      " 17  duration_ms       19377 non-null  float64\n",
      " 18  time_signature    19377 non-null  float64\n",
      " 19  genre             14162 non-null  object \n",
      "dtypes: float64(12), int64(1), object(7)\n",
      "memory usage: 3.1+ MB\n"
     ]
    }
   ],
   "source": [
    "comb.info()"
   ]
  },
  {
   "cell_type": "code",
   "execution_count": 91,
   "metadata": {},
   "outputs": [],
   "source": [
    "test = comb.copy()"
   ]
  },
  {
   "cell_type": "code",
   "execution_count": 92,
   "metadata": {},
   "outputs": [
    {
     "name": "stdout",
     "output_type": "stream",
     "text": [
      "<class 'pandas.core.frame.DataFrame'>\n",
      "RangeIndex: 20586 entries, 0 to 20585\n",
      "Data columns (total 20 columns):\n",
      " #   Column            Non-Null Count  Dtype  \n",
      "---  ------            --------------  -----  \n",
      " 0   endTime           20586 non-null  object \n",
      " 1   artistName        20586 non-null  object \n",
      " 2   trackName         20586 non-null  object \n",
      " 3   msPlayed          20586 non-null  int64  \n",
      " 4   song_artist       20586 non-null  object \n",
      " 5   track_id          19384 non-null  object \n",
      " 6   danceability      19381 non-null  object \n",
      " 7   energy            19379 non-null  float64\n",
      " 8   key               19379 non-null  float64\n",
      " 9   loudness          19379 non-null  float64\n",
      " 10  mode              19377 non-null  float64\n",
      " 11  speechiness       19377 non-null  float64\n",
      " 12  acousticness      19377 non-null  float64\n",
      " 13  instrumentalness  19377 non-null  float64\n",
      " 14  liveness          19377 non-null  float64\n",
      " 15  valence           19377 non-null  float64\n",
      " 16  tempo             19377 non-null  float64\n",
      " 17  duration_ms       19377 non-null  float64\n",
      " 18  time_signature    19377 non-null  float64\n",
      " 19  genre             14162 non-null  object \n",
      "dtypes: float64(12), int64(1), object(7)\n",
      "memory usage: 3.1+ MB\n"
     ]
    }
   ],
   "source": [
    "test.info()"
   ]
  },
  {
   "cell_type": "markdown",
   "metadata": {},
   "source": [
    "**Rerunning songs that did not receive track info**"
   ]
  },
  {
   "cell_type": "code",
   "execution_count": 93,
   "metadata": {},
   "outputs": [],
   "source": [
    "songs_withids = test[~(pd.isnull(test['track_id']) & ~pd.isnull(test['genre']))]"
   ]
  },
  {
   "cell_type": "code",
   "execution_count": 94,
   "metadata": {},
   "outputs": [
    {
     "data": {
      "text/html": [
       "<div>\n",
       "<style scoped>\n",
       "    .dataframe tbody tr th:only-of-type {\n",
       "        vertical-align: middle;\n",
       "    }\n",
       "\n",
       "    .dataframe tbody tr th {\n",
       "        vertical-align: top;\n",
       "    }\n",
       "\n",
       "    .dataframe thead th {\n",
       "        text-align: right;\n",
       "    }\n",
       "</style>\n",
       "<table border=\"1\" class=\"dataframe\">\n",
       "  <thead>\n",
       "    <tr style=\"text-align: right;\">\n",
       "      <th></th>\n",
       "      <th>endTime</th>\n",
       "      <th>artistName</th>\n",
       "      <th>trackName</th>\n",
       "      <th>msPlayed</th>\n",
       "      <th>song_artist</th>\n",
       "      <th>track_id</th>\n",
       "      <th>danceability</th>\n",
       "      <th>energy</th>\n",
       "      <th>key</th>\n",
       "      <th>loudness</th>\n",
       "      <th>mode</th>\n",
       "      <th>speechiness</th>\n",
       "      <th>acousticness</th>\n",
       "      <th>instrumentalness</th>\n",
       "      <th>liveness</th>\n",
       "      <th>valence</th>\n",
       "      <th>tempo</th>\n",
       "      <th>duration_ms</th>\n",
       "      <th>time_signature</th>\n",
       "      <th>genre</th>\n",
       "    </tr>\n",
       "  </thead>\n",
       "  <tbody>\n",
       "    <tr>\n",
       "      <th>0</th>\n",
       "      <td>2020-06-23 22:28:00</td>\n",
       "      <td>Aiobahn</td>\n",
       "      <td>過ぎゆく日と君へ</td>\n",
       "      <td>6290</td>\n",
       "      <td>&lt;objects.song_artist object at 0x000001FD13C18...</td>\n",
       "      <td>NaN</td>\n",
       "      <td>NaN</td>\n",
       "      <td>NaN</td>\n",
       "      <td>NaN</td>\n",
       "      <td>NaN</td>\n",
       "      <td>NaN</td>\n",
       "      <td>NaN</td>\n",
       "      <td>NaN</td>\n",
       "      <td>NaN</td>\n",
       "      <td>NaN</td>\n",
       "      <td>NaN</td>\n",
       "      <td>NaN</td>\n",
       "      <td>NaN</td>\n",
       "      <td>NaN</td>\n",
       "      <td>NaN</td>\n",
       "    </tr>\n",
       "    <tr>\n",
       "      <th>1</th>\n",
       "      <td>2021-05-08 05:06:00</td>\n",
       "      <td>Smallpools</td>\n",
       "      <td>Insincere</td>\n",
       "      <td>125825</td>\n",
       "      <td>&lt;objects.song_artist object at 0x000001FD13C18...</td>\n",
       "      <td>18soqxKUvvbDqYoOonsn2I</td>\n",
       "      <td>0.447</td>\n",
       "      <td>0.305</td>\n",
       "      <td>11.0</td>\n",
       "      <td>-11.109</td>\n",
       "      <td>1.0</td>\n",
       "      <td>0.0286</td>\n",
       "      <td>0.52300</td>\n",
       "      <td>0.000009</td>\n",
       "      <td>0.1830</td>\n",
       "      <td>0.338</td>\n",
       "      <td>81.238</td>\n",
       "      <td>217387.0</td>\n",
       "      <td>4.0</td>\n",
       "      <td>NaN</td>\n",
       "    </tr>\n",
       "    <tr>\n",
       "      <th>3</th>\n",
       "      <td>2021-05-10 02:22:00</td>\n",
       "      <td>Nice White Parents</td>\n",
       "      <td>3: ‘This Is Our School, How Dare You?’</td>\n",
       "      <td>331310</td>\n",
       "      <td>&lt;objects.song_artist object at 0x000001FD13C18...</td>\n",
       "      <td>5nCPI1ZmKhBSGDOw9x7JcX</td>\n",
       "      <td>0.588</td>\n",
       "      <td>0.899</td>\n",
       "      <td>2.0</td>\n",
       "      <td>-8.300</td>\n",
       "      <td>1.0</td>\n",
       "      <td>0.0481</td>\n",
       "      <td>0.00243</td>\n",
       "      <td>0.028700</td>\n",
       "      <td>0.3580</td>\n",
       "      <td>0.754</td>\n",
       "      <td>105.979</td>\n",
       "      <td>180000.0</td>\n",
       "      <td>4.0</td>\n",
       "      <td>indie pop</td>\n",
       "    </tr>\n",
       "    <tr>\n",
       "      <th>4</th>\n",
       "      <td>2021-05-10 02:22:00</td>\n",
       "      <td>COIN</td>\n",
       "      <td>Turnaround</td>\n",
       "      <td>14470</td>\n",
       "      <td>&lt;objects.song_artist object at 0x000001FD13C18...</td>\n",
       "      <td>502Tv1fj0rEffV6QC2Nedp</td>\n",
       "      <td>0.341</td>\n",
       "      <td>0.474</td>\n",
       "      <td>4.0</td>\n",
       "      <td>-9.858</td>\n",
       "      <td>1.0</td>\n",
       "      <td>0.0423</td>\n",
       "      <td>0.70900</td>\n",
       "      <td>0.004160</td>\n",
       "      <td>0.3440</td>\n",
       "      <td>0.166</td>\n",
       "      <td>143.444</td>\n",
       "      <td>199560.0</td>\n",
       "      <td>4.0</td>\n",
       "      <td>NaN</td>\n",
       "    </tr>\n",
       "    <tr>\n",
       "      <th>5</th>\n",
       "      <td>2021-05-10 02:29:00</td>\n",
       "      <td>Phil The Beat</td>\n",
       "      <td>Heart to Heart</td>\n",
       "      <td>790</td>\n",
       "      <td>&lt;objects.song_artist object at 0x000001FD13C16...</td>\n",
       "      <td>2IFioAFD8QEIq17UwOaSFb</td>\n",
       "      <td>0.772</td>\n",
       "      <td>0.503</td>\n",
       "      <td>11.0</td>\n",
       "      <td>-7.603</td>\n",
       "      <td>0.0</td>\n",
       "      <td>0.0873</td>\n",
       "      <td>0.07320</td>\n",
       "      <td>0.000000</td>\n",
       "      <td>0.0785</td>\n",
       "      <td>0.496</td>\n",
       "      <td>138.046</td>\n",
       "      <td>203389.0</td>\n",
       "      <td>4.0</td>\n",
       "      <td>indie pop</td>\n",
       "    </tr>\n",
       "    <tr>\n",
       "      <th>...</th>\n",
       "      <td>...</td>\n",
       "      <td>...</td>\n",
       "      <td>...</td>\n",
       "      <td>...</td>\n",
       "      <td>...</td>\n",
       "      <td>...</td>\n",
       "      <td>...</td>\n",
       "      <td>...</td>\n",
       "      <td>...</td>\n",
       "      <td>...</td>\n",
       "      <td>...</td>\n",
       "      <td>...</td>\n",
       "      <td>...</td>\n",
       "      <td>...</td>\n",
       "      <td>...</td>\n",
       "      <td>...</td>\n",
       "      <td>...</td>\n",
       "      <td>...</td>\n",
       "      <td>...</td>\n",
       "      <td>...</td>\n",
       "    </tr>\n",
       "    <tr>\n",
       "      <th>20581</th>\n",
       "      <td>2022-05-10 23:16:00</td>\n",
       "      <td>League of Legends</td>\n",
       "      <td>Phoenix</td>\n",
       "      <td>197633</td>\n",
       "      <td>&lt;objects.song_artist object at 0x000001FD1421A...</td>\n",
       "      <td>NaN</td>\n",
       "      <td>NaN</td>\n",
       "      <td>NaN</td>\n",
       "      <td>NaN</td>\n",
       "      <td>NaN</td>\n",
       "      <td>NaN</td>\n",
       "      <td>NaN</td>\n",
       "      <td>NaN</td>\n",
       "      <td>NaN</td>\n",
       "      <td>NaN</td>\n",
       "      <td>NaN</td>\n",
       "      <td>NaN</td>\n",
       "      <td>NaN</td>\n",
       "      <td>NaN</td>\n",
       "      <td>NaN</td>\n",
       "    </tr>\n",
       "    <tr>\n",
       "      <th>20582</th>\n",
       "      <td>2022-05-10 23:35:00</td>\n",
       "      <td>Yoh kamiyama</td>\n",
       "      <td>生絲</td>\n",
       "      <td>1856</td>\n",
       "      <td>&lt;objects.song_artist object at 0x000001FD1421A...</td>\n",
       "      <td>NaN</td>\n",
       "      <td>NaN</td>\n",
       "      <td>NaN</td>\n",
       "      <td>NaN</td>\n",
       "      <td>NaN</td>\n",
       "      <td>NaN</td>\n",
       "      <td>NaN</td>\n",
       "      <td>NaN</td>\n",
       "      <td>NaN</td>\n",
       "      <td>NaN</td>\n",
       "      <td>NaN</td>\n",
       "      <td>NaN</td>\n",
       "      <td>NaN</td>\n",
       "      <td>NaN</td>\n",
       "      <td>NaN</td>\n",
       "    </tr>\n",
       "    <tr>\n",
       "      <th>20583</th>\n",
       "      <td>2022-05-10 23:35:00</td>\n",
       "      <td>League of Legends</td>\n",
       "      <td>Legends Never Die</td>\n",
       "      <td>99035</td>\n",
       "      <td>&lt;objects.song_artist object at 0x000001FD1421A...</td>\n",
       "      <td>NaN</td>\n",
       "      <td>NaN</td>\n",
       "      <td>NaN</td>\n",
       "      <td>NaN</td>\n",
       "      <td>NaN</td>\n",
       "      <td>NaN</td>\n",
       "      <td>NaN</td>\n",
       "      <td>NaN</td>\n",
       "      <td>NaN</td>\n",
       "      <td>NaN</td>\n",
       "      <td>NaN</td>\n",
       "      <td>NaN</td>\n",
       "      <td>NaN</td>\n",
       "      <td>NaN</td>\n",
       "      <td>NaN</td>\n",
       "    </tr>\n",
       "    <tr>\n",
       "      <th>20584</th>\n",
       "      <td>2022-05-10 23:35:00</td>\n",
       "      <td>Against The Current</td>\n",
       "      <td>Wildfire - LEC Version</td>\n",
       "      <td>2453</td>\n",
       "      <td>&lt;objects.song_artist object at 0x000001FD1421A...</td>\n",
       "      <td>NaN</td>\n",
       "      <td>NaN</td>\n",
       "      <td>NaN</td>\n",
       "      <td>NaN</td>\n",
       "      <td>NaN</td>\n",
       "      <td>NaN</td>\n",
       "      <td>NaN</td>\n",
       "      <td>NaN</td>\n",
       "      <td>NaN</td>\n",
       "      <td>NaN</td>\n",
       "      <td>NaN</td>\n",
       "      <td>NaN</td>\n",
       "      <td>NaN</td>\n",
       "      <td>NaN</td>\n",
       "      <td>NaN</td>\n",
       "    </tr>\n",
       "    <tr>\n",
       "      <th>20585</th>\n",
       "      <td>2022-05-10 23:35:00</td>\n",
       "      <td>Omoinotake</td>\n",
       "      <td>One Day</td>\n",
       "      <td>1066</td>\n",
       "      <td>&lt;objects.song_artist object at 0x000001FD1421A...</td>\n",
       "      <td>NaN</td>\n",
       "      <td>NaN</td>\n",
       "      <td>NaN</td>\n",
       "      <td>NaN</td>\n",
       "      <td>NaN</td>\n",
       "      <td>NaN</td>\n",
       "      <td>NaN</td>\n",
       "      <td>NaN</td>\n",
       "      <td>NaN</td>\n",
       "      <td>NaN</td>\n",
       "      <td>NaN</td>\n",
       "      <td>NaN</td>\n",
       "      <td>NaN</td>\n",
       "      <td>NaN</td>\n",
       "      <td>NaN</td>\n",
       "    </tr>\n",
       "  </tbody>\n",
       "</table>\n",
       "<p>19902 rows × 20 columns</p>\n",
       "</div>"
      ],
      "text/plain": [
       "                   endTime           artistName  \\\n",
       "0      2020-06-23 22:28:00              Aiobahn   \n",
       "1      2021-05-08 05:06:00           Smallpools   \n",
       "3      2021-05-10 02:22:00   Nice White Parents   \n",
       "4      2021-05-10 02:22:00                 COIN   \n",
       "5      2021-05-10 02:29:00        Phil The Beat   \n",
       "...                    ...                  ...   \n",
       "20581  2022-05-10 23:16:00    League of Legends   \n",
       "20582  2022-05-10 23:35:00         Yoh kamiyama   \n",
       "20583  2022-05-10 23:35:00    League of Legends   \n",
       "20584  2022-05-10 23:35:00  Against The Current   \n",
       "20585  2022-05-10 23:35:00           Omoinotake   \n",
       "\n",
       "                                    trackName  msPlayed  \\\n",
       "0                                    過ぎゆく日と君へ      6290   \n",
       "1                                   Insincere    125825   \n",
       "3      3: ‘This Is Our School, How Dare You?’    331310   \n",
       "4                                  Turnaround     14470   \n",
       "5                              Heart to Heart       790   \n",
       "...                                       ...       ...   \n",
       "20581                                 Phoenix    197633   \n",
       "20582                                      生絲      1856   \n",
       "20583                       Legends Never Die     99035   \n",
       "20584                  Wildfire - LEC Version      2453   \n",
       "20585                                 One Day      1066   \n",
       "\n",
       "                                             song_artist  \\\n",
       "0      <objects.song_artist object at 0x000001FD13C18...   \n",
       "1      <objects.song_artist object at 0x000001FD13C18...   \n",
       "3      <objects.song_artist object at 0x000001FD13C18...   \n",
       "4      <objects.song_artist object at 0x000001FD13C18...   \n",
       "5      <objects.song_artist object at 0x000001FD13C16...   \n",
       "...                                                  ...   \n",
       "20581  <objects.song_artist object at 0x000001FD1421A...   \n",
       "20582  <objects.song_artist object at 0x000001FD1421A...   \n",
       "20583  <objects.song_artist object at 0x000001FD1421A...   \n",
       "20584  <objects.song_artist object at 0x000001FD1421A...   \n",
       "20585  <objects.song_artist object at 0x000001FD1421A...   \n",
       "\n",
       "                     track_id danceability  energy   key  loudness  mode  \\\n",
       "0                         NaN          NaN     NaN   NaN       NaN   NaN   \n",
       "1      18soqxKUvvbDqYoOonsn2I        0.447   0.305  11.0   -11.109   1.0   \n",
       "3      5nCPI1ZmKhBSGDOw9x7JcX        0.588   0.899   2.0    -8.300   1.0   \n",
       "4      502Tv1fj0rEffV6QC2Nedp        0.341   0.474   4.0    -9.858   1.0   \n",
       "5      2IFioAFD8QEIq17UwOaSFb        0.772   0.503  11.0    -7.603   0.0   \n",
       "...                       ...          ...     ...   ...       ...   ...   \n",
       "20581                     NaN          NaN     NaN   NaN       NaN   NaN   \n",
       "20582                     NaN          NaN     NaN   NaN       NaN   NaN   \n",
       "20583                     NaN          NaN     NaN   NaN       NaN   NaN   \n",
       "20584                     NaN          NaN     NaN   NaN       NaN   NaN   \n",
       "20585                     NaN          NaN     NaN   NaN       NaN   NaN   \n",
       "\n",
       "       speechiness  acousticness  instrumentalness  liveness  valence  \\\n",
       "0              NaN           NaN               NaN       NaN      NaN   \n",
       "1           0.0286       0.52300          0.000009    0.1830    0.338   \n",
       "3           0.0481       0.00243          0.028700    0.3580    0.754   \n",
       "4           0.0423       0.70900          0.004160    0.3440    0.166   \n",
       "5           0.0873       0.07320          0.000000    0.0785    0.496   \n",
       "...            ...           ...               ...       ...      ...   \n",
       "20581          NaN           NaN               NaN       NaN      NaN   \n",
       "20582          NaN           NaN               NaN       NaN      NaN   \n",
       "20583          NaN           NaN               NaN       NaN      NaN   \n",
       "20584          NaN           NaN               NaN       NaN      NaN   \n",
       "20585          NaN           NaN               NaN       NaN      NaN   \n",
       "\n",
       "         tempo  duration_ms  time_signature      genre  \n",
       "0          NaN          NaN             NaN        NaN  \n",
       "1       81.238     217387.0             4.0        NaN  \n",
       "3      105.979     180000.0             4.0  indie pop  \n",
       "4      143.444     199560.0             4.0        NaN  \n",
       "5      138.046     203389.0             4.0  indie pop  \n",
       "...        ...          ...             ...        ...  \n",
       "20581      NaN          NaN             NaN        NaN  \n",
       "20582      NaN          NaN             NaN        NaN  \n",
       "20583      NaN          NaN             NaN        NaN  \n",
       "20584      NaN          NaN             NaN        NaN  \n",
       "20585      NaN          NaN             NaN        NaN  \n",
       "\n",
       "[19902 rows x 20 columns]"
      ]
     },
     "execution_count": 94,
     "metadata": {},
     "output_type": "execute_result"
    }
   ],
   "source": [
    "songs_withids"
   ]
  },
  {
   "cell_type": "code",
   "execution_count": 95,
   "metadata": {},
   "outputs": [],
   "source": [
    "songs_noids = test[pd.isnull(test['track_id']) & ~pd.isnull(test['genre'])]"
   ]
  },
  {
   "cell_type": "code",
   "execution_count": 96,
   "metadata": {},
   "outputs": [
    {
     "data": {
      "text/html": [
       "<div>\n",
       "<style scoped>\n",
       "    .dataframe tbody tr th:only-of-type {\n",
       "        vertical-align: middle;\n",
       "    }\n",
       "\n",
       "    .dataframe tbody tr th {\n",
       "        vertical-align: top;\n",
       "    }\n",
       "\n",
       "    .dataframe thead th {\n",
       "        text-align: right;\n",
       "    }\n",
       "</style>\n",
       "<table border=\"1\" class=\"dataframe\">\n",
       "  <thead>\n",
       "    <tr style=\"text-align: right;\">\n",
       "      <th></th>\n",
       "      <th>endTime</th>\n",
       "      <th>artistName</th>\n",
       "      <th>trackName</th>\n",
       "      <th>msPlayed</th>\n",
       "      <th>song_artist</th>\n",
       "      <th>track_id</th>\n",
       "      <th>danceability</th>\n",
       "      <th>energy</th>\n",
       "      <th>key</th>\n",
       "      <th>loudness</th>\n",
       "      <th>mode</th>\n",
       "      <th>speechiness</th>\n",
       "      <th>acousticness</th>\n",
       "      <th>instrumentalness</th>\n",
       "      <th>liveness</th>\n",
       "      <th>valence</th>\n",
       "      <th>tempo</th>\n",
       "      <th>duration_ms</th>\n",
       "      <th>time_signature</th>\n",
       "      <th>genre</th>\n",
       "    </tr>\n",
       "  </thead>\n",
       "  <tbody>\n",
       "    <tr>\n",
       "      <th>2</th>\n",
       "      <td>2021-05-10 00:25:00</td>\n",
       "      <td>Smallpools</td>\n",
       "      <td>cycle</td>\n",
       "      <td>149040</td>\n",
       "      <td>&lt;objects.song_artist object at 0x000001FD13C18...</td>\n",
       "      <td>NaN</td>\n",
       "      <td>NaN</td>\n",
       "      <td>NaN</td>\n",
       "      <td>NaN</td>\n",
       "      <td>NaN</td>\n",
       "      <td>NaN</td>\n",
       "      <td>NaN</td>\n",
       "      <td>NaN</td>\n",
       "      <td>NaN</td>\n",
       "      <td>NaN</td>\n",
       "      <td>NaN</td>\n",
       "      <td>NaN</td>\n",
       "      <td>NaN</td>\n",
       "      <td>NaN</td>\n",
       "      <td>indie pop</td>\n",
       "    </tr>\n",
       "    <tr>\n",
       "      <th>15</th>\n",
       "      <td>2021-05-10 02:33:00</td>\n",
       "      <td>K/DA</td>\n",
       "      <td>THE BADDEST</td>\n",
       "      <td>2230</td>\n",
       "      <td>&lt;objects.song_artist object at 0x000001FD13C16...</td>\n",
       "      <td>NaN</td>\n",
       "      <td>NaN</td>\n",
       "      <td>NaN</td>\n",
       "      <td>NaN</td>\n",
       "      <td>NaN</td>\n",
       "      <td>NaN</td>\n",
       "      <td>NaN</td>\n",
       "      <td>NaN</td>\n",
       "      <td>NaN</td>\n",
       "      <td>NaN</td>\n",
       "      <td>NaN</td>\n",
       "      <td>NaN</td>\n",
       "      <td>NaN</td>\n",
       "      <td>NaN</td>\n",
       "      <td>shoegaze</td>\n",
       "    </tr>\n",
       "    <tr>\n",
       "      <th>19</th>\n",
       "      <td>2021-05-10 02:36:00</td>\n",
       "      <td>League of Legends</td>\n",
       "      <td>Starts Right Here</td>\n",
       "      <td>185088</td>\n",
       "      <td>&lt;objects.song_artist object at 0x000001FD13C16...</td>\n",
       "      <td>NaN</td>\n",
       "      <td>NaN</td>\n",
       "      <td>NaN</td>\n",
       "      <td>NaN</td>\n",
       "      <td>NaN</td>\n",
       "      <td>NaN</td>\n",
       "      <td>NaN</td>\n",
       "      <td>NaN</td>\n",
       "      <td>NaN</td>\n",
       "      <td>NaN</td>\n",
       "      <td>NaN</td>\n",
       "      <td>NaN</td>\n",
       "      <td>NaN</td>\n",
       "      <td>NaN</td>\n",
       "      <td>anime</td>\n",
       "    </tr>\n",
       "    <tr>\n",
       "      <th>20</th>\n",
       "      <td>2021-05-10 02:36:00</td>\n",
       "      <td>supercell</td>\n",
       "      <td>My Dearest</td>\n",
       "      <td>5820</td>\n",
       "      <td>&lt;objects.song_artist object at 0x000001FD13C16...</td>\n",
       "      <td>NaN</td>\n",
       "      <td>NaN</td>\n",
       "      <td>NaN</td>\n",
       "      <td>NaN</td>\n",
       "      <td>NaN</td>\n",
       "      <td>NaN</td>\n",
       "      <td>NaN</td>\n",
       "      <td>NaN</td>\n",
       "      <td>NaN</td>\n",
       "      <td>NaN</td>\n",
       "      <td>NaN</td>\n",
       "      <td>NaN</td>\n",
       "      <td>NaN</td>\n",
       "      <td>NaN</td>\n",
       "      <td>japanese</td>\n",
       "    </tr>\n",
       "    <tr>\n",
       "      <th>21</th>\n",
       "      <td>2021-05-10 02:36:00</td>\n",
       "      <td>KANA-BOON</td>\n",
       "      <td>シルエット</td>\n",
       "      <td>710</td>\n",
       "      <td>&lt;objects.song_artist object at 0x000001FD13C16...</td>\n",
       "      <td>NaN</td>\n",
       "      <td>NaN</td>\n",
       "      <td>NaN</td>\n",
       "      <td>NaN</td>\n",
       "      <td>NaN</td>\n",
       "      <td>NaN</td>\n",
       "      <td>NaN</td>\n",
       "      <td>NaN</td>\n",
       "      <td>NaN</td>\n",
       "      <td>NaN</td>\n",
       "      <td>NaN</td>\n",
       "      <td>NaN</td>\n",
       "      <td>NaN</td>\n",
       "      <td>NaN</td>\n",
       "      <td>japanese</td>\n",
       "    </tr>\n",
       "    <tr>\n",
       "      <th>...</th>\n",
       "      <td>...</td>\n",
       "      <td>...</td>\n",
       "      <td>...</td>\n",
       "      <td>...</td>\n",
       "      <td>...</td>\n",
       "      <td>...</td>\n",
       "      <td>...</td>\n",
       "      <td>...</td>\n",
       "      <td>...</td>\n",
       "      <td>...</td>\n",
       "      <td>...</td>\n",
       "      <td>...</td>\n",
       "      <td>...</td>\n",
       "      <td>...</td>\n",
       "      <td>...</td>\n",
       "      <td>...</td>\n",
       "      <td>...</td>\n",
       "      <td>...</td>\n",
       "      <td>...</td>\n",
       "      <td>...</td>\n",
       "    </tr>\n",
       "    <tr>\n",
       "      <th>20466</th>\n",
       "      <td>2022-05-10 18:04:00</td>\n",
       "      <td>Vampire Weekend</td>\n",
       "      <td>Campus</td>\n",
       "      <td>176466</td>\n",
       "      <td>&lt;objects.song_artist object at 0x000001FD14213...</td>\n",
       "      <td>NaN</td>\n",
       "      <td>NaN</td>\n",
       "      <td>NaN</td>\n",
       "      <td>NaN</td>\n",
       "      <td>NaN</td>\n",
       "      <td>NaN</td>\n",
       "      <td>NaN</td>\n",
       "      <td>NaN</td>\n",
       "      <td>NaN</td>\n",
       "      <td>NaN</td>\n",
       "      <td>NaN</td>\n",
       "      <td>NaN</td>\n",
       "      <td>NaN</td>\n",
       "      <td>NaN</td>\n",
       "      <td>j-pop</td>\n",
       "    </tr>\n",
       "    <tr>\n",
       "      <th>20521</th>\n",
       "      <td>2022-05-10 20:28:00</td>\n",
       "      <td>Gen Hoshino</td>\n",
       "      <td>SUN</td>\n",
       "      <td>69283</td>\n",
       "      <td>&lt;objects.song_artist object at 0x000001FD14217...</td>\n",
       "      <td>NaN</td>\n",
       "      <td>NaN</td>\n",
       "      <td>NaN</td>\n",
       "      <td>NaN</td>\n",
       "      <td>NaN</td>\n",
       "      <td>NaN</td>\n",
       "      <td>NaN</td>\n",
       "      <td>NaN</td>\n",
       "      <td>NaN</td>\n",
       "      <td>NaN</td>\n",
       "      <td>NaN</td>\n",
       "      <td>NaN</td>\n",
       "      <td>NaN</td>\n",
       "      <td>NaN</td>\n",
       "      <td>japanese</td>\n",
       "    </tr>\n",
       "    <tr>\n",
       "      <th>20529</th>\n",
       "      <td>2022-05-10 22:43:00</td>\n",
       "      <td>スピラ・スピカ</td>\n",
       "      <td>燦々デイズ</td>\n",
       "      <td>610</td>\n",
       "      <td>&lt;objects.song_artist object at 0x000001FD14217...</td>\n",
       "      <td>NaN</td>\n",
       "      <td>NaN</td>\n",
       "      <td>NaN</td>\n",
       "      <td>NaN</td>\n",
       "      <td>NaN</td>\n",
       "      <td>NaN</td>\n",
       "      <td>NaN</td>\n",
       "      <td>NaN</td>\n",
       "      <td>NaN</td>\n",
       "      <td>NaN</td>\n",
       "      <td>NaN</td>\n",
       "      <td>NaN</td>\n",
       "      <td>NaN</td>\n",
       "      <td>NaN</td>\n",
       "      <td>j-rock</td>\n",
       "    </tr>\n",
       "    <tr>\n",
       "      <th>20530</th>\n",
       "      <td>2022-05-10 22:43:00</td>\n",
       "      <td>Stray Kids</td>\n",
       "      <td>Mixtape : On Track</td>\n",
       "      <td>560</td>\n",
       "      <td>&lt;objects.song_artist object at 0x000001FD14217...</td>\n",
       "      <td>NaN</td>\n",
       "      <td>NaN</td>\n",
       "      <td>NaN</td>\n",
       "      <td>NaN</td>\n",
       "      <td>NaN</td>\n",
       "      <td>NaN</td>\n",
       "      <td>NaN</td>\n",
       "      <td>NaN</td>\n",
       "      <td>NaN</td>\n",
       "      <td>NaN</td>\n",
       "      <td>NaN</td>\n",
       "      <td>NaN</td>\n",
       "      <td>NaN</td>\n",
       "      <td>NaN</td>\n",
       "      <td>japanese</td>\n",
       "    </tr>\n",
       "    <tr>\n",
       "      <th>20534</th>\n",
       "      <td>2022-05-10 22:47:00</td>\n",
       "      <td>Shayne Orok</td>\n",
       "      <td>Inferno - From \"Fire Force: Enen no Shouboutai\"</td>\n",
       "      <td>2620</td>\n",
       "      <td>&lt;objects.song_artist object at 0x000001FD14217...</td>\n",
       "      <td>NaN</td>\n",
       "      <td>NaN</td>\n",
       "      <td>NaN</td>\n",
       "      <td>NaN</td>\n",
       "      <td>NaN</td>\n",
       "      <td>NaN</td>\n",
       "      <td>NaN</td>\n",
       "      <td>NaN</td>\n",
       "      <td>NaN</td>\n",
       "      <td>NaN</td>\n",
       "      <td>NaN</td>\n",
       "      <td>NaN</td>\n",
       "      <td>NaN</td>\n",
       "      <td>NaN</td>\n",
       "      <td>j-pop</td>\n",
       "    </tr>\n",
       "  </tbody>\n",
       "</table>\n",
       "<p>684 rows × 20 columns</p>\n",
       "</div>"
      ],
      "text/plain": [
       "                   endTime         artistName  \\\n",
       "2      2021-05-10 00:25:00         Smallpools   \n",
       "15     2021-05-10 02:33:00               K/DA   \n",
       "19     2021-05-10 02:36:00  League of Legends   \n",
       "20     2021-05-10 02:36:00          supercell   \n",
       "21     2021-05-10 02:36:00          KANA-BOON   \n",
       "...                    ...                ...   \n",
       "20466  2022-05-10 18:04:00    Vampire Weekend   \n",
       "20521  2022-05-10 20:28:00        Gen Hoshino   \n",
       "20529  2022-05-10 22:43:00            スピラ・スピカ   \n",
       "20530  2022-05-10 22:43:00         Stray Kids   \n",
       "20534  2022-05-10 22:47:00        Shayne Orok   \n",
       "\n",
       "                                             trackName  msPlayed  \\\n",
       "2                                                cycle    149040   \n",
       "15                                         THE BADDEST      2230   \n",
       "19                                   Starts Right Here    185088   \n",
       "20                                          My Dearest      5820   \n",
       "21                                               シルエット       710   \n",
       "...                                                ...       ...   \n",
       "20466                                           Campus    176466   \n",
       "20521                                              SUN     69283   \n",
       "20529                                            燦々デイズ       610   \n",
       "20530                               Mixtape : On Track       560   \n",
       "20534  Inferno - From \"Fire Force: Enen no Shouboutai\"      2620   \n",
       "\n",
       "                                             song_artist track_id  \\\n",
       "2      <objects.song_artist object at 0x000001FD13C18...      NaN   \n",
       "15     <objects.song_artist object at 0x000001FD13C16...      NaN   \n",
       "19     <objects.song_artist object at 0x000001FD13C16...      NaN   \n",
       "20     <objects.song_artist object at 0x000001FD13C16...      NaN   \n",
       "21     <objects.song_artist object at 0x000001FD13C16...      NaN   \n",
       "...                                                  ...      ...   \n",
       "20466  <objects.song_artist object at 0x000001FD14213...      NaN   \n",
       "20521  <objects.song_artist object at 0x000001FD14217...      NaN   \n",
       "20529  <objects.song_artist object at 0x000001FD14217...      NaN   \n",
       "20530  <objects.song_artist object at 0x000001FD14217...      NaN   \n",
       "20534  <objects.song_artist object at 0x000001FD14217...      NaN   \n",
       "\n",
       "      danceability  energy  key  loudness  mode  speechiness  acousticness  \\\n",
       "2              NaN     NaN  NaN       NaN   NaN          NaN           NaN   \n",
       "15             NaN     NaN  NaN       NaN   NaN          NaN           NaN   \n",
       "19             NaN     NaN  NaN       NaN   NaN          NaN           NaN   \n",
       "20             NaN     NaN  NaN       NaN   NaN          NaN           NaN   \n",
       "21             NaN     NaN  NaN       NaN   NaN          NaN           NaN   \n",
       "...            ...     ...  ...       ...   ...          ...           ...   \n",
       "20466          NaN     NaN  NaN       NaN   NaN          NaN           NaN   \n",
       "20521          NaN     NaN  NaN       NaN   NaN          NaN           NaN   \n",
       "20529          NaN     NaN  NaN       NaN   NaN          NaN           NaN   \n",
       "20530          NaN     NaN  NaN       NaN   NaN          NaN           NaN   \n",
       "20534          NaN     NaN  NaN       NaN   NaN          NaN           NaN   \n",
       "\n",
       "       instrumentalness  liveness  valence  tempo  duration_ms  \\\n",
       "2                   NaN       NaN      NaN    NaN          NaN   \n",
       "15                  NaN       NaN      NaN    NaN          NaN   \n",
       "19                  NaN       NaN      NaN    NaN          NaN   \n",
       "20                  NaN       NaN      NaN    NaN          NaN   \n",
       "21                  NaN       NaN      NaN    NaN          NaN   \n",
       "...                 ...       ...      ...    ...          ...   \n",
       "20466               NaN       NaN      NaN    NaN          NaN   \n",
       "20521               NaN       NaN      NaN    NaN          NaN   \n",
       "20529               NaN       NaN      NaN    NaN          NaN   \n",
       "20530               NaN       NaN      NaN    NaN          NaN   \n",
       "20534               NaN       NaN      NaN    NaN          NaN   \n",
       "\n",
       "       time_signature      genre  \n",
       "2                 NaN  indie pop  \n",
       "15                NaN   shoegaze  \n",
       "19                NaN      anime  \n",
       "20                NaN   japanese  \n",
       "21                NaN   japanese  \n",
       "...               ...        ...  \n",
       "20466             NaN      j-pop  \n",
       "20521             NaN   japanese  \n",
       "20529             NaN     j-rock  \n",
       "20530             NaN   japanese  \n",
       "20534             NaN      j-pop  \n",
       "\n",
       "[684 rows x 20 columns]"
      ]
     },
     "execution_count": 96,
     "metadata": {},
     "output_type": "execute_result"
    }
   ],
   "source": [
    "songs_noids # these tracks should be in spotify since they have a genre i.e. they are real songs"
   ]
  },
  {
   "cell_type": "code",
   "execution_count": 97,
   "metadata": {},
   "outputs": [],
   "source": [
    "songs_noids['song_artist'] = songs_noids.apply(lambda x: song_artist(x['trackName'], x['artistName']), axis=1)"
   ]
  },
  {
   "cell_type": "code",
   "execution_count": 98,
   "metadata": {},
   "outputs": [],
   "source": [
    "rerun = songs_noids['song_artist'].tolist()"
   ]
  },
  {
   "cell_type": "code",
   "execution_count": 99,
   "metadata": {},
   "outputs": [],
   "source": [
    "columns = ['track_id', 'danceability', 'energy', 'key', 'loudness', 'mode', 'speechiness', 'acousticness', \n",
    "           'instrumentalness', 'liveness', 'valence', 'tempo', 'duration_ms', 'time_signature', 'genre']"
   ]
  },
  {
   "cell_type": "code",
   "execution_count": 100,
   "metadata": {},
   "outputs": [],
   "source": [
    "file = open('./modified/full_table.csv', 'w')\n",
    "writer = csv.writer(file)\n",
    "writer.writerow(columns)\n",
    "file.close()"
   ]
  },
  {
   "cell_type": "code",
   "execution_count": 101,
   "metadata": {},
   "outputs": [
    {
     "name": "stderr",
     "output_type": "stream",
     "text": [
      "HTTP Error for GET to https://api.spotify.com/v1/search with Params: {'q': 'Crazy Noisy Bizarre Town (From \"Jojo\\'s Bizarre Adventure: Diamond Is Unbreakable\") [feat. Skully Tun] Chipmusic Heroes', 'limit': 10, 'offset': 0, 'type': 'track', 'market': None} returned 404 due to Not found.\n",
      "HTTP Error for GET to https://api.spotify.com/v1/search with Params: {'q': 'Crazy Noisy Bizarre Town (From \"Jojo\\'s Bizarre Adventure: Diamond Is Unbreakable\") [feat. Skully Tun] Chipmusic Heroes', 'limit': 10, 'offset': 0, 'type': 'track', 'market': None} returned 404 due to Not found.\n",
      "HTTP Error for GET to https://api.spotify.com/v1/search with Params: {'q': 'Lubos Pastor and Elisabeth Kempf on *Fifty Shades of QE* and the Implications of QE Research Macro Musings with David Beckworth', 'limit': 10, 'offset': 0, 'type': 'track', 'market': None} returned 404 due to Not found.\n",
      "STOP encountered, killing worker thread\n",
      "STOP encountered, killing worker thread\n",
      "STOP encountered, killing worker thread\n",
      "STOP encountered, killing worker thread\n",
      "STOP encountered, killing worker thread\n",
      "STOP encountered, killing worker thread\n"
     ]
    },
    {
     "name": "stdout",
     "output_type": "stream",
     "text": [
      "Rerun took 153.73153448104858\n"
     ]
    },
    {
     "name": "stderr",
     "output_type": "stream",
     "text": [
      "Traceback (most recent call last):\n",
      "  File \"C:\\Users\\matth\\anaconda3\\lib\\multiprocessing\\queues.py\", line 238, in _feed\n",
      "    send_bytes(obj)\n",
      "  File \"C:\\Users\\matth\\anaconda3\\lib\\multiprocessing\\connection.py\", line 200, in send_bytes\n",
      "    self._send_bytes(m[offset:offset + size])\n",
      "  File \"C:\\Users\\matth\\anaconda3\\lib\\multiprocessing\\connection.py\", line 280, in _send_bytes\n",
      "    ov, err = _winapi.WriteFile(self._handle, buf, overlapped=True)\n",
      "BrokenPipeError: [WinError 232] The pipe is being closed\n"
     ]
    }
   ],
   "source": [
    "\n",
    "start_time = time.time()\n",
    "\n",
    "parallel(rerun, create_table)\n",
    "\n",
    "print(\"Rerun took\", time.time()-start_time) # 167.32258081436157 sec"
   ]
  },
  {
   "cell_type": "code",
   "execution_count": 173,
   "metadata": {},
   "outputs": [],
   "source": [
    "temp = pd.read_csv('./modified/full_table.csv')"
   ]
  },
  {
   "cell_type": "code",
   "execution_count": 174,
   "metadata": {},
   "outputs": [],
   "source": [
    "rerun_res = pd.concat([songs_noids[['endTime','artistName','trackName','msPlayed']].set_index(temp.index),temp], axis = 1)"
   ]
  },
  {
   "cell_type": "code",
   "execution_count": 186,
   "metadata": {},
   "outputs": [
    {
     "data": {
      "text/plain": [
       "array([ True,  True,  True,  True,  True,  True,  True,  True,  True,\n",
       "        True,  True,  True,  True,  True,  True,  True,  True,  True,\n",
       "        True])"
      ]
     },
     "execution_count": 186,
     "metadata": {},
     "output_type": "execute_result"
    }
   ],
   "source": [
    "rerun_res.columns == songs_withids.drop('song_artist',axis=1).columns"
   ]
  },
  {
   "cell_type": "code",
   "execution_count": 198,
   "metadata": {},
   "outputs": [],
   "source": [
    "rerun_table = pd.concat([songs_withids,rerun_res], axis = 0)"
   ]
  },
  {
   "cell_type": "code",
   "execution_count": 199,
   "metadata": {},
   "outputs": [
    {
     "name": "stdout",
     "output_type": "stream",
     "text": [
      "<class 'pandas.core.frame.DataFrame'>\n",
      "Int64Index: 19902 entries, 0 to 20585\n",
      "Data columns (total 20 columns):\n",
      " #   Column            Non-Null Count  Dtype  \n",
      "---  ------            --------------  -----  \n",
      " 0   endTime           19902 non-null  object \n",
      " 1   artistName        19902 non-null  object \n",
      " 2   trackName         19902 non-null  object \n",
      " 3   msPlayed          19902 non-null  int64  \n",
      " 4   song_artist       19902 non-null  object \n",
      " 5   track_id          19384 non-null  object \n",
      " 6   danceability      19381 non-null  object \n",
      " 7   energy            19379 non-null  float64\n",
      " 8   key               19379 non-null  float64\n",
      " 9   loudness          19379 non-null  float64\n",
      " 10  mode              19377 non-null  float64\n",
      " 11  speechiness       19377 non-null  float64\n",
      " 12  acousticness      19377 non-null  float64\n",
      " 13  instrumentalness  19377 non-null  float64\n",
      " 14  liveness          19377 non-null  float64\n",
      " 15  valence           19377 non-null  float64\n",
      " 16  tempo             19377 non-null  float64\n",
      " 17  duration_ms       19377 non-null  float64\n",
      " 18  time_signature    19377 non-null  float64\n",
      " 19  genre             13478 non-null  object \n",
      "dtypes: float64(12), int64(1), object(7)\n",
      "memory usage: 3.8+ MB\n"
     ]
    }
   ],
   "source": [
    "songs_withids.info()"
   ]
  },
  {
   "cell_type": "code",
   "execution_count": 200,
   "metadata": {},
   "outputs": [
    {
     "name": "stdout",
     "output_type": "stream",
     "text": [
      "<class 'pandas.core.frame.DataFrame'>\n",
      "Int64Index: 20586 entries, 0 to 683\n",
      "Data columns (total 20 columns):\n",
      " #   Column            Non-Null Count  Dtype  \n",
      "---  ------            --------------  -----  \n",
      " 0   endTime           20586 non-null  object \n",
      " 1   artistName        20586 non-null  object \n",
      " 2   trackName         20586 non-null  object \n",
      " 3   msPlayed          20586 non-null  int64  \n",
      " 4   song_artist       19902 non-null  object \n",
      " 5   track_id          19896 non-null  object \n",
      " 6   danceability      19894 non-null  object \n",
      " 7   energy            19892 non-null  float64\n",
      " 8   key               19892 non-null  float64\n",
      " 9   loudness          19892 non-null  float64\n",
      " 10  mode              19890 non-null  object \n",
      " 11  speechiness       19889 non-null  float64\n",
      " 12  acousticness      19889 non-null  float64\n",
      " 13  instrumentalness  19889 non-null  float64\n",
      " 14  liveness          19889 non-null  float64\n",
      " 15  valence           19889 non-null  float64\n",
      " 16  tempo             19889 non-null  float64\n",
      " 17  duration_ms       19889 non-null  float64\n",
      " 18  time_signature    19889 non-null  float64\n",
      " 19  genre             13972 non-null  object \n",
      "dtypes: float64(11), int64(1), object(8)\n",
      "memory usage: 3.3+ MB\n"
     ]
    }
   ],
   "source": [
    "rerun_table.info()"
   ]
  },
  {
   "cell_type": "code",
   "execution_count": 201,
   "metadata": {},
   "outputs": [],
   "source": [
    "#rerun_table.to_csv(path_or_buf = './modified/rerun_table.csv', index = False)"
   ]
  },
  {
   "cell_type": "markdown",
   "metadata": {},
   "source": [
    "*Note*: There are a significant number of NAs after scraping genres. As a result, there is a need to either revise our method to get genre information or devise a method for imputation. \n",
    "\n",
    "**Possible Solution using Imputation**: Since it appears that there are artists who receive genre data for some songs and not others, one possible imputation method would be to create a dictionary where each artist corresponds to their top genre (can also scrape this from last.fm)."
   ]
  },
  {
   "cell_type": "markdown",
   "metadata": {},
   "source": [
    "#### Imputing Genres"
   ]
  },
  {
   "cell_type": "code",
   "execution_count": 202,
   "metadata": {},
   "outputs": [],
   "source": [
    "rerun_table = pd.read_csv('./modified/rerun_table.csv')"
   ]
  },
  {
   "cell_type": "code",
   "execution_count": 203,
   "metadata": {},
   "outputs": [
    {
     "name": "stdout",
     "output_type": "stream",
     "text": [
      "<class 'pandas.core.frame.DataFrame'>\n",
      "RangeIndex: 20586 entries, 0 to 20585\n",
      "Data columns (total 20 columns):\n",
      " #   Column            Non-Null Count  Dtype  \n",
      "---  ------            --------------  -----  \n",
      " 0   endTime           20586 non-null  object \n",
      " 1   artistName        20586 non-null  object \n",
      " 2   trackName         20586 non-null  object \n",
      " 3   msPlayed          20586 non-null  int64  \n",
      " 4   song_artist       19902 non-null  object \n",
      " 5   track_id          19896 non-null  object \n",
      " 6   danceability      19894 non-null  object \n",
      " 7   energy            19892 non-null  float64\n",
      " 8   key               19892 non-null  float64\n",
      " 9   loudness          19892 non-null  float64\n",
      " 10  mode              19890 non-null  object \n",
      " 11  speechiness       19889 non-null  float64\n",
      " 12  acousticness      19889 non-null  float64\n",
      " 13  instrumentalness  19889 non-null  float64\n",
      " 14  liveness          19889 non-null  float64\n",
      " 15  valence           19889 non-null  float64\n",
      " 16  tempo             19889 non-null  float64\n",
      " 17  duration_ms       19889 non-null  float64\n",
      " 18  time_signature    19889 non-null  float64\n",
      " 19  genre             13972 non-null  object \n",
      "dtypes: float64(11), int64(1), object(8)\n",
      "memory usage: 3.1+ MB\n"
     ]
    }
   ],
   "source": [
    "rerun_table.info()"
   ]
  },
  {
   "cell_type": "code",
   "execution_count": 192,
   "metadata": {},
   "outputs": [
    {
     "name": "stdout",
     "output_type": "stream",
     "text": [
      "My program took 40.152456283569336 to run\n"
     ]
    }
   ],
   "source": [
    "from methods import table_artGen\n",
    "\n",
    "test_artists = rerun_table['artistName'][0:100].tolist()\n",
    "\n",
    "start_time = time.time()\n",
    "\n",
    "test_dict = {artist: table_artGen(artist) for artist in test_artists}\n",
    "\n",
    "print(\"My program took\", time.time() - start_time, \"to run\") # 40.152456283569336 sec\n"
   ]
  },
  {
   "cell_type": "code",
   "execution_count": 193,
   "metadata": {},
   "outputs": [
    {
     "data": {
      "text/plain": [
       "True"
      ]
     },
     "execution_count": 193,
     "metadata": {},
     "output_type": "execute_result"
    }
   ],
   "source": [
    "len(test_dict) == len(rerun_table.iloc[0:100,:]['artistName'].unique()) \n",
    "# using a dictionary means that duplicate artists are not created"
   ]
  },
  {
   "cell_type": "markdown",
   "metadata": {},
   "source": [
    "**Potential Idea**: replace all nas in genre column with corresponding value in artist column and then replace the filled artist values with genres using the dictionary mentioned above"
   ]
  },
  {
   "cell_type": "markdown",
   "metadata": {},
   "source": [
    "**Testing replacing 'artist' values with genre**"
   ]
  },
  {
   "cell_type": "code",
   "execution_count": 204,
   "metadata": {},
   "outputs": [],
   "source": [
    "test = rerun_table.copy()"
   ]
  },
  {
   "cell_type": "code",
   "execution_count": 205,
   "metadata": {},
   "outputs": [],
   "source": [
    "test.iloc[0:100,:]['artistName'].replace(test_dict, inplace=True)"
   ]
  },
  {
   "cell_type": "code",
   "execution_count": 206,
   "metadata": {},
   "outputs": [
    {
     "data": {
      "text/html": [
       "<div>\n",
       "<style scoped>\n",
       "    .dataframe tbody tr th:only-of-type {\n",
       "        vertical-align: middle;\n",
       "    }\n",
       "\n",
       "    .dataframe tbody tr th {\n",
       "        vertical-align: top;\n",
       "    }\n",
       "\n",
       "    .dataframe thead th {\n",
       "        text-align: right;\n",
       "    }\n",
       "</style>\n",
       "<table border=\"1\" class=\"dataframe\">\n",
       "  <thead>\n",
       "    <tr style=\"text-align: right;\">\n",
       "      <th></th>\n",
       "      <th>endTime</th>\n",
       "      <th>artistName</th>\n",
       "      <th>trackName</th>\n",
       "      <th>msPlayed</th>\n",
       "      <th>song_artist</th>\n",
       "      <th>track_id</th>\n",
       "      <th>danceability</th>\n",
       "      <th>energy</th>\n",
       "      <th>key</th>\n",
       "      <th>loudness</th>\n",
       "      <th>mode</th>\n",
       "      <th>speechiness</th>\n",
       "      <th>acousticness</th>\n",
       "      <th>instrumentalness</th>\n",
       "      <th>liveness</th>\n",
       "      <th>valence</th>\n",
       "      <th>tempo</th>\n",
       "      <th>duration_ms</th>\n",
       "      <th>time_signature</th>\n",
       "      <th>genre</th>\n",
       "    </tr>\n",
       "  </thead>\n",
       "  <tbody>\n",
       "    <tr>\n",
       "      <th>0</th>\n",
       "      <td>2020-06-23 22:28:00</td>\n",
       "      <td>future bounce</td>\n",
       "      <td>過ぎゆく日と君へ</td>\n",
       "      <td>6290</td>\n",
       "      <td>&lt;objects.song_artist object at 0x000001FD13C18...</td>\n",
       "      <td>NaN</td>\n",
       "      <td>NaN</td>\n",
       "      <td>NaN</td>\n",
       "      <td>NaN</td>\n",
       "      <td>NaN</td>\n",
       "      <td>NaN</td>\n",
       "      <td>NaN</td>\n",
       "      <td>NaN</td>\n",
       "      <td>NaN</td>\n",
       "      <td>NaN</td>\n",
       "      <td>NaN</td>\n",
       "      <td>NaN</td>\n",
       "      <td>NaN</td>\n",
       "      <td>NaN</td>\n",
       "      <td>NaN</td>\n",
       "    </tr>\n",
       "    <tr>\n",
       "      <th>1</th>\n",
       "      <td>2021-05-08 05:06:00</td>\n",
       "      <td>indie pop</td>\n",
       "      <td>Insincere</td>\n",
       "      <td>125825</td>\n",
       "      <td>&lt;objects.song_artist object at 0x000001FD13C18...</td>\n",
       "      <td>18soqxKUvvbDqYoOonsn2I</td>\n",
       "      <td>0.447</td>\n",
       "      <td>0.305</td>\n",
       "      <td>11.0</td>\n",
       "      <td>-11.109</td>\n",
       "      <td>1.0</td>\n",
       "      <td>0.0286</td>\n",
       "      <td>0.52300</td>\n",
       "      <td>0.000009</td>\n",
       "      <td>0.1830</td>\n",
       "      <td>0.338</td>\n",
       "      <td>81.238</td>\n",
       "      <td>217387.0</td>\n",
       "      <td>4.0</td>\n",
       "      <td>NaN</td>\n",
       "    </tr>\n",
       "    <tr>\n",
       "      <th>2</th>\n",
       "      <td>2021-05-10 02:22:00</td>\n",
       "      <td>NaN</td>\n",
       "      <td>3: ‘This Is Our School, How Dare You?’</td>\n",
       "      <td>331310</td>\n",
       "      <td>&lt;objects.song_artist object at 0x000001FD13C18...</td>\n",
       "      <td>5nCPI1ZmKhBSGDOw9x7JcX</td>\n",
       "      <td>0.588</td>\n",
       "      <td>0.899</td>\n",
       "      <td>2.0</td>\n",
       "      <td>-8.300</td>\n",
       "      <td>1.0</td>\n",
       "      <td>0.0481</td>\n",
       "      <td>0.00243</td>\n",
       "      <td>0.028700</td>\n",
       "      <td>0.3580</td>\n",
       "      <td>0.754</td>\n",
       "      <td>105.979</td>\n",
       "      <td>180000.0</td>\n",
       "      <td>4.0</td>\n",
       "      <td>indie pop</td>\n",
       "    </tr>\n",
       "    <tr>\n",
       "      <th>3</th>\n",
       "      <td>2021-05-10 02:22:00</td>\n",
       "      <td>indie</td>\n",
       "      <td>Turnaround</td>\n",
       "      <td>14470</td>\n",
       "      <td>&lt;objects.song_artist object at 0x000001FD13C18...</td>\n",
       "      <td>502Tv1fj0rEffV6QC2Nedp</td>\n",
       "      <td>0.341</td>\n",
       "      <td>0.474</td>\n",
       "      <td>4.0</td>\n",
       "      <td>-9.858</td>\n",
       "      <td>1.0</td>\n",
       "      <td>0.0423</td>\n",
       "      <td>0.70900</td>\n",
       "      <td>0.004160</td>\n",
       "      <td>0.3440</td>\n",
       "      <td>0.166</td>\n",
       "      <td>143.444</td>\n",
       "      <td>199560.0</td>\n",
       "      <td>4.0</td>\n",
       "      <td>NaN</td>\n",
       "    </tr>\n",
       "    <tr>\n",
       "      <th>4</th>\n",
       "      <td>2021-05-10 02:29:00</td>\n",
       "      <td>usa</td>\n",
       "      <td>Heart to Heart</td>\n",
       "      <td>790</td>\n",
       "      <td>&lt;objects.song_artist object at 0x000001FD13C16...</td>\n",
       "      <td>2IFioAFD8QEIq17UwOaSFb</td>\n",
       "      <td>0.772</td>\n",
       "      <td>0.503</td>\n",
       "      <td>11.0</td>\n",
       "      <td>-7.603</td>\n",
       "      <td>0.0</td>\n",
       "      <td>0.0873</td>\n",
       "      <td>0.07320</td>\n",
       "      <td>0.000000</td>\n",
       "      <td>0.0785</td>\n",
       "      <td>0.496</td>\n",
       "      <td>138.046</td>\n",
       "      <td>203389.0</td>\n",
       "      <td>4.0</td>\n",
       "      <td>indie pop</td>\n",
       "    </tr>\n",
       "    <tr>\n",
       "      <th>...</th>\n",
       "      <td>...</td>\n",
       "      <td>...</td>\n",
       "      <td>...</td>\n",
       "      <td>...</td>\n",
       "      <td>...</td>\n",
       "      <td>...</td>\n",
       "      <td>...</td>\n",
       "      <td>...</td>\n",
       "      <td>...</td>\n",
       "      <td>...</td>\n",
       "      <td>...</td>\n",
       "      <td>...</td>\n",
       "      <td>...</td>\n",
       "      <td>...</td>\n",
       "      <td>...</td>\n",
       "      <td>...</td>\n",
       "      <td>...</td>\n",
       "      <td>...</td>\n",
       "      <td>...</td>\n",
       "      <td>...</td>\n",
       "    </tr>\n",
       "    <tr>\n",
       "      <th>95</th>\n",
       "      <td>2021-05-10 04:54:00</td>\n",
       "      <td>pop</td>\n",
       "      <td>Fallin’ (Adrenaline)</td>\n",
       "      <td>1810</td>\n",
       "      <td>&lt;objects.song_artist object at 0x000001FD13BED...</td>\n",
       "      <td>3vXdK7DCzJyp1MIh10TJFS</td>\n",
       "      <td>0.628</td>\n",
       "      <td>0.634</td>\n",
       "      <td>2.0</td>\n",
       "      <td>-5.508</td>\n",
       "      <td>1.0</td>\n",
       "      <td>0.0322</td>\n",
       "      <td>0.00255</td>\n",
       "      <td>0.000007</td>\n",
       "      <td>0.0456</td>\n",
       "      <td>0.606</td>\n",
       "      <td>97.990</td>\n",
       "      <td>258859.0</td>\n",
       "      <td>4.0</td>\n",
       "      <td>japanese</td>\n",
       "    </tr>\n",
       "    <tr>\n",
       "      <th>96</th>\n",
       "      <td>2021-05-10 05:05:00</td>\n",
       "      <td>pop</td>\n",
       "      <td>Honestly</td>\n",
       "      <td>30680</td>\n",
       "      <td>&lt;objects.song_artist object at 0x000001FD13BED...</td>\n",
       "      <td>1pJzl0YsxaWj6BbPs1mUuQ</td>\n",
       "      <td>0.577</td>\n",
       "      <td>0.811</td>\n",
       "      <td>2.0</td>\n",
       "      <td>-5.123</td>\n",
       "      <td>1.0</td>\n",
       "      <td>0.0750</td>\n",
       "      <td>0.03940</td>\n",
       "      <td>0.000000</td>\n",
       "      <td>0.1100</td>\n",
       "      <td>0.666</td>\n",
       "      <td>92.002</td>\n",
       "      <td>181421.0</td>\n",
       "      <td>4.0</td>\n",
       "      <td>alternative</td>\n",
       "    </tr>\n",
       "    <tr>\n",
       "      <th>97</th>\n",
       "      <td>2021-05-10 05:05:00</td>\n",
       "      <td>japanese</td>\n",
       "      <td>東京フラッシュ</td>\n",
       "      <td>2480</td>\n",
       "      <td>&lt;objects.song_artist object at 0x000001FD13BED...</td>\n",
       "      <td>6nfqlFOMiWthaOEa53uU0v</td>\n",
       "      <td>0.606</td>\n",
       "      <td>0.900</td>\n",
       "      <td>0.0</td>\n",
       "      <td>-4.504</td>\n",
       "      <td>1.0</td>\n",
       "      <td>0.1190</td>\n",
       "      <td>0.01010</td>\n",
       "      <td>0.000000</td>\n",
       "      <td>0.0750</td>\n",
       "      <td>0.233</td>\n",
       "      <td>133.963</td>\n",
       "      <td>216504.0</td>\n",
       "      <td>4.0</td>\n",
       "      <td>pop rock</td>\n",
       "    </tr>\n",
       "    <tr>\n",
       "      <th>98</th>\n",
       "      <td>2021-05-10 05:09:00</td>\n",
       "      <td>korean</td>\n",
       "      <td>March Lover</td>\n",
       "      <td>1010</td>\n",
       "      <td>&lt;objects.song_artist object at 0x000001FD13BED...</td>\n",
       "      <td>230SVQ0fk5TOK2fipXXsYH</td>\n",
       "      <td>0.693</td>\n",
       "      <td>0.602</td>\n",
       "      <td>0.0</td>\n",
       "      <td>-3.649</td>\n",
       "      <td>1.0</td>\n",
       "      <td>0.0370</td>\n",
       "      <td>0.03850</td>\n",
       "      <td>0.000022</td>\n",
       "      <td>0.1000</td>\n",
       "      <td>0.573</td>\n",
       "      <td>100.016</td>\n",
       "      <td>225000.0</td>\n",
       "      <td>4.0</td>\n",
       "      <td>korean</td>\n",
       "    </tr>\n",
       "    <tr>\n",
       "      <th>99</th>\n",
       "      <td>2021-05-10 05:09:00</td>\n",
       "      <td>j-pop</td>\n",
       "      <td>ever after</td>\n",
       "      <td>236293</td>\n",
       "      <td>&lt;objects.song_artist object at 0x000001FD13BED...</td>\n",
       "      <td>0mkctINFN0327pYxp1CRhQ</td>\n",
       "      <td>0.491</td>\n",
       "      <td>0.638</td>\n",
       "      <td>8.0</td>\n",
       "      <td>-5.753</td>\n",
       "      <td>1.0</td>\n",
       "      <td>0.0623</td>\n",
       "      <td>0.21000</td>\n",
       "      <td>0.000000</td>\n",
       "      <td>0.3460</td>\n",
       "      <td>0.368</td>\n",
       "      <td>176.059</td>\n",
       "      <td>236293.0</td>\n",
       "      <td>4.0</td>\n",
       "      <td>j-pop</td>\n",
       "    </tr>\n",
       "  </tbody>\n",
       "</table>\n",
       "<p>100 rows × 20 columns</p>\n",
       "</div>"
      ],
      "text/plain": [
       "                endTime     artistName  \\\n",
       "0   2020-06-23 22:28:00  future bounce   \n",
       "1   2021-05-08 05:06:00      indie pop   \n",
       "2   2021-05-10 02:22:00            NaN   \n",
       "3   2021-05-10 02:22:00          indie   \n",
       "4   2021-05-10 02:29:00            usa   \n",
       "..                  ...            ...   \n",
       "95  2021-05-10 04:54:00            pop   \n",
       "96  2021-05-10 05:05:00            pop   \n",
       "97  2021-05-10 05:05:00       japanese   \n",
       "98  2021-05-10 05:09:00         korean   \n",
       "99  2021-05-10 05:09:00          j-pop   \n",
       "\n",
       "                                 trackName  msPlayed  \\\n",
       "0                                 過ぎゆく日と君へ      6290   \n",
       "1                                Insincere    125825   \n",
       "2   3: ‘This Is Our School, How Dare You?’    331310   \n",
       "3                               Turnaround     14470   \n",
       "4                           Heart to Heart       790   \n",
       "..                                     ...       ...   \n",
       "95                    Fallin’ (Adrenaline)      1810   \n",
       "96                                Honestly     30680   \n",
       "97                                 東京フラッシュ      2480   \n",
       "98                             March Lover      1010   \n",
       "99                              ever after    236293   \n",
       "\n",
       "                                          song_artist                track_id  \\\n",
       "0   <objects.song_artist object at 0x000001FD13C18...                     NaN   \n",
       "1   <objects.song_artist object at 0x000001FD13C18...  18soqxKUvvbDqYoOonsn2I   \n",
       "2   <objects.song_artist object at 0x000001FD13C18...  5nCPI1ZmKhBSGDOw9x7JcX   \n",
       "3   <objects.song_artist object at 0x000001FD13C18...  502Tv1fj0rEffV6QC2Nedp   \n",
       "4   <objects.song_artist object at 0x000001FD13C16...  2IFioAFD8QEIq17UwOaSFb   \n",
       "..                                                ...                     ...   \n",
       "95  <objects.song_artist object at 0x000001FD13BED...  3vXdK7DCzJyp1MIh10TJFS   \n",
       "96  <objects.song_artist object at 0x000001FD13BED...  1pJzl0YsxaWj6BbPs1mUuQ   \n",
       "97  <objects.song_artist object at 0x000001FD13BED...  6nfqlFOMiWthaOEa53uU0v   \n",
       "98  <objects.song_artist object at 0x000001FD13BED...  230SVQ0fk5TOK2fipXXsYH   \n",
       "99  <objects.song_artist object at 0x000001FD13BED...  0mkctINFN0327pYxp1CRhQ   \n",
       "\n",
       "   danceability  energy   key  loudness mode  speechiness  acousticness  \\\n",
       "0           NaN     NaN   NaN       NaN  NaN          NaN           NaN   \n",
       "1         0.447   0.305  11.0   -11.109  1.0       0.0286       0.52300   \n",
       "2         0.588   0.899   2.0    -8.300  1.0       0.0481       0.00243   \n",
       "3         0.341   0.474   4.0    -9.858  1.0       0.0423       0.70900   \n",
       "4         0.772   0.503  11.0    -7.603  0.0       0.0873       0.07320   \n",
       "..          ...     ...   ...       ...  ...          ...           ...   \n",
       "95        0.628   0.634   2.0    -5.508  1.0       0.0322       0.00255   \n",
       "96        0.577   0.811   2.0    -5.123  1.0       0.0750       0.03940   \n",
       "97        0.606   0.900   0.0    -4.504  1.0       0.1190       0.01010   \n",
       "98        0.693   0.602   0.0    -3.649  1.0       0.0370       0.03850   \n",
       "99        0.491   0.638   8.0    -5.753  1.0       0.0623       0.21000   \n",
       "\n",
       "    instrumentalness  liveness  valence    tempo  duration_ms  time_signature  \\\n",
       "0                NaN       NaN      NaN      NaN          NaN             NaN   \n",
       "1           0.000009    0.1830    0.338   81.238     217387.0             4.0   \n",
       "2           0.028700    0.3580    0.754  105.979     180000.0             4.0   \n",
       "3           0.004160    0.3440    0.166  143.444     199560.0             4.0   \n",
       "4           0.000000    0.0785    0.496  138.046     203389.0             4.0   \n",
       "..               ...       ...      ...      ...          ...             ...   \n",
       "95          0.000007    0.0456    0.606   97.990     258859.0             4.0   \n",
       "96          0.000000    0.1100    0.666   92.002     181421.0             4.0   \n",
       "97          0.000000    0.0750    0.233  133.963     216504.0             4.0   \n",
       "98          0.000022    0.1000    0.573  100.016     225000.0             4.0   \n",
       "99          0.000000    0.3460    0.368  176.059     236293.0             4.0   \n",
       "\n",
       "          genre  \n",
       "0           NaN  \n",
       "1           NaN  \n",
       "2     indie pop  \n",
       "3           NaN  \n",
       "4     indie pop  \n",
       "..          ...  \n",
       "95     japanese  \n",
       "96  alternative  \n",
       "97     pop rock  \n",
       "98       korean  \n",
       "99        j-pop  \n",
       "\n",
       "[100 rows x 20 columns]"
      ]
     },
     "execution_count": 206,
     "metadata": {},
     "output_type": "execute_result"
    }
   ],
   "source": [
    "test.iloc[0:100,:]"
   ]
  },
  {
   "cell_type": "markdown",
   "metadata": {},
   "source": [
    "**Making Artist:Genre Dictionary**"
   ]
  },
  {
   "cell_type": "code",
   "execution_count": 208,
   "metadata": {},
   "outputs": [],
   "source": [
    "art_names = rerun_table['artistName'].unique().tolist()"
   ]
  },
  {
   "cell_type": "code",
   "execution_count": 209,
   "metadata": {},
   "outputs": [
    {
     "data": {
      "text/plain": [
       "1845"
      ]
     },
     "execution_count": 209,
     "metadata": {},
     "output_type": "execute_result"
    }
   ],
   "source": [
    "len(art_names)"
   ]
  },
  {
   "cell_type": "code",
   "execution_count": 210,
   "metadata": {},
   "outputs": [
    {
     "name": "stdout",
     "output_type": "stream",
     "text": [
      "My program took 880.4454619884491 to run\n"
     ]
    }
   ],
   "source": [
    "\n",
    "start_time = time.time()\n",
    "\n",
    "artGen_dict = {artist: table_artGen(artist) for artist in art_names}\n",
    "\n",
    "print(\"My program took\", time.time() - start_time, \"to run\") # 880.4454619884491 sec\n"
   ]
  },
  {
   "cell_type": "markdown",
   "metadata": {},
   "source": [
    "**Imputing Genres**"
   ]
  },
  {
   "cell_type": "code",
   "execution_count": 211,
   "metadata": {},
   "outputs": [],
   "source": [
    "rerun_table['genre'].fillna(rerun_table['artistName'], inplace=True)"
   ]
  },
  {
   "cell_type": "code",
   "execution_count": 212,
   "metadata": {},
   "outputs": [],
   "source": [
    "rerun_table['genre'].replace(artGen_dict, inplace=True)"
   ]
  },
  {
   "cell_type": "code",
   "execution_count": 214,
   "metadata": {},
   "outputs": [
    {
     "name": "stdout",
     "output_type": "stream",
     "text": [
      "<class 'pandas.core.frame.DataFrame'>\n",
      "RangeIndex: 20586 entries, 0 to 20585\n",
      "Data columns (total 20 columns):\n",
      " #   Column            Non-Null Count  Dtype  \n",
      "---  ------            --------------  -----  \n",
      " 0   endTime           20586 non-null  object \n",
      " 1   artistName        20586 non-null  object \n",
      " 2   trackName         20586 non-null  object \n",
      " 3   msPlayed          20586 non-null  int64  \n",
      " 4   song_artist       19902 non-null  object \n",
      " 5   track_id          19896 non-null  object \n",
      " 6   danceability      19894 non-null  object \n",
      " 7   energy            19892 non-null  float64\n",
      " 8   key               19892 non-null  float64\n",
      " 9   loudness          19892 non-null  float64\n",
      " 10  mode              19890 non-null  object \n",
      " 11  speechiness       19889 non-null  float64\n",
      " 12  acousticness      19889 non-null  float64\n",
      " 13  instrumentalness  19889 non-null  float64\n",
      " 14  liveness          19889 non-null  float64\n",
      " 15  valence           19889 non-null  float64\n",
      " 16  tempo             19889 non-null  float64\n",
      " 17  duration_ms       19889 non-null  float64\n",
      " 18  time_signature    19889 non-null  float64\n",
      " 19  genre             20087 non-null  object \n",
      "dtypes: float64(11), int64(1), object(8)\n",
      "memory usage: 3.1+ MB\n"
     ]
    }
   ],
   "source": [
    "rerun_table.info()"
   ]
  },
  {
   "cell_type": "code",
   "execution_count": 213,
   "metadata": {},
   "outputs": [],
   "source": [
    "#rerun_table.to_csv(path_or_buf = './modified/imputed_table.csv')"
   ]
  }
 ],
 "metadata": {
  "kernelspec": {
   "display_name": "Python 3",
   "language": "python",
   "name": "python3"
  },
  "language_info": {
   "codemirror_mode": {
    "name": "ipython",
    "version": 3
   },
   "file_extension": ".py",
   "mimetype": "text/x-python",
   "name": "python",
   "nbconvert_exporter": "python",
   "pygments_lexer": "ipython3",
   "version": "3.7.6"
  }
 },
 "nbformat": 4,
 "nbformat_minor": 4
}
