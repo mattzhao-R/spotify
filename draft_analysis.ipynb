{
 "cells": [
  {
   "cell_type": "code",
   "execution_count": 1,
   "metadata": {},
   "outputs": [],
   "source": [
    "import numpy as np\n",
    "import pandas as pd\n",
    "import warnings\n",
    "warnings.filterwarnings('ignore')\n",
    "from collections import Counter\n",
    "from tqdm.notebook import tqdm\n",
    "\n",
    "import json\n",
    "import os\n",
    "import time\n",
    "import csv\n",
    "\n",
    "import matplotlib.pyplot as plt\n",
    "plt.rc('font', size=14)\n",
    "import seaborn as sns\n",
    "sns.set(style='whitegrid', color_codes=True, rc={'figure.figsize':(11,8)}, font_scale=2)"
   ]
  },
  {
   "cell_type": "code",
   "execution_count": 2,
   "metadata": {},
   "outputs": [],
   "source": [
    "#os.chdir('/c/Users/matth/Documents/Coding/spotify/')"
   ]
  },
  {
   "cell_type": "code",
   "execution_count": 3,
   "metadata": {},
   "outputs": [],
   "source": [
    "#!pwd"
   ]
  },
  {
   "cell_type": "markdown",
   "metadata": {},
   "source": [
    "### EDA"
   ]
  },
  {
   "cell_type": "code",
   "execution_count": 4,
   "metadata": {},
   "outputs": [
    {
     "name": "stdout",
     "output_type": "stream",
     "text": [
      "<class 'pandas.core.frame.DataFrame'>\n",
      "RangeIndex: 19306 entries, 0 to 19305\n",
      "Data columns (total 20 columns):\n",
      " #   Column            Non-Null Count  Dtype  \n",
      "---  ------            --------------  -----  \n",
      " 0   endTime           19306 non-null  object \n",
      " 1   artistName        19306 non-null  object \n",
      " 2   trackName         19306 non-null  object \n",
      " 3   msPlayed          19306 non-null  int64  \n",
      " 4   song_artist       19306 non-null  object \n",
      " 5   track_id          19306 non-null  object \n",
      " 6   danceability      19306 non-null  float64\n",
      " 7   energy            19306 non-null  float64\n",
      " 8   key               19306 non-null  float64\n",
      " 9   loudness          19306 non-null  float64\n",
      " 10  mode              19306 non-null  float64\n",
      " 11  speechiness       19306 non-null  float64\n",
      " 12  acousticness      19306 non-null  float64\n",
      " 13  instrumentalness  19306 non-null  float64\n",
      " 14  liveness          19306 non-null  float64\n",
      " 15  valence           19306 non-null  float64\n",
      " 16  tempo             19306 non-null  float64\n",
      " 17  duration_ms       19306 non-null  float64\n",
      " 18  time_signature    19306 non-null  float64\n",
      " 19  genre             19306 non-null  object \n",
      "dtypes: float64(13), int64(1), object(6)\n",
      "memory usage: 2.9+ MB\n"
     ]
    }
   ],
   "source": [
    "df = pd.read_csv('./final/final_table.csv')\n",
    "df.info()"
   ]
  },
  {
   "cell_type": "code",
   "execution_count": 5,
   "metadata": {},
   "outputs": [],
   "source": [
    "df.drop(labels = ['song_artist','track_id'], axis=1, inplace=True)"
   ]
  },
  {
   "cell_type": "code",
   "execution_count": 6,
   "metadata": {},
   "outputs": [
    {
     "name": "stdout",
     "output_type": "stream",
     "text": [
      "endTime : 9682\n",
      "artistName : 1592\n",
      "trackName : 2992\n",
      "msPlayed : 6541\n",
      "danceability : 657\n",
      "energy : 778\n",
      "key : 12\n",
      "loudness : 2613\n",
      "mode : 2\n",
      "speechiness : 878\n",
      "acousticness : 1697\n",
      "instrumentalness : 1393\n",
      "liveness : 895\n",
      "valence : 922\n",
      "tempo : 2855\n",
      "duration_ms : 2948\n",
      "time_signature : 4\n",
      "genre : 263\n"
     ]
    }
   ],
   "source": [
    "for col in df.columns:\n",
    "    print(col,':',len(df[col].unique()))"
   ]
  },
  {
   "cell_type": "markdown",
   "metadata": {},
   "source": [
    "**Categorical Variables**: key, mode (major or minor modality), time_signature, genre\n",
    "\n",
    "**Continuous**: endTime, dancability, energy, loudness, speechiness, acousticness, intrumentalness, liveness, valence, tempo, duration"
   ]
  },
  {
   "cell_type": "code",
   "execution_count": 7,
   "metadata": {},
   "outputs": [
    {
     "data": {
      "image/png": "[encoded data removed]",
      "text/plain": [
       "<Figure size 792x576 with 1 Axes>"
      ]
     },
     "metadata": {},
     "output_type": "display_data"
    }
   ],
   "source": [
    "genre_counts = pd.DataFrame(df['genre'].value_counts())\n",
    "\n",
    "objects = tuple(genre_counts.index)\n",
    "y_pos = np.arange(len(objects))\n",
    "counts = genre_counts['genre']\n",
    "\n",
    "plt.bar(x = y_pos, height = counts, align='center', alpha=0.5)\n",
    "#plt.xticks(y_pos, objects)\n",
    "plt.title('Histogram of Genres')\n",
    "plt.xlabel('Genre')\n",
    "plt.ylabel('Counts')\n",
    "#plt.xticks(fontsize=5, rotation=90)\n",
    "plt.tight_layout()\n",
    "plt.show()"
   ]
  },
  {
   "cell_type": "markdown",
   "metadata": {},
   "source": [
    "**Findings:**\n",
    "Out of the 250+ genres in the dataset, only around 20 appear more than 250 times, with the vast majority appearing less than 100 times. "
   ]
  },
  {
   "cell_type": "code",
   "execution_count": 8,
   "metadata": {},
   "outputs": [
    {
     "name": "stdout",
     "output_type": "stream",
     "text": [
      "115\n"
     ]
    }
   ],
   "source": [
    "# number of genres which appear at least 10 times\n",
    "print(genre_counts[genre_counts['genre']>=10].shape[0])\n",
    "gen_min10 = genre_counts[genre_counts['genre']>=10].index.tolist() # list of genres for removing outliers later"
   ]
  },
  {
   "cell_type": "code",
   "execution_count": 9,
   "metadata": {},
   "outputs": [],
   "source": [
    "gen_t25 = genre_counts.iloc[:25,:].index.tolist()"
   ]
  },
  {
   "cell_type": "markdown",
   "metadata": {},
   "source": [
    "### Analysis\n",
    "#### Pre-processing"
   ]
  },
  {
   "cell_type": "code",
   "execution_count": 10,
   "metadata": {},
   "outputs": [],
   "source": [
    "# turning cat vars into one hot\n",
    "dummy_col = ['key', 'mode', 'time_signature']\n",
    "processing = pd.get_dummies(df, columns=dummy_col, drop_first=False) # including intercept since no standardizing\n",
    "# https://stats.stackexchange.com/questions/224051/one-hot-vs-dummy-encoding-in-scikit-learn"
   ]
  },
  {
   "cell_type": "code",
   "execution_count": 11,
   "metadata": {},
   "outputs": [
    {
     "name": "stdout",
     "output_type": "stream",
     "text": [
      "n Before removing outliers: 19306\n",
      "n After removing outliers: 18906\n"
     ]
    }
   ],
   "source": [
    "# removing genres which appear less than 10 times\n",
    "print('n Before removing outliers:',processing.shape[0])\n",
    "processing = processing[processing['genre'].isin(gen_min10)]\n",
    "print('n After removing outliers:',processing.shape[0])"
   ]
  },
  {
   "cell_type": "code",
   "execution_count": 12,
   "metadata": {},
   "outputs": [],
   "source": [
    "# label encoding genres\n",
    "from sklearn.preprocessing import LabelEncoder\n",
    "\n",
    "label_encoder = LabelEncoder()\n",
    "processing['genre_label'] = label_encoder.fit_transform(processing['genre'])"
   ]
  },
  {
   "cell_type": "code",
   "execution_count": 13,
   "metadata": {},
   "outputs": [],
   "source": [
    "# dictionary to convert label-encoded genres back to actual genre names\n",
    "revert_gen = {label: genre for (genre, label) in zip(processing['genre'],processing['genre_label'])}"
   ]
  },
  {
   "cell_type": "code",
   "execution_count": 14,
   "metadata": {},
   "outputs": [],
   "source": [
    "from sklearn.model_selection import train_test_split\n",
    "\n",
    "X = processing.drop(labels = ['endTime','artistName','trackName','msPlayed','genre','genre_label'], axis=1, inplace=False)\n",
    "y = processing['genre_label']\n",
    "\n",
    "#X_train, X_test, y_train, y_test = train_test_split(X,y,test_size = 0.8)"
   ]
  },
  {
   "cell_type": "code",
   "execution_count": 15,
   "metadata": {},
   "outputs": [],
   "source": [
    "from sklearn.model_selection import StratifiedKFold\n",
    "\n",
    "skf = StratifiedKFold(n_splits=5)"
   ]
  },
  {
   "cell_type": "code",
   "execution_count": 16,
   "metadata": {},
   "outputs": [
    {
     "data": {
      "text/plain": [
       "<generator object _BaseKFold.split at 0x000001A765D1B5C8>"
      ]
     },
     "execution_count": 16,
     "metadata": {},
     "output_type": "execute_result"
    }
   ],
   "source": [
    "skf.split(X, y)"
   ]
  },
  {
   "cell_type": "code",
   "execution_count": 17,
   "metadata": {},
   "outputs": [],
   "source": [
    "Xtr = []\n",
    "ytr = []\n",
    "Xte = []\n",
    "yte = []\n",
    "\n",
    "for train_index, test_index in skf.split(X, y):\n",
    "    X_train, X_test = X.iloc[train_index,:], X.iloc[test_index,:]\n",
    "    y_train, y_test = y.iloc[train_index], y.iloc[test_index]\n",
    "    Xtr.append(X_train), Xte.append(X_test), ytr.append(y_train), yte.append(y_test)"
   ]
  },
  {
   "cell_type": "code",
   "execution_count": 18,
   "metadata": {},
   "outputs": [],
   "source": [
    "X_train, X_test = Xtr[0], Xte[0]\n",
    "y_train, y_test = ytr[0], yte[0]"
   ]
  },
  {
   "cell_type": "markdown",
   "metadata": {},
   "source": [
    "#### Modeling Relationship between Audio Features and Genre\n",
    "\n",
    "Testing multiple classification models without tuning."
   ]
  },
  {
   "cell_type": "code",
   "execution_count": 26,
   "metadata": {},
   "outputs": [],
   "source": [
    "from sklearn.linear_model import LogisticRegression\n",
    "from sklearn import neighbors\n",
    "from sklearn.tree import DecisionTreeClassifier\n",
    "from sklearn.ensemble import RandomForestClassifier\n",
    "from sklearn.ensemble import GradientBoostingClassifier\n",
    "\n",
    "start_time = time.time()\n",
    "\n",
    "n_neighbors = 10\n",
    "\n",
    "classifiers = {\n",
    "    \"MLR\": LogisticRegression(multi_class='multinomial', solver='saga'),\n",
    "    \"KNN\": neighbors.KNeighborsClassifier(n_neighbors = n_neighbors, n_jobs = -1),\n",
    "    \"Tree\": DecisionTreeClassifier(),\n",
    "    \"RF\": RandomForestClassifier(),\n",
    "    \"GBoost\": GradientBoostingClassifier()\n",
    "}\n",
    "\n",
    "y_test_preds = dict()\n",
    "\n",
    "print(\"Generating models took\", time.time()-start_time) # "
   ]
  },
  {
   "cell_type": "code",
   "execution_count": 27,
   "metadata": {},
   "outputs": [
    {
     "name": "stdout",
     "output_type": "stream",
     "text": [
      "Training took 898.7419912815094\n"
     ]
    }
   ],
   "source": [
    "start_time = time.time()\n",
    "\n",
    "for name, classifier in classifiers.items():\n",
    "    model = classifier.fit(X_train, y_train)\n",
    "    y_test_preds[name] = [model.predict(X_test),model.predict_proba(X_test),model]\n",
    "    \n",
    "print(\"Training took\", time.time()-start_time) # 898.7419912815094 s (15 min)"
   ]
  },
  {
   "cell_type": "markdown",
   "metadata": {},
   "source": [
    "#### Model Evaluation"
   ]
  },
  {
   "cell_type": "code",
   "execution_count": 30,
   "metadata": {},
   "outputs": [
    {
     "name": "stdout",
     "output_type": "stream",
     "text": [
      "MLR\n",
      "Accuracy: 0.14516129032258066 \t Top 5 Accuracy: 0.45716552088841883\n",
      "LogLoss: 3.433093415043261 \t F1: 0.002204531537048377 \n",
      "\n",
      "KNN\n",
      "Accuracy: 0.7094130089899524 \t Top 5 Accuracy: 0.8204653622421999\n",
      "LogLoss: 6.383664207530595 \t F1: 0.5764320509066517 \n",
      "\n",
      "Tree\n",
      "Accuracy: 0.8083024854574299 \t Top 5 Accuracy: 0.8093601269169751\n",
      "LogLoss: 6.620997590246081 \t F1: 0.770220626662753 \n",
      "\n",
      "RF\n",
      "Accuracy: 0.8376520359598096 \t Top 5 Accuracy: 0.9063987308302486\n",
      "LogLoss: 1.3871911796308127 \t F1: 0.8305843317901678 \n",
      "\n",
      "XGBoost\n",
      "Accuracy: 0.772607086197779 \t Top 5 Accuracy: 0.8984664198836594\n",
      "LogLoss: 2.004542685321732 \t F1: 0.7581319516972962 \n",
      "\n"
     ]
    }
   ],
   "source": [
    "from sklearn.metrics import top_k_accuracy_score\n",
    "from sklearn.metrics import log_loss\n",
    "from sklearn.metrics import f1_score\n",
    "from sklearn.metrics import roc_curve, auc, confusion_matrix\n",
    "\n",
    "for name in classifiers.keys():\n",
    "    result = pd.DataFrame({'True':y_test,'Predict':y_test_preds[name][0]})\n",
    "    result['Correct'] = np.where(result.iloc[:,0] == result.iloc[:,1],1,0)\n",
    "    acc = (result['Correct'] == 1).sum()/result.shape[0]\n",
    "       \n",
    "    t5_acc = top_k_accuracy_score(y_test,y_test_preds[name][1], k=5)\n",
    "    \n",
    "    #ADD ROC AUC\n",
    "    logloss = log_loss(y_test,y_test_preds[name][1])\n",
    "    f1 = f1_score(y_test, y_test_preds[name][0], average='macro')\n",
    "    \n",
    "    \n",
    "    print(name)\n",
    "    print('Accuracy:', acc, '\\t Top 5 Accuracy:', t5_acc)\n",
    "    print('LogLoss:',logloss, '\\t F1:',f1,'\\n')"
   ]
  },
  {
   "cell_type": "markdown",
   "metadata": {},
   "source": [
    "#### Feature Importances"
   ]
  },
  {
   "cell_type": "code",
   "execution_count": null,
   "metadata": {},
   "outputs": [],
   "source": [
    "# RF\n",
    "RF = y_test_preds['RF']\n",
    "\n",
    "feature_names = X.columns\n",
    "importances = RF.feature_importances_\n",
    "std = np.std([tree.feature_importances_ for tree in RF.estimators_], axis=0)\n",
    "forest_importances = pd.Series(importances, index=feature_names)\n",
    "\n",
    "fig, ax = plt.subplots(figsize =(16, 9))\n",
    "forest_importances.plot.bar(yerr=std, ax=ax)\n",
    "ax.set_title(\"Feature importances\")\n",
    "ax.set_ylabel(\"Mean decrease in impurity\")\n",
    "fig.tight_layout()"
   ]
  },
  {
   "cell_type": "code",
   "execution_count": null,
   "metadata": {},
   "outputs": [],
   "source": [
    "# Gradient Boost\n",
    "GB = y_test_preds['GBoost']\n",
    "\n",
    "feature_names = X.columns\n",
    "importances = GB.feature_importances_\n",
    "std = np.std([tree.feature_importances_ for b in GB.estimators_], axis=0)\n",
    "boost_importances = pd.Series(importances, index=feature_names)\n",
    "\n",
    "fig, ax = plt.subplots(figsize =(16, 9))\n",
    "boost_importances.plot.bar(yerr=std, ax=ax)\n",
    "ax.set_title(\"Feature importances\")\n",
    "ax.set_ylabel(\"Mean decrease in impurity\")\n",
    "fig.tight_layout()"
   ]
  },
  {
   "cell_type": "code",
   "execution_count": null,
   "metadata": {},
   "outputs": [],
   "source": []
  },
  {
   "cell_type": "markdown",
   "metadata": {},
   "source": [
    "### Model Tuning\n",
    "\n",
    "#### RF and Gradient Boosting"
   ]
  },
  {
   "cell_type": "code",
   "execution_count": null,
   "metadata": {},
   "outputs": [],
   "source": [
    "# gridsearch cv\n",
    "# randomsearch cv"
   ]
  },
  {
   "cell_type": "markdown",
   "metadata": {},
   "source": [
    "### Searching for New Genres via Clustering\n",
    "\n",
    "#### K-means\n",
    "\n",
    "**Initial Model**"
   ]
  },
  {
   "cell_type": "code",
   "execution_count": 33,
   "metadata": {},
   "outputs": [
    {
     "data": {
      "text/html": [
       "<div>\n",
       "<style scoped>\n",
       "    .dataframe tbody tr th:only-of-type {\n",
       "        vertical-align: middle;\n",
       "    }\n",
       "\n",
       "    .dataframe tbody tr th {\n",
       "        vertical-align: top;\n",
       "    }\n",
       "\n",
       "    .dataframe thead th {\n",
       "        text-align: right;\n",
       "    }\n",
       "</style>\n",
       "<table border=\"1\" class=\"dataframe\">\n",
       "  <thead>\n",
       "    <tr style=\"text-align: right;\">\n",
       "      <th></th>\n",
       "      <th>count</th>\n",
       "      <th>mean</th>\n",
       "      <th>std</th>\n",
       "      <th>min</th>\n",
       "      <th>25%</th>\n",
       "      <th>50%</th>\n",
       "      <th>75%</th>\n",
       "      <th>max</th>\n",
       "    </tr>\n",
       "  </thead>\n",
       "  <tbody>\n",
       "    <tr>\n",
       "      <th>danceability</th>\n",
       "      <td>18906.0</td>\n",
       "      <td>0.637600</td>\n",
       "      <td>0.137663</td>\n",
       "      <td>0.067000</td>\n",
       "      <td>0.5520</td>\n",
       "      <td>0.6490</td>\n",
       "      <td>0.732000</td>\n",
       "      <td>0.972</td>\n",
       "    </tr>\n",
       "    <tr>\n",
       "      <th>energy</th>\n",
       "      <td>18906.0</td>\n",
       "      <td>0.700179</td>\n",
       "      <td>0.176581</td>\n",
       "      <td>0.005790</td>\n",
       "      <td>0.5950</td>\n",
       "      <td>0.7250</td>\n",
       "      <td>0.842000</td>\n",
       "      <td>0.993</td>\n",
       "    </tr>\n",
       "    <tr>\n",
       "      <th>key</th>\n",
       "      <td>18906.0</td>\n",
       "      <td>5.320269</td>\n",
       "      <td>3.609237</td>\n",
       "      <td>0.000000</td>\n",
       "      <td>2.0000</td>\n",
       "      <td>5.0000</td>\n",
       "      <td>8.000000</td>\n",
       "      <td>11.000</td>\n",
       "    </tr>\n",
       "    <tr>\n",
       "      <th>loudness</th>\n",
       "      <td>18906.0</td>\n",
       "      <td>-5.696439</td>\n",
       "      <td>2.593521</td>\n",
       "      <td>-35.072000</td>\n",
       "      <td>-6.6540</td>\n",
       "      <td>-5.4850</td>\n",
       "      <td>-4.082000</td>\n",
       "      <td>0.034</td>\n",
       "    </tr>\n",
       "    <tr>\n",
       "      <th>mode</th>\n",
       "      <td>18906.0</td>\n",
       "      <td>0.649053</td>\n",
       "      <td>0.477279</td>\n",
       "      <td>0.000000</td>\n",
       "      <td>0.0000</td>\n",
       "      <td>1.0000</td>\n",
       "      <td>1.000000</td>\n",
       "      <td>1.000</td>\n",
       "    </tr>\n",
       "    <tr>\n",
       "      <th>speechiness</th>\n",
       "      <td>18906.0</td>\n",
       "      <td>0.073621</td>\n",
       "      <td>0.061449</td>\n",
       "      <td>0.023300</td>\n",
       "      <td>0.0377</td>\n",
       "      <td>0.0523</td>\n",
       "      <td>0.085700</td>\n",
       "      <td>0.712</td>\n",
       "    </tr>\n",
       "    <tr>\n",
       "      <th>acousticness</th>\n",
       "      <td>18906.0</td>\n",
       "      <td>0.195492</td>\n",
       "      <td>0.231738</td>\n",
       "      <td>0.000007</td>\n",
       "      <td>0.0160</td>\n",
       "      <td>0.0954</td>\n",
       "      <td>0.304750</td>\n",
       "      <td>0.996</td>\n",
       "    </tr>\n",
       "    <tr>\n",
       "      <th>instrumentalness</th>\n",
       "      <td>18906.0</td>\n",
       "      <td>0.024918</td>\n",
       "      <td>0.127917</td>\n",
       "      <td>0.000000</td>\n",
       "      <td>0.0000</td>\n",
       "      <td>0.0000</td>\n",
       "      <td>0.000123</td>\n",
       "      <td>0.977</td>\n",
       "    </tr>\n",
       "    <tr>\n",
       "      <th>liveness</th>\n",
       "      <td>18906.0</td>\n",
       "      <td>0.177780</td>\n",
       "      <td>0.123653</td>\n",
       "      <td>0.011400</td>\n",
       "      <td>0.0957</td>\n",
       "      <td>0.1280</td>\n",
       "      <td>0.241000</td>\n",
       "      <td>0.991</td>\n",
       "    </tr>\n",
       "    <tr>\n",
       "      <th>valence</th>\n",
       "      <td>18906.0</td>\n",
       "      <td>0.579263</td>\n",
       "      <td>0.214458</td>\n",
       "      <td>0.026200</td>\n",
       "      <td>0.4200</td>\n",
       "      <td>0.5920</td>\n",
       "      <td>0.755000</td>\n",
       "      <td>0.977</td>\n",
       "    </tr>\n",
       "    <tr>\n",
       "      <th>tempo</th>\n",
       "      <td>18906.0</td>\n",
       "      <td>123.322605</td>\n",
       "      <td>27.380580</td>\n",
       "      <td>48.973000</td>\n",
       "      <td>101.1400</td>\n",
       "      <td>120.0440</td>\n",
       "      <td>140.015000</td>\n",
       "      <td>207.970</td>\n",
       "    </tr>\n",
       "    <tr>\n",
       "      <th>duration_ms</th>\n",
       "      <td>18906.0</td>\n",
       "      <td>204607.227441</td>\n",
       "      <td>41799.470959</td>\n",
       "      <td>38987.000000</td>\n",
       "      <td>179217.5000</td>\n",
       "      <td>201524.0000</td>\n",
       "      <td>223123.000000</td>\n",
       "      <td>700639.000</td>\n",
       "    </tr>\n",
       "    <tr>\n",
       "      <th>time_signature</th>\n",
       "      <td>18906.0</td>\n",
       "      <td>3.977256</td>\n",
       "      <td>0.213064</td>\n",
       "      <td>1.000000</td>\n",
       "      <td>4.0000</td>\n",
       "      <td>4.0000</td>\n",
       "      <td>4.000000</td>\n",
       "      <td>5.000</td>\n",
       "    </tr>\n",
       "  </tbody>\n",
       "</table>\n",
       "</div>"
      ],
      "text/plain": [
       "                    count           mean           std           min  \\\n",
       "danceability      18906.0       0.637600      0.137663      0.067000   \n",
       "energy            18906.0       0.700179      0.176581      0.005790   \n",
       "key               18906.0       5.320269      3.609237      0.000000   \n",
       "loudness          18906.0      -5.696439      2.593521    -35.072000   \n",
       "mode              18906.0       0.649053      0.477279      0.000000   \n",
       "speechiness       18906.0       0.073621      0.061449      0.023300   \n",
       "acousticness      18906.0       0.195492      0.231738      0.000007   \n",
       "instrumentalness  18906.0       0.024918      0.127917      0.000000   \n",
       "liveness          18906.0       0.177780      0.123653      0.011400   \n",
       "valence           18906.0       0.579263      0.214458      0.026200   \n",
       "tempo             18906.0     123.322605     27.380580     48.973000   \n",
       "duration_ms       18906.0  204607.227441  41799.470959  38987.000000   \n",
       "time_signature    18906.0       3.977256      0.213064      1.000000   \n",
       "\n",
       "                          25%          50%            75%         max  \n",
       "danceability           0.5520       0.6490       0.732000       0.972  \n",
       "energy                 0.5950       0.7250       0.842000       0.993  \n",
       "key                    2.0000       5.0000       8.000000      11.000  \n",
       "loudness              -6.6540      -5.4850      -4.082000       0.034  \n",
       "mode                   0.0000       1.0000       1.000000       1.000  \n",
       "speechiness            0.0377       0.0523       0.085700       0.712  \n",
       "acousticness           0.0160       0.0954       0.304750       0.996  \n",
       "instrumentalness       0.0000       0.0000       0.000123       0.977  \n",
       "liveness               0.0957       0.1280       0.241000       0.991  \n",
       "valence                0.4200       0.5920       0.755000       0.977  \n",
       "tempo                101.1400     120.0440     140.015000     207.970  \n",
       "duration_ms       179217.5000  201524.0000  223123.000000  700639.000  \n",
       "time_signature         4.0000       4.0000       4.000000       5.000  "
      ]
     },
     "execution_count": 33,
     "metadata": {},
     "output_type": "execute_result"
    }
   ],
   "source": [
    "X.describe().T"
   ]
  },
  {
   "cell_type": "code",
   "execution_count": null,
   "metadata": {},
   "outputs": [],
   "source": [
    "# kmeans\n",
    "# tuning via elbow method, show elbow for best n number of clusters"
   ]
  },
  {
   "cell_type": "code",
   "execution_count": 34,
   "metadata": {},
   "outputs": [
    {
     "data": {
      "text/plain": [
       "[1, 2, 3, 4, 5, 6, 7, 8, 9, 10]"
      ]
     },
     "execution_count": 34,
     "metadata": {},
     "output_type": "execute_result"
    }
   ],
   "source": [
    "list(range(1,11))"
   ]
  },
  {
   "cell_type": "code",
   "execution_count": 38,
   "metadata": {},
   "outputs": [
    {
     "name": "stdout",
     "output_type": "stream",
     "text": [
      "Generating elbow took 610.1405174732208\n"
     ]
    },
    {
     "data": {
      "image/png": "[encoded data removed]",
      "text/plain": [
       "<Figure size 792x576 with 1 Axes>"
      ]
     },
     "metadata": {},
     "output_type": "display_data"
    }
   ],
   "source": [
    "from sklearn.cluster import KMeans\n",
    "\n",
    "wcss = []\n",
    "start = 1\n",
    "end = 200\n",
    "\n",
    "start_time = time.time()\n",
    "\n",
    "for i in range(start, end):\n",
    "    clustering = KMeans(n_clusters=i, init='k-means++', random_state=42)\n",
    "    clustering.fit(X)\n",
    "    wcss.append(clustering.inertia_)\n",
    "    \n",
    "ks = list(range(start,end))\n",
    "sns.lineplot(x = ks, y = wcss)\n",
    "\n",
    "print(\"Generating elbow took\", time.time()-start_time) # 610.1405174732208 s (12 min)"
   ]
  },
  {
   "cell_type": "code",
   "execution_count": 39,
   "metadata": {},
   "outputs": [
    {
     "data": {
      "application/vnd.jupyter.widget-view+json": {
       "model_id": "8a7f63df70534718bee4ca38baf862aa",
       "version_major": 2,
       "version_minor": 0
      },
      "text/plain": [
       "HBox(children=(FloatProgress(value=0.0, max=199.0), HTML(value='')))"
      ]
     },
     "metadata": {},
     "output_type": "display_data"
    },
    {
     "name": "stdout",
     "output_type": "stream",
     "text": [
      "\n",
      "Generating elbow took 610.5756132602692\n"
     ]
    },
    {
     "data": {
      "image/png": "[encoded data removed]",
      "text/plain": [
       "<Figure size 792x576 with 1 Axes>"
      ]
     },
     "metadata": {},
     "output_type": "display_data"
    }
   ],
   "source": [
    "from sklearn.preprocessing import StandardScaler\n",
    "\n",
    "ss = StandardScaler()\n",
    "scaled = ss.fit_transform(X)\n",
    "\n",
    "wcss = []\n",
    "start = 1\n",
    "end = 200\n",
    "\n",
    "start_time = time.time()\n",
    "\n",
    "for i in range(start, end):\n",
    "    clustering = KMeans(n_clusters=i, init='k-means++', random_state=42)\n",
    "    clustering.fit(X)\n",
    "    wcss.append(clustering.inertia_)\n",
    "    \n",
    "ks = list(range(start,end))\n",
    "sns.lineplot(x = ks, y = wcss)\n",
    "\n",
    "print(\"Generating elbow took\", time.time()-start_time) # 610.5756132602692 s (12 min)"
   ]
  },
  {
   "cell_type": "code",
   "execution_count": 66,
   "metadata": {},
   "outputs": [
    {
     "data": {
      "image/png": "[encoded data removed]",
      "text/plain": [
       "<Figure size 576x396 with 2 Axes>"
      ]
     },
     "metadata": {},
     "output_type": "display_data"
    },
    {
     "data": {
      "text/plain": [
       "<matplotlib.axes._subplots.AxesSubplot at 0x1a720c6fcc8>"
      ]
     },
     "execution_count": 66,
     "metadata": {},
     "output_type": "execute_result"
    }
   ],
   "source": [
    "from yellowbrick.cluster import KElbowVisualizer\n",
    "\n",
    "model = KMeans()\n",
    "visualizer = KElbowVisualizer(model, k=(1,20))\n",
    "\n",
    "visualizer.fit(X)        # Fit the data to the visualizer\n",
    "visualizer.show()"
   ]
  },
  {
   "cell_type": "markdown",
   "metadata": {},
   "source": [
    "#### Mapping New 'Genres' Back to Original Data"
   ]
  },
  {
   "cell_type": "code",
   "execution_count": null,
   "metadata": {},
   "outputs": [],
   "source": []
  },
  {
   "cell_type": "code",
   "execution_count": null,
   "metadata": {},
   "outputs": [],
   "source": [
    "#final_newgen.to_csv(path_or_buf = './final/final_newGen.csv', index = False)"
   ]
  }
 ],
 "metadata": {
  "kernelspec": {
   "display_name": "Python 3",
   "language": "python",
   "name": "python3"
  },
  "language_info": {
   "codemirror_mode": {
    "name": "ipython",
    "version": 3
   },
   "file_extension": ".py",
   "mimetype": "text/x-python",
   "name": "python",
   "nbconvert_exporter": "python",
   "pygments_lexer": "ipython3",
   "version": "3.7.6"
  }
 },
 "nbformat": 4,
 "nbformat_minor": 4
}
