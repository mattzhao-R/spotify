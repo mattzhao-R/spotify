{
 "cells": [
  {
   "cell_type": "code",
   "execution_count": 1,
   "metadata": {},
   "outputs": [],
   "source": [
    "import numpy as np\n",
    "import pandas as pd\n",
    "import warnings\n",
    "warnings.filterwarnings('ignore')\n",
    "from collections import Counter\n",
    "from tqdm.notebook import tqdm\n",
    "\n",
    "import json\n",
    "import os\n",
    "import time\n",
    "import csv\n",
    "\n",
    "import matplotlib.pyplot as plt\n",
    "plt.rc('font', size=14)\n",
    "import seaborn as sns\n",
    "sns.set(style='whitegrid', color_codes=True, rc={'figure.figsize':(11,8)}, font_scale=2)"
   ]
  },
  {
   "cell_type": "code",
   "execution_count": 2,
   "metadata": {},
   "outputs": [],
   "source": [
    "#os.chdir('/c/Users/matth/Documents/Coding/spotify/')"
   ]
  },
  {
   "cell_type": "code",
   "execution_count": 3,
   "metadata": {},
   "outputs": [],
   "source": [
    "#!pwd"
   ]
  },
  {
   "cell_type": "markdown",
   "metadata": {},
   "source": [
    "### EDA"
   ]
  },
  {
   "cell_type": "code",
   "execution_count": 4,
   "metadata": {},
   "outputs": [
    {
     "name": "stdout",
     "output_type": "stream",
     "text": [
      "<class 'pandas.core.frame.DataFrame'>\n",
      "RangeIndex: 19306 entries, 0 to 19305\n",
      "Data columns (total 20 columns):\n",
      " #   Column            Non-Null Count  Dtype  \n",
      "---  ------            --------------  -----  \n",
      " 0   endTime           19306 non-null  object \n",
      " 1   artistName        19306 non-null  object \n",
      " 2   trackName         19306 non-null  object \n",
      " 3   msPlayed          19306 non-null  int64  \n",
      " 4   song_artist       19306 non-null  object \n",
      " 5   track_id          19306 non-null  object \n",
      " 6   danceability      19306 non-null  float64\n",
      " 7   energy            19306 non-null  float64\n",
      " 8   key               19306 non-null  float64\n",
      " 9   loudness          19306 non-null  float64\n",
      " 10  mode              19306 non-null  float64\n",
      " 11  speechiness       19306 non-null  float64\n",
      " 12  acousticness      19306 non-null  float64\n",
      " 13  instrumentalness  19306 non-null  float64\n",
      " 14  liveness          19306 non-null  float64\n",
      " 15  valence           19306 non-null  float64\n",
      " 16  tempo             19306 non-null  float64\n",
      " 17  duration_ms       19306 non-null  float64\n",
      " 18  time_signature    19306 non-null  float64\n",
      " 19  genre             19306 non-null  object \n",
      "dtypes: float64(13), int64(1), object(6)\n",
      "memory usage: 2.9+ MB\n"
     ]
    }
   ],
   "source": [
    "df = pd.read_csv('./final/final_table.csv')\n",
    "df.info()"
   ]
  },
  {
   "cell_type": "code",
   "execution_count": 5,
   "metadata": {},
   "outputs": [],
   "source": [
    "df.drop(labels = ['song_artist','track_id'], axis=1, inplace=True)"
   ]
  },
  {
   "cell_type": "code",
   "execution_count": 6,
   "metadata": {},
   "outputs": [
    {
     "name": "stdout",
     "output_type": "stream",
     "text": [
      "endTime : 9682\n",
      "artistName : 1592\n",
      "trackName : 2992\n",
      "msPlayed : 6541\n",
      "danceability : 657\n",
      "energy : 778\n",
      "key : 12\n",
      "loudness : 2613\n",
      "mode : 2\n",
      "speechiness : 878\n",
      "acousticness : 1697\n",
      "instrumentalness : 1393\n",
      "liveness : 895\n",
      "valence : 922\n",
      "tempo : 2855\n",
      "duration_ms : 2948\n",
      "time_signature : 4\n",
      "genre : 263\n"
     ]
    }
   ],
   "source": [
    "for col in df.columns:\n",
    "    print(col,':',len(df[col].unique()))"
   ]
  },
  {
   "cell_type": "markdown",
   "metadata": {},
   "source": [
    "**Categorical Variables**: key, mode (major or minor modality), time_signature, genre\n",
    "\n",
    "**Continuous**: endTime, dancability, energy, loudness, speechiness, acousticness, intrumentalness, liveness, valence, tempo, duration"
   ]
  },
  {
   "cell_type": "code",
   "execution_count": 7,
   "metadata": {},
   "outputs": [
    {
     "data": {
      "image/png": "[encoded data removed]",
      "text/plain": [
       "<Figure size 792x576 with 1 Axes>"
      ]
     },
     "metadata": {},
     "output_type": "display_data"
    }
   ],
   "source": [
    "genre_counts = pd.DataFrame(df['genre'].value_counts())\n",
    "\n",
    "objects = tuple(genre_counts.index)\n",
    "y_pos = np.arange(len(objects))\n",
    "counts = genre_counts['genre']\n",
    "\n",
    "plt.bar(x = y_pos, height = counts, align='center', alpha=0.5)\n",
    "#plt.xticks(y_pos, objects)\n",
    "plt.title('Histogram of Genres')\n",
    "plt.xlabel('Genre')\n",
    "plt.ylabel('Counts')\n",
    "#plt.xticks(fontsize=5, rotation=90)\n",
    "plt.tight_layout()\n",
    "plt.show()"
   ]
  },
  {
   "cell_type": "markdown",
   "metadata": {},
   "source": [
    "**Findings:**\n",
    "Out of the 250+ genres in the dataset, only around 20 appear more than 250 times, with the vast majority appearing less than 100 times. "
   ]
  },
  {
   "cell_type": "code",
   "execution_count": 8,
   "metadata": {},
   "outputs": [
    {
     "name": "stdout",
     "output_type": "stream",
     "text": [
      "115\n"
     ]
    }
   ],
   "source": [
    "# number of genres which appear at least 10 times\n",
    "print(genre_counts[genre_counts['genre']>=10].shape[0])\n",
    "gen_min10 = genre_counts[genre_counts['genre']>=10].index.tolist() # list of genres for removing outliers later"
   ]
  },
  {
   "cell_type": "code",
   "execution_count": 9,
   "metadata": {},
   "outputs": [],
   "source": [
    "gen_t25 = genre_counts.iloc[:25,:].index.tolist()"
   ]
  },
  {
   "cell_type": "markdown",
   "metadata": {},
   "source": [
    "### Analysis\n",
    "#### Pre-processing"
   ]
  },
  {
   "cell_type": "code",
   "execution_count": 10,
   "metadata": {},
   "outputs": [],
   "source": [
    "# turning cat vars into one hot\n",
    "dummy_col = ['key', 'mode', 'time_signature']\n",
    "processing = pd.get_dummies(df, columns=dummy_col, drop_first=False) # including intercept since no standardizing\n",
    "# https://stats.stackexchange.com/questions/224051/one-hot-vs-dummy-encoding-in-scikit-learn"
   ]
  },
  {
   "cell_type": "code",
   "execution_count": 11,
   "metadata": {},
   "outputs": [
    {
     "name": "stdout",
     "output_type": "stream",
     "text": [
      "n Before removing outliers: 19306\n",
      "n After removing outliers: 18906\n"
     ]
    }
   ],
   "source": [
    "# removing genres which appear less than 10 times\n",
    "print('n Before removing outliers:',df.shape[0])\n",
    "df = df[df['genre'].isin(gen_min10)]\n",
    "print('n After removing outliers:',df.shape[0])"
   ]
  },
  {
   "cell_type": "code",
   "execution_count": 12,
   "metadata": {},
   "outputs": [],
   "source": [
    "# label encoding genres\n",
    "from sklearn.preprocessing import LabelEncoder\n",
    "\n",
    "label_encoder = LabelEncoder()\n",
    "df['genre_label'] = label_encoder.fit_transform(df['genre'])"
   ]
  },
  {
   "cell_type": "code",
   "execution_count": 13,
   "metadata": {},
   "outputs": [],
   "source": [
    "# dictionary to convert label-encoded genres back to actual genre names\n",
    "revert_gen = {label: genre for (genre, label) in zip(df['genre'],df['genre_label'])}"
   ]
  },
  {
   "cell_type": "code",
   "execution_count": 14,
   "metadata": {},
   "outputs": [],
   "source": [
    "from sklearn.model_selection import train_test_split\n",
    "\n",
    "X = df.drop(labels = ['endTime','artistName','trackName','msPlayed','genre','genre_label'], axis=1, inplace=False)\n",
    "y = df['genre_label']\n",
    "\n",
    "#X_train, X_test, y_train, y_test = train_test_split(X,y,test_size = 0.8)"
   ]
  },
  {
   "cell_type": "code",
   "execution_count": 15,
   "metadata": {},
   "outputs": [],
   "source": [
    "from sklearn.model_selection import StratifiedKFold\n",
    "\n",
    "skf = StratifiedKFold(n_splits=5)"
   ]
  },
  {
   "cell_type": "code",
   "execution_count": 16,
   "metadata": {},
   "outputs": [
    {
     "data": {
      "text/plain": [
       "<generator object _BaseKFold.split at 0x000001A765D1B5C8>"
      ]
     },
     "execution_count": 16,
     "metadata": {},
     "output_type": "execute_result"
    }
   ],
   "source": [
    "skf.split(X, y)"
   ]
  },
  {
   "cell_type": "code",
   "execution_count": 17,
   "metadata": {},
   "outputs": [],
   "source": [
    "Xtr = []\n",
    "ytr = []\n",
    "Xte = []\n",
    "yte = []\n",
    "\n",
    "for train_index, test_index in skf.split(X, y):\n",
    "    X_train, X_test = X.iloc[train_index,:], X.iloc[test_index,:]\n",
    "    y_train, y_test = y.iloc[train_index], y.iloc[test_index]\n",
    "    Xtr.append(X_train), Xte.append(X_test), ytr.append(y_train), yte.append(y_test)"
   ]
  },
  {
   "cell_type": "code",
   "execution_count": 18,
   "metadata": {},
   "outputs": [],
   "source": [
    "X_train, X_test = Xtr[0], Xte[0]\n",
    "y_train, y_test = ytr[0], yte[0]"
   ]
  },
  {
   "cell_type": "markdown",
   "metadata": {},
   "source": [
    "#### Modeling Relationship between Audio Features and Genre\n",
    "\n",
    "Testing multiple classification models without tuning."
   ]
  },
  {
   "cell_type": "code",
   "execution_count": 26,
   "metadata": {},
   "outputs": [],
   "source": [
    "from sklearn.linear_model import LogisticRegression\n",
    "from sklearn import neighbors\n",
    "from sklearn.tree import DecisionTreeClassifier\n",
    "from sklearn.ensemble import RandomForestClassifier\n",
    "from sklearn.ensemble import GradientBoostingClassifier\n",
    "\n",
    "start_time = time.time()\n",
    "\n",
    "n_neighbors = 10\n",
    "\n",
    "classifiers = {\n",
    "    \"MLR\": LogisticRegression(multi_class='multinomial', solver='saga'),\n",
    "    \"KNN\": neighbors.KNeighborsClassifier(n_neighbors = n_neighbors, n_jobs = -1),\n",
    "    \"Tree\": DecisionTreeClassifier(),\n",
    "    \"RF\": RandomForestClassifier(),\n",
    "    \"Gradient Boost\": GradientBoostingClassifier()\n",
    "}\n",
    "\n",
    "y_test_preds = dict()\n",
    "\n",
    "print(\"Generating models took\", time.time()-start_time) # "
   ]
  },
  {
   "cell_type": "code",
   "execution_count": 27,
   "metadata": {},
   "outputs": [
    {
     "name": "stdout",
     "output_type": "stream",
     "text": [
      "Training took 898.7419912815094\n"
     ]
    }
   ],
   "source": [
    "start_time = time.time()\n",
    "\n",
    "for name, classifier in classifiers.items():\n",
    "    model = classifier.fit(X_train, y_train)\n",
    "    y_test_preds[name] = [model.predict(X_test),model.predict_proba(X_test)]\n",
    "    \n",
    "print(\"Training took\", time.time()-start_time) # 898.7419912815094 s (15 min)"
   ]
  },
  {
   "cell_type": "markdown",
   "metadata": {},
   "source": [
    "#### Model Evaluation"
   ]
  },
  {
   "cell_type": "code",
   "execution_count": 28,
   "metadata": {},
   "outputs": [
    {
     "name": "stdout",
     "output_type": "stream",
     "text": [
      "MLR\n",
      "Accuracy: 0.14516129032258066 \t Top 5 Accuracy: 0.45716552088841883\n",
      "LogLoss: 3.433093415043261 \t F1: 0.002204531537048377 \n",
      "\n",
      "KNN\n",
      "Accuracy: 0.7094130089899524 \t Top 5 Accuracy: 0.8204653622421999\n",
      "LogLoss: 6.383664207530595 \t F1: 0.5764320509066517 \n",
      "\n",
      "Tree\n",
      "Accuracy: 0.8083024854574299 \t Top 5 Accuracy: 0.8093601269169751\n",
      "LogLoss: 6.620997590246081 \t F1: 0.770220626662753 \n",
      "\n",
      "RF\n",
      "Accuracy: 0.8376520359598096 \t Top 5 Accuracy: 0.9063987308302486\n",
      "LogLoss: 1.3871911796308127 \t F1: 0.8305843317901678 \n",
      "\n",
      "XGBoost\n",
      "Accuracy: 0.772607086197779 \t Top 5 Accuracy: 0.8984664198836594\n",
      "LogLoss: 2.004542685321732 \t F1: 0.7581319516972962 \n",
      "\n"
     ]
    }
   ],
   "source": [
    "from sklearn.metrics import top_k_accuracy_score\n",
    "from sklearn.metrics import log_loss\n",
    "from sklearn.metrics import f1_score\n",
    "from sklearn.metrics import roc_curve, auc, confusion_matrix\n",
    "\n",
    "for name in classifiers.keys():\n",
    "    result = pd.DataFrame({'True':y_test,'Predict':y_test_preds[name][0]})\n",
    "    result['Correct'] = np.where(result.iloc[:,0] == result.iloc[:,1],1,0)\n",
    "    acc = (result['Correct'] == 1).sum()/result.shape[0]\n",
    "       \n",
    "    t5_acc = top_k_accuracy_score(y_test,y_test_preds[name][1], k=5)\n",
    "    \n",
    "    #ADD LOGLOSS\n",
    "    #ADD F1 MULTICLASS AND ROC AUC\n",
    "    logloss = log_loss(y_test,y_test_preds[name][1])\n",
    "    f1 = f1_score(y_test, y_test_preds[name][0], average='macro')\n",
    "    \n",
    "    \n",
    "    print(name)\n",
    "    print('Accuracy:', acc, '\\t Top 5 Accuracy:', t5_acc)\n",
    "    print('LogLoss:',logloss, '\\t F1:',f1,'\\n')\n",
    "    \n",
    "    "
   ]
  },
  {
   "cell_type": "markdown",
   "metadata": {},
   "source": [
    "### Model Tuning\n",
    "\n",
    "#### RF and Gradient Boosting"
   ]
  },
  {
   "cell_type": "code",
   "execution_count": null,
   "metadata": {},
   "outputs": [],
   "source": [
    "# gridsearch cv\n",
    "# randomsearch cv"
   ]
  },
  {
   "cell_type": "markdown",
   "metadata": {},
   "source": [
    "### Searching for New Genres via Clustering\n",
    "\n",
    "#### K-means"
   ]
  },
  {
   "cell_type": "code",
   "execution_count": null,
   "metadata": {},
   "outputs": [],
   "source": [
    "# kmeans\n",
    "# tuning via elbow method, show elbow for best n number of clusters"
   ]
  },
  {
   "cell_type": "markdown",
   "metadata": {},
   "source": [
    "#### Mapping New 'Genres' Back to Original Data"
   ]
  },
  {
   "cell_type": "code",
   "execution_count": null,
   "metadata": {},
   "outputs": [],
   "source": []
  },
  {
   "cell_type": "code",
   "execution_count": null,
   "metadata": {},
   "outputs": [],
   "source": [
    "#final_newgen.to_csv(path_or_buf = './final/final_newGen.csv', index = False)"
   ]
  }
 ],
 "metadata": {
  "kernelspec": {
   "display_name": "Python 3",
   "language": "python",
   "name": "python3"
  },
  "language_info": {
   "codemirror_mode": {
    "name": "ipython",
    "version": 3
   },
   "file_extension": ".py",
   "mimetype": "text/x-python",
   "name": "python",
   "nbconvert_exporter": "python",
   "pygments_lexer": "ipython3",
   "version": "3.7.6"
  }
 },
 "nbformat": 4,
 "nbformat_minor": 4
}
