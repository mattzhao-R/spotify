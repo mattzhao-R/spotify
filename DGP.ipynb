{
 "cells": [
  {
   "cell_type": "code",
   "execution_count": 1,
   "metadata": {},
   "outputs": [],
   "source": [
    "import numpy as np\n",
    "import pandas as pd\n",
    "import warnings\n",
    "warnings.filterwarnings('ignore')\n",
    "from collections import Counter\n",
    "from tqdm.notebook import tqdm\n",
    "\n",
    "\n",
    "import json\n",
    "import os\n",
    "import time\n",
    "import csv\n",
    "\n",
    "from objects import song_artist\n",
    "from parallelization import parallel\n",
    "from methods import table_noGen\n",
    "from methods import table_artGen\n",
    "\n",
    "import multiprocessing\n",
    "from joblib import Parallel, delayed\n",
    "\n",
    "import spotipy\n",
    "from spotipy.oauth2 import SpotifyClientCredentials\n",
    "\n",
    "import matplotlib.pyplot as plt\n",
    "plt.rc('font', size=14)\n",
    "import seaborn as sns\n",
    "sns.set(style='whitegrid', color_codes=True, rc={'figure.figsize':(11,8)}, font_scale=2)"
   ]
  },
  {
   "cell_type": "code",
   "execution_count": 2,
   "metadata": {},
   "outputs": [],
   "source": [
    "#os.chdir('/c/Users/matth/Documents/Coding/spotify/')"
   ]
  },
  {
   "cell_type": "code",
   "execution_count": 3,
   "metadata": {},
   "outputs": [],
   "source": [
    "#!pwd"
   ]
  },
  {
   "cell_type": "markdown",
   "metadata": {},
   "source": [
    "## Data Generation Process for Spotify Genres Project\n",
    "### Initial Data Importation and Prep"
   ]
  },
  {
   "cell_type": "code",
   "execution_count": 4,
   "metadata": {},
   "outputs": [],
   "source": [
    "# read streaming data and concat rows\n",
    "strm_base = pd.DataFrame()\n",
    "for file in os.listdir(\"./data\"):\n",
    "    if file.startswith(\"Streaming\"):\n",
    "        file_path = \"./data/\" + file\n",
    "        temp = pd.read_json(file_path)\n",
    "        strm_base = pd.concat([strm_base,temp])\n",
    "        \n",
    "\n",
    "strm_base.index = range(0,strm_base.shape[0])\n",
    "strm_base = strm_base.astype({'endTime': 'datetime64','artistName':'string','trackName':'string'})"
   ]
  },
  {
   "cell_type": "code",
   "execution_count": 5,
   "metadata": {},
   "outputs": [],
   "source": [
    "# adding song_artist object in preparation for parallel feature addition\n",
    "strm_base['song_artist'] = strm_base.apply(lambda x: song_artist(x['trackName'], x['artistName']), axis=1)\n",
    "data = strm_base['song_artist'].tolist()"
   ]
  },
  {
   "cell_type": "code",
   "execution_count": 6,
   "metadata": {},
   "outputs": [],
   "source": [
    "cols = ['track_id', 'danceability','energy', 'key', 'loudness', 'mode',\n",
    "        'speechiness', 'acousticness', 'instrumentalness', 'liveness',\n",
    "        'valence', 'tempo', 'duration_ms', 'time_signature']"
   ]
  },
  {
   "cell_type": "code",
   "execution_count": 7,
   "metadata": {},
   "outputs": [],
   "source": [
    "file = open('./modified/feats_table.csv', 'w')\n",
    "writer = csv.writer(file)\n",
    "writer.writerow(cols)\n",
    "file.close()"
   ]
  },
  {
   "cell_type": "markdown",
   "metadata": {},
   "source": [
    "### Parallelized Audio Features"
   ]
  },
  {
   "cell_type": "code",
   "execution_count": null,
   "metadata": {},
   "outputs": [
    {
     "name": "stderr",
     "output_type": "stream",
     "text": [
      "HTTP Error for GET to https://api.spotify.com/v1/search with Params: {'q': 'The Restructuring of the LCS Players Association feat. Jacob Wolf FTW with Imad Khan: An Esports and Competitive Gaming Podcast', 'limit': 10, 'offset': 0, 'type': 'track', 'market': None} returned 404 due to Not found.\n",
      "HTTP Error for GET to https://api.spotify.com/v1/search with Params: {'q': 'The Significance of the Sinatraa Suspension feat. Hunter Cooke FTW with Imad Khan: An Esports and Competitive Gaming Podcast', 'limit': 10, 'offset': 0, 'type': 'track', 'market': None} returned 404 due to Not found.\n",
      "HTTP Error for GET to https://api.spotify.com/v1/search with Params: {'q': 'The Restructuring of the LCS Players Association feat. Jacob Wolf FTW with Imad Khan: An Esports and Competitive Gaming Podcast', 'limit': 10, 'offset': 0, 'type': 'track', 'market': None} returned 404 due to Not found.\n",
      "HTTP Error for GET to https://api.spotify.com/v1/search with Params: {'q': 'Crazy Noisy Bizarre Town (From \"Jojo\\'s Bizarre Adventure: Diamond Is Unbreakable\") [feat. Skully Tun] Chipmusic Heroes', 'limit': 10, 'offset': 0, 'type': 'track', 'market': None} returned 404 due to Not found.\n",
      "HTTP Error for GET to https://api.spotify.com/v1/search with Params: {'q': 'Steffen Murau on the Eurozone, International Monetary Architecture, and the Future of the Dollar Zone Macro Musings with David Beckworth', 'limit': 10, 'offset': 0, 'type': 'track', 'market': None} returned 404 due to Not found.\n",
      "HTTP Error for GET to https://api.spotify.com/v1/search with Params: {'q': 'Crazy Noisy Bizarre Town (From \"Jojo\\'s Bizarre Adventure: Diamond Is Unbreakable\") [feat. Skully Tun] Chipmusic Heroes', 'limit': 10, 'offset': 0, 'type': 'track', 'market': None} returned 404 due to Not found.\n",
      "HTTP Error for GET to https://api.spotify.com/v1/search with Params: {'q': 'Crazy Noisy Bizarre Town (From \"Jojo\\'s Bizarre Adventure: Diamond Is Unbreakable\") [feat. Skully Tun] Chipmusic Heroes', 'limit': 10, 'offset': 0, 'type': 'track', 'market': None} returned 404 due to Not found.\n"
     ]
    }
   ],
   "source": [
    "start_time = time.time()\n",
    "\n",
    "parallel(data,table_noGen)\n",
    "\n",
    "print(\"Table creation took\", time.time()-start_time, \"to run\") # "
   ]
  },
  {
   "cell_type": "code",
   "execution_count": null,
   "metadata": {},
   "outputs": [],
   "source": [
    "feats_table = pd.read_csv('./modified/feats_table.csv')\n",
    "print(feats_table.shape[0] == strm_base.shape[0])\n",
    "print(feats_table.index == strm_base.index)"
   ]
  },
  {
   "cell_type": "code",
   "execution_count": null,
   "metadata": {},
   "outputs": [],
   "source": [
    "feats_table.info()"
   ]
  },
  {
   "cell_type": "code",
   "execution_count": null,
   "metadata": {},
   "outputs": [],
   "source": [
    "feats_table.index = range(0,feats_table.shape[0])\n",
    "temp = pd.concat([strm_base,feats_table], axis = 0)"
   ]
  },
  {
   "cell_type": "code",
   "execution_count": null,
   "metadata": {},
   "outputs": [],
   "source": []
  },
  {
   "cell_type": "markdown",
   "metadata": {},
   "source": [
    "### Imputing Artist Genres"
   ]
  },
  {
   "cell_type": "code",
   "execution_count": null,
   "metadata": {},
   "outputs": [],
   "source": [
    "art_names = temp['artistName'].unique().tolist()\n",
    "temp['genre'] = temp['artistName']"
   ]
  },
  {
   "cell_type": "code",
   "execution_count": null,
   "metadata": {},
   "outputs": [],
   "source": [
    "start_time = time.time()\n",
    "\n",
    "artGen_dict = {artist: table_artGen(artist) for artist in art_names}\n",
    "\n",
    "print(\"My program took\", time.time() - start_time, \"to run\") # "
   ]
  },
  {
   "cell_type": "code",
   "execution_count": null,
   "metadata": {},
   "outputs": [],
   "source": [
    "temp['genre'].replace(artGen_dict, inplace=True)"
   ]
  },
  {
   "cell_type": "code",
   "execution_count": null,
   "metadata": {},
   "outputs": [],
   "source": [
    "temp.info()"
   ]
  },
  {
   "cell_type": "markdown",
   "metadata": {},
   "source": [
    "### Exporting Final Table"
   ]
  },
  {
   "cell_type": "code",
   "execution_count": null,
   "metadata": {},
   "outputs": [],
   "source": [
    "final = temp.dropna()"
   ]
  },
  {
   "cell_type": "code",
   "execution_count": null,
   "metadata": {},
   "outputs": [],
   "source": [
    "final.to_csv(path_or_buf = './final/final_table.csv', index = False)"
   ]
  }
 ],
 "metadata": {
  "kernelspec": {
   "display_name": "Python 3",
   "language": "python",
   "name": "python3"
  },
  "language_info": {
   "codemirror_mode": {
    "name": "ipython",
    "version": 3
   },
   "file_extension": ".py",
   "mimetype": "text/x-python",
   "name": "python",
   "nbconvert_exporter": "python",
   "pygments_lexer": "ipython3",
   "version": "3.7.6"
  }
 },
 "nbformat": 4,
 "nbformat_minor": 4
}
